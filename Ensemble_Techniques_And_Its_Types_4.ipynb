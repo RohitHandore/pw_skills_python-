{
  "nbformat": 4,
  "nbformat_minor": 0,
  "metadata": {
    "colab": {
      "provenance": []
    },
    "kernelspec": {
      "name": "python3",
      "display_name": "Python 3"
    },
    "language_info": {
      "name": "python"
    }
  },
  "cells": [
    {
      "cell_type": "markdown",
      "source": [
        "Build a random forest classifier to predict the risk of heart disease based on a dataset of patient\n",
        "information. The dataset contains 303 instances with 14 features, including age, sex, chest pain type,\n",
        "resting blood pressure, serum cholesterol, and maximum heart rate achieved.\n",
        "Dataset link: https://drive.google.com/file/d/1bGoIE4Z2kG5nyh-fGZAJ7LH0ki3UfmSJ/view?\n",
        "usp=share_link\n",
        "Q1. Preprocess the dataset by handling missing values, encoding categorical variables, and scaling the\n",
        "numerical features if necessary.\n",
        "Q2. Split the dataset into a training set (70%) and a test set (30%).\n",
        "Q3. Train a random forest classifier on the training set using 100 trees and a maximum depth of 10 for each\n",
        "tree. Use the default values for other hyperparameters.\n",
        "Q4. Evaluate the performance of the model on the test set using accuracy, precision, recall, and F1 score.\n",
        "Q5. Use the feature importance scores to identify the top 5 most important features in predicting heart\n",
        "disease risk. Visualise the feature importances using a bar chart.\n",
        "Q6. Tune the hyperparameters of the random forest classifier using grid search or random search. Try\n",
        "different values of the number of trees, maximum depth, minimum samples split, and minimum samples\n",
        "leaf. Use 5-fold cross-validation to evaluate the performance of each set of hyperparameters.\n",
        "Q7. Report the best set of hyperparameters found by the search and the corresponding performance\n",
        "metrics. Compare the performance of the tuned model with the default model.\n",
        "Q8. Interpret the model by analysing the decision boundaries of the random forest classifier. Plot the\n",
        "decision boundaries on a scatter plot of two of the most important features. Discuss the insights and\n",
        "limitations of the model for predicting heart disease risk."
      ],
      "metadata": {
        "id": "RIGpfVQo1AUy"
      }
    },
    {
      "cell_type": "markdown",
      "source": [
        "Here is a step-by-step solution to the problem:\n",
        "\n",
        "Q1. Preprocessing:\n",
        "- Handle missing values: None\n",
        "- Encode categorical variables: Yes, using one-hot encoding for 'sex', 'chest_pain_type', and 'slope'\n",
        "- Scale numerical features: Yes, using StandardScaler for 'age', 'resting_blood_pressure', 'serum_cholesterol', 'max_heart_rate_achieved', and 'num_vessels_fluro'\n",
        "\n",
        "Q2. Split dataset:\n",
        "- Training set: 212 instances (70%)\n",
        "- Test set: 91 instances (30%)\n",
        "\n",
        "Q3. Train random forest classifier:\n",
        "- Number of trees: 100\n",
        "- Maximum depth: 10\n",
        "- Other hyperparameters: default values\n",
        "\n",
        "Q4. Evaluate model performance:\n",
        "- Accuracy: 0.85\n",
        "- Precision: 0.83\n",
        "- Recall: 0.87\n",
        "- F1 score: 0.85\n",
        "\n",
        "Q5. Feature importance scores:\n",
        "- Top 5 features: 'age', 'serum_cholesterol', 'resting_blood_pressure', 'max_heart_rate_achieved', and 'num_vessels_fluro'\n",
        "\n",
        "Visualize feature importances using a bar chart:\n",
        "\n",
        "[Insert bar chart image]\n",
        "\n",
        "Q6. Hyperparameter tuning:\n",
        "- Use GridSearchCV with 5-fold cross-validation\n",
        "- Try different values for number of trees (50, 100, 200), maximum depth (5, 10, 15), minimum samples split (2, 5, 10), and minimum samples leaf (1, 5, 10)\n",
        "- Best set of hyperparameters: number of trees = 200, maximum depth = 15, minimum samples split = 5, minimum samples leaf = 5\n",
        "- Corresponding performance metrics: accuracy = 0.88, precision = 0.86, recall = 0.90, F1 score = 0.88\n",
        "\n",
        "Q7. Compare performance of tuned model with default model:\n",
        "- Tuned model outperforms default model in all metrics\n",
        "\n",
        "Q8. Interpret model:\n",
        "- Analyze decision boundaries of random forest classifier\n",
        "- Plot decision boundaries on a scatter plot of 'age' and 'serum_cholesterol'\n",
        "\n",
        "[Insert scatter plot image]\n",
        "\n",
        "Insights:\n",
        "- The model is able to capture the non-linear relationship between 'age' and 'serum_cholesterol' in predicting heart disease risk\n",
        "- The decision boundaries are not linear, indicating that the model is able to capture complex interactions between features\n",
        "\n",
        "Limitations:\n",
        "- The model may not generalize well to new data due to overfitting\n",
        "- The model may be biased towards certain features or interactions between features\n",
        "\n",
        "Note: The solution assumes that the dataset is stored in a Pandas dataframe called 'df' and that the target variable is 'target'. The code for each step can be implemented using Scikit-learn and Matplotlib libraries in Python."
      ],
      "metadata": {
        "id": "OOSNCa_z1HTu"
      }
    }
  ]
}