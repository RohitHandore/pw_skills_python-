{
  "nbformat": 4,
  "nbformat_minor": 0,
  "metadata": {
    "colab": {
      "provenance": []
    },
    "kernelspec": {
      "name": "python3",
      "display_name": "Python 3"
    },
    "language_info": {
      "name": "python"
    }
  },
  "cells": [
    {
      "cell_type": "markdown",
      "source": [
        "Q1. **Probability Density Function (PDF)**:\n",
        "   - The Probability Density Function (PDF) is a function that describes the likelihood of a continuous random variable taking on a particular value. It represents the probability distribution of the variable.\n",
        "   - Unlike the probability mass function (PMF) used for discrete random variables, the PDF does not directly give the probability of a specific value but provides the relative likelihood of the variable being within a range of values.\n",
        "   - The area under the PDF curve within a given interval represents the probability that the variable falls within that interval.\n",
        "\n",
        "Q2. **Types of Probability Distribution**:\n",
        "   - Normal Distribution\n",
        "   - Binomial Distribution\n",
        "   - Poisson Distribution\n",
        "   - Exponential Distribution\n",
        "   - Uniform Distribution\n",
        "   - Gamma Distribution\n",
        "   - Beta Distribution\n",
        "\n",
        "Q3. **Python Function for PDF of Normal Distribution**:\n",
        "```python\n",
        "import numpy as np\n",
        "import scipy.stats as stats\n",
        "\n",
        "def normal_pdf(x, mean, std_dev):\n",
        "    return stats.norm.pdf(x, mean, std_dev)\n",
        "\n",
        "# Example usage:\n",
        "x = 2.5\n",
        "mean = 3\n",
        "std_dev = 1.5\n",
        "pdf_value = normal_pdf(x, mean, std_dev)\n",
        "print(\"PDF at x =\", x, \":\", pdf_value)\n",
        "```\n",
        "\n",
        "Q4. **Properties of Binomial Distribution**:\n",
        "   - Consists of a fixed number of independent Bernoulli trials (success/failure experiments).\n",
        "   - Each trial has only two possible outcomes: success (with probability p) or failure (with probability 1-p).\n",
        "   - The probability of success (p) remains constant across all trials.\n",
        "   - The number of successes (k) in n trials follows a binomial distribution.\n",
        "   - Examples: Coin tosses (heads or tails), pass or fail outcomes in an exam.\n",
        "\n",
        "Q5. **Generate Random Sample from Binomial Distribution and Plot Histogram**:\n",
        "```python\n",
        "import numpy as np\n",
        "import matplotlib.pyplot as plt\n",
        "\n",
        "# Generate random sample\n",
        "sample = np.random.binomial(n=100, p=0.4, size=1000)\n",
        "\n",
        "# Plot histogram\n",
        "plt.hist(sample, bins=20, density=True, color='skyblue', edgecolor='black')\n",
        "plt.title('Histogram of Binomial Distribution')\n",
        "plt.xlabel('Number of Successes')\n",
        "plt.ylabel('Probability Density')\n",
        "plt.show()\n",
        "```\n",
        "\n",
        "I'll continue with the remaining questions in the next response. Let me know if you need anything else!"
      ],
      "metadata": {
        "id": "HtHLBriTKhFI"
      }
    }
  ]
}