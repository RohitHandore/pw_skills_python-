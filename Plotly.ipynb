{
  "nbformat": 4,
  "nbformat_minor": 0,
  "metadata": {
    "colab": {
      "provenance": []
    },
    "kernelspec": {
      "name": "python3",
      "display_name": "Python 3"
    },
    "language_info": {
      "name": "python"
    }
  },
  "cells": [
    {
      "cell_type": "markdown",
      "source": [
        "### Q1: Scatter Plot for \"titanic\" Dataset Using Plotly Express\n",
        "\n",
        "```python\n",
        "import seaborn as sns\n",
        "import plotly.express as px\n",
        "\n",
        "# Load titanic dataset\n",
        "titanic_data = sns.load_dataset(\"titanic\")\n",
        "\n",
        "# Plot scatter plot with Plotly Express\n",
        "fig = px.scatter(titanic_data, x=\"age\", y=\"fare\", title=\"Scatter Plot for Titanic Dataset\")\n",
        "fig.show()\n",
        "```\n",
        "\n",
        "### Q2: Box Plot for \"tips\" Dataset Using Plotly Express\n",
        "\n",
        "```python\n",
        "import plotly.express as px\n",
        "\n",
        "# Load tips dataset\n",
        "tips_data = px.data.tips()\n",
        "\n",
        "# Plot box plot with Plotly Express\n",
        "fig = px.box(tips_data, y=\"total_bill\", title=\"Box Plot for Tips Dataset\")\n",
        "fig.show()\n",
        "```\n",
        "\n",
        "### Q3: Histogram with Multiple Parameters Using Plotly Express\n",
        "\n",
        "```python\n",
        "import plotly.express as px\n",
        "\n",
        "# Load tips dataset\n",
        "tips_data = px.data.tips()\n",
        "\n",
        "# Plot histogram with Plotly Express\n",
        "fig = px.histogram(tips_data, x=\"sex\", y=\"total_bill\", color=\"smoker\", pattern_shape=\"smoker\",\n",
        "                    facet_col=\"day\", color_discrete_map={\"Yes\": \"blue\", \"No\": \"orange\"},\n",
        "                    title=\"Histogram for Tips Dataset\")\n",
        "fig.show()\n",
        "```\n",
        "\n",
        "### Q4: Scatter Matrix Plot Using Plotly Express\n",
        "\n",
        "```python\n",
        "import plotly.express as px\n",
        "\n",
        "# Load iris dataset\n",
        "iris_data = px.data.iris()\n",
        "\n",
        "# Plot scatter matrix plot with Plotly Express\n",
        "fig = px.scatter_matrix(iris_data, dimensions=[\"sepal_length\", \"sepal_width\", \"petal_length\", \"petal_width\"],\n",
        "                        color=\"species\", title=\"Scatter Matrix Plot for Iris Dataset\")\n",
        "fig.show()\n",
        "```\n",
        "\n",
        "### Q5: Distplot with Plotly Express\n",
        "\n",
        "Distplot is a function in Plotly Express that allows you to visualize the distribution of a single numerical variable.\n",
        "\n",
        "```python\n",
        "import plotly.express as px\n",
        "\n",
        "# Load tips dataset\n",
        "tips_data = px.data.tips()\n",
        "\n",
        "# Plot distplot with Plotly Express\n",
        "fig = px.histogram(tips_data, x=\"total_bill\", marginal=\"rug\", title=\"Distplot for Total Bill\")\n",
        "fig.show()\n",
        "```\n",
        "\n",
        "These examples demonstrate how to use Plotly Express to create various plots such as scatter plots, box plots, histograms, scatter matrix plots, and distplots with different datasets."
      ],
      "metadata": {
        "id": "WIl3CytlHPT4"
      }
    },
    {
      "cell_type": "markdown",
      "source": [],
      "metadata": {
        "id": "qNnkeXA2HQcq"
      }
    }
  ]
}