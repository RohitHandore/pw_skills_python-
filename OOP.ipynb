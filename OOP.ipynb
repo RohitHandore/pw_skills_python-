{
  "nbformat": 4,
  "nbformat_minor": 0,
  "metadata": {
    "colab": {
      "provenance": []
    },
    "kernelspec": {
      "name": "python3",
      "display_name": "Python 3"
    },
    "language_info": {
      "name": "python"
    }
  },
  "cells": [
    {
      "cell_type": "markdown",
      "source": [
        "Q1. Explain Class and Object with respect to Object-Oriented Programming. Give a suitable example."
      ],
      "metadata": {
        "id": "vKFEp3usJuBt"
      }
    },
    {
      "cell_type": "markdown",
      "source": [
        "In object-oriented programming (OOP), a class is a blueprint for creating objects (instances), while an object is an instance of a class.\n",
        "\n",
        "- **Class**: A class is a template or blueprint that defines the properties (attributes) and behaviors (methods) that objects of the class will have. It encapsulates data for the object and provides methods to operate on that data. In simpler terms, a class is a way to organize related functions and data into a single unit.\n",
        "\n",
        "- **Object**: An object is an instance of a class. It is a concrete realization of the class blueprint, with its own unique data and state. Objects can call the methods defined in their class and manipulate their own data.\n",
        "\n",
        "Here's an example to illustrate the concept:\n",
        "\n",
        "```python\n",
        "# Define a class called 'Car'\n",
        "class Car:\n",
        "    # Constructor to initialize the attributes\n",
        "    def __init__(self, make, model, year):\n",
        "        self.make = make\n",
        "        self.model = model\n",
        "        self.year = year\n",
        "        self.is_started = False\n",
        "    \n",
        "    # Method to start the car\n",
        "    def start(self):\n",
        "        if not self.is_started:\n",
        "            print(f\"{self.make} {self.model} ({self.year}) is starting...\")\n",
        "            self.is_started = True\n",
        "        else:\n",
        "            print(\"The car is already started.\")\n",
        "    \n",
        "    # Method to stop the car\n",
        "    def stop(self):\n",
        "        if self.is_started:\n",
        "            print(f\"{self.make} {self.model} ({self.year}) is stopping...\")\n",
        "            self.is_started = False\n",
        "        else:\n",
        "            print(\"The car is already stopped.\")\n",
        "\n",
        "# Create objects of class Car\n",
        "car1 = Car(\"Toyota\", \"Camry\", 2020)\n",
        "car2 = Car(\"Honda\", \"Accord\", 2018)\n",
        "\n",
        "# Using the objects\n",
        "car1.start()  # Output: Toyota Camry (2020) is starting...\n",
        "car2.start()  # Output: Honda Accord (2018) is starting...\n",
        "car1.stop()   # Output: Toyota Camry (2020) is stopping...\n",
        "car2.stop()   # Output: Honda Accord (2018) is stopping...\n",
        "```\n",
        "\n",
        "In this example:\n",
        "- `Car` is a class that represents the blueprint for creating cars. It has attributes (`make`, `model`, `year`) and methods (`start`, `stop`).\n",
        "- `car1` and `car2` are objects (instances) of the `Car` class. They have their own data (make, model, year) and can perform actions (start, stop) defined in the class."
      ],
      "metadata": {
        "id": "Jqj-xbIzJu0k"
      }
    },
    {
      "cell_type": "markdown",
      "source": [
        "Q2. Name the four pillars of OOPs."
      ],
      "metadata": {
        "id": "NOG17Wb5J7ND"
      }
    },
    {
      "cell_type": "markdown",
      "source": [
        "The four pillars of Object-Oriented Programming (OOP) are:\n",
        "\n",
        "1. **Encapsulation**: Encapsulation is the bundling of data (attributes) and methods that operate on the data into a single unit (class). It hides the internal state of an object from the outside world and only exposes necessary functionality. This helps in data hiding and prevents direct access to the data, ensuring that it is accessed and modified only through well-defined methods.\n",
        "\n",
        "2. **Abstraction**: Abstraction refers to the process of hiding the complex implementation details and showing only the essential features of an object. It allows us to focus on what an object does, rather than how it does it. Abstract classes and interfaces provide a way to define common behavior without specifying the implementation details.\n",
        "\n",
        "3. **Inheritance**: Inheritance is a mechanism by which a new class (subclass or derived class) is created from an existing class (superclass or base class), inheriting its properties and behaviors. It promotes code reusability and allows the subclass to extend or override the functionality of the superclass. Inheritance establishes an \"is-a\" relationship between classes.\n",
        "\n",
        "4. **Polymorphism**: Polymorphism allows objects of different classes to be treated as objects of a common superclass. It enables the same method name to behave differently based on the object that calls it. Polymorphism can be achieved through method overriding (runtime polymorphism) or method overloading (compile-time polymorphism). Polymorphism enhances flexibility and extensibility in the code."
      ],
      "metadata": {
        "id": "AymZb6jGJz4Z"
      }
    },
    {
      "cell_type": "markdown",
      "source": [
        "Q3. Explain why the __init__() function is used. Give a suitable example."
      ],
      "metadata": {
        "id": "DAKPyAW4J-NY"
      }
    },
    {
      "cell_type": "markdown",
      "source": [
        "The `__init__()` function in Python is a special method used for initializing objects of a class. It is called automatically when a new object is created. The purpose of `__init__()` is to initialize the attributes of the object to their initial state.\n",
        "\n",
        "Here's why `__init__()` is used:\n",
        "\n",
        "1. **Attribute Initialization**: It allows you to initialize the attributes of an object with specific values. This ensures that the object starts with the desired state.\n",
        "\n",
        "2. **Constructor Function**: `__init__()` acts as a constructor for the class. It is the first method called when an object is created, and it prepares the object for use by setting initial values or performing any necessary setup.\n",
        "\n",
        "3. **Parameter Passing**: You can pass parameters to `__init__()` to customize the initialization of objects. This allows flexibility in object creation and enables different objects to be initialized with different initial values.\n",
        "\n",
        "Here's an example to illustrate the use of `__init__()`:\n",
        "\n",
        "```python\n",
        "class Car:\n",
        "    def __init__(self, make, model, year):\n",
        "        self.make = make\n",
        "        self.model = model\n",
        "        self.year = year\n",
        "        self.is_started = False\n",
        "    \n",
        "    def start(self):\n",
        "        if not self.is_started:\n",
        "            print(f\"{self.make} {self.model} ({self.year}) is starting...\")\n",
        "            self.is_started = True\n",
        "        else:\n",
        "            print(\"The car is already started.\")\n",
        "    \n",
        "    def stop(self):\n",
        "        if self.is_started:\n",
        "            print(f\"{self.make} {self.model} ({self.year}) is stopping...\")\n",
        "            self.is_started = False\n",
        "        else:\n",
        "            print(\"The car is already stopped.\")\n",
        "\n",
        "# Creating objects of class Car\n",
        "car1 = Car(\"Toyota\", \"Camry\", 2020)\n",
        "car2 = Car(\"Honda\", \"Accord\", 2018)\n",
        "\n",
        "# Using the objects\n",
        "car1.start()  # Output: Toyota Camry (2020) is starting...\n",
        "car2.start()  # Output: Honda Accord (2018) is starting...\n",
        "car1.stop()   # Output: Toyota Camry (2020) is stopping...\n",
        "car2.stop()   # Output: Honda Accord (2018) is stopping...\n",
        "```\n",
        "\n",
        "In this example, the `__init__()` method initializes the attributes `make`, `model`, `year`, and `is_started` of the `Car` class objects when they are created."
      ],
      "metadata": {
        "id": "SCMWZc9lKE7H"
      }
    },
    {
      "cell_type": "markdown",
      "source": [
        "Q4. Why self is used in OOPs?"
      ],
      "metadata": {
        "id": "RoOGJUuQKG0t"
      }
    },
    {
      "cell_type": "markdown",
      "source": [
        "In object-oriented programming (OOP), `self` is used to refer to the instance of the class itself. It is a reference to the current object being operated on within a class method.\n",
        "\n",
        "Here's why `self` is used in OOP:\n",
        "\n",
        "1. **Accessing Instance Variables**: Within a class method, `self` is used to access instance variables (attributes) of the object. It allows methods to refer to the specific object's data.\n",
        "\n",
        "2. **Calling Other Methods**: `self` is used to call other methods within the same class. It ensures that the correct instance method is called for the current object.\n",
        "\n",
        "3. **Passing the Instance to Methods**: When a method is called on an object, the object itself is automatically passed as the first argument. By convention, this first parameter is named `self`.\n",
        "\n",
        "4. **Creating and Manipulating Instance Attributes**: `self` is used to create and manipulate instance attributes. It allows methods to modify the state of the object.\n",
        "\n",
        "5. **Maintaining Object State**: `self` helps maintain the state of the object throughout its lifetime. It ensures that the object's data is scoped correctly and is not affected by changes in other objects.\n",
        "\n",
        "Here's an example to illustrate the use of `self`:\n",
        "\n",
        "```python\n",
        "class Car:\n",
        "    def __init__(self, make, model, year):\n",
        "        self.make = make\n",
        "        self.model = model\n",
        "        self.year = year\n",
        "        self.is_started = False\n",
        "    \n",
        "    def start(self):\n",
        "        if not self.is_started:\n",
        "            print(f\"{self.make} {self.model} ({self.year}) is starting...\")\n",
        "            self.is_started = True\n",
        "        else:\n",
        "            print(\"The car is already started.\")\n",
        "    \n",
        "    def stop(self):\n",
        "        if self.is_started:\n",
        "            print(f\"{self.make} {self.model} ({self.year}) is stopping...\")\n",
        "            self.is_started = False\n",
        "        else:\n",
        "            print(\"The car is already stopped.\")\n",
        "\n",
        "# Creating objects of class Car\n",
        "car1 = Car(\"Toyota\", \"Camry\", 2020)\n",
        "car2 = Car(\"Honda\", \"Accord\", 2018)\n",
        "\n",
        "# Using the objects\n",
        "car1.start()  # Output: Toyota Camry (2020) is starting...\n",
        "car2.start()  # Output: Honda Accord (2018) is starting...\n",
        "car1.stop()   # Output: Toyota Camry (2020) is stopping...\n",
        "car2.stop()   # Output: Honda Accord (2018) is stopping...\n",
        "```\n",
        "\n",
        "In this example, `self` is used within the class `Car` to access and manipulate instance variables (`make`, `model`, `year`, `is_started`). It ensures that the methods operate on the correct instance of the class."
      ],
      "metadata": {
        "id": "AFy-1XPEKKxs"
      }
    },
    {
      "cell_type": "markdown",
      "source": [
        "Q5. What is inheritance? Give an example for each type of inheritance."
      ],
      "metadata": {
        "id": "uBa6q7UEKN7h"
      }
    },
    {
      "cell_type": "markdown",
      "source": [
        "Inheritance is a fundamental concept in object-oriented programming (OOP) where a new class (subclass) is created based on an existing class (superclass). The subclass inherits attributes and methods from the superclass, allowing for code reuse and the creation of hierarchical relationships between classes.\n",
        "\n",
        "There are different types of inheritance:\n",
        "\n",
        "1. **Single Inheritance**: In single inheritance, a subclass inherits from only one superclass.\n",
        "\n",
        "2. **Multiple Inheritance**: In multiple inheritance, a subclass inherits from multiple superclasses.\n",
        "\n",
        "3. **Multilevel Inheritance**: In multilevel inheritance, a subclass inherits from another subclass, creating a chain of inheritance.\n",
        "\n",
        "4. **Hierarchical Inheritance**: In hierarchical inheritance, multiple subclasses inherit from the same superclass.\n",
        "\n",
        "Here are examples for each type of inheritance:\n",
        "\n",
        "### 1. Single Inheritance:\n",
        "```python\n",
        "# Single Inheritance example\n",
        "class Animal:\n",
        "    def sound(self):\n",
        "        print(\"Some sound\")\n",
        "\n",
        "class Dog(Animal):\n",
        "    def sound(self):\n",
        "        print(\"Woof\")\n",
        "\n",
        "# Creating objects\n",
        "animal = Animal()\n",
        "dog = Dog()\n",
        "\n",
        "# Using objects\n",
        "animal.sound()  # Output: Some sound\n",
        "dog.sound()     # Output: Woof\n",
        "```\n",
        "\n",
        "### 2. Multiple Inheritance:\n",
        "```python\n",
        "# Multiple Inheritance example\n",
        "class A:\n",
        "    def method_a(self):\n",
        "        print(\"Method A\")\n",
        "\n",
        "class B:\n",
        "    def method_b(self):\n",
        "        print(\"Method B\")\n",
        "\n",
        "class C(A, B):\n",
        "    def method_c(self):\n",
        "        print(\"Method C\")\n",
        "\n",
        "# Creating object\n",
        "c = C()\n",
        "\n",
        "# Using object\n",
        "c.method_a()  # Output: Method A\n",
        "c.method_b()  # Output: Method B\n",
        "c.method_c()  # Output: Method C\n",
        "```\n",
        "\n",
        "### 3. Multilevel Inheritance:\n",
        "```python\n",
        "# Multilevel Inheritance example\n",
        "class A:\n",
        "    def method_a(self):\n",
        "        print(\"Method A\")\n",
        "\n",
        "class B(A):\n",
        "    def method_b(self):\n",
        "        print(\"Method B\")\n",
        "\n",
        "class C(B):\n",
        "    def method_c(self):\n",
        "        print(\"Method C\")\n",
        "\n",
        "# Creating object\n",
        "c = C()\n",
        "\n",
        "# Using object\n",
        "c.method_a()  # Output: Method A\n",
        "c.method_b()  # Output: Method B\n",
        "c.method_c()  # Output: Method C\n",
        "```\n",
        "\n",
        "### 4. Hierarchical Inheritance:\n",
        "```python\n",
        "# Hierarchical Inheritance example\n",
        "class Animal:\n",
        "    def sound(self):\n",
        "        print(\"Some sound\")\n",
        "\n",
        "class Dog(Animal):\n",
        "    def sound(self):\n",
        "        print(\"Woof\")\n",
        "\n",
        "class Cat(Animal):\n",
        "    def sound(self):\n",
        "        print(\"Meow\")\n",
        "\n",
        "# Creating objects\n",
        "animal = Animal()\n",
        "dog = Dog()\n",
        "cat = Cat()\n",
        "\n",
        "# Using objects\n",
        "animal.sound()  # Output: Some sound\n",
        "dog.sound()     # Output: Woof\n",
        "cat.sound()     # Output: Meow\n",
        "```\n",
        "\n",
        "These examples demonstrate different types of inheritance and how subclasses inherit attributes and methods from their superclasses."
      ],
      "metadata": {
        "id": "YuKRwiXVKSbR"
      }
    }
  ]
}