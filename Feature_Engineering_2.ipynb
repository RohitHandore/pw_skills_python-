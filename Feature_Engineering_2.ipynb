{
  "nbformat": 4,
  "nbformat_minor": 0,
  "metadata": {
    "colab": {
      "provenance": []
    },
    "kernelspec": {
      "name": "python3",
      "display_name": "Python 3"
    },
    "language_info": {
      "name": "python"
    }
  },
  "cells": [
    {
      "cell_type": "markdown",
      "source": [
        "Q1. What is the Filter method in feature selection, and how does it work?\n",
        "\n",
        "Q2. How does the Wrapper method differ from the Filter method in feature selection?\n",
        "\n",
        "Q3. What are some common techniques used in Embedded feature selection methods?\n",
        "\n",
        "Q4. What are some drawbacks of using the Filter method for feature selection?\n",
        "\n",
        "Q5. In which situations would you prefer using the Filter method over the Wrapper method for feature\n",
        "selection?\n",
        "\n",
        "Q6. In a telecom company, you are working on a project to develop a predictive model for customer churn.\n",
        "You are unsure of which features to include in the model because the dataset contains several different\n",
        "ones. Describe how you would choose the most pertinent attributes for the model using the Filter Method.\n",
        "\n",
        "Q7. You are working on a project to predict the outcome of a soccer match. You have a large dataset with\n",
        "many features, including player statistics and team rankings. Explain how you would use the Embedded\n",
        "method to select the most relevant features for the model.\n",
        "\n",
        "Q8. You are working on a project to predict the price of a house based on its features, such as size, location,\n",
        "and age. You have a limited number of features, and you want to ensure that you select the most important\n",
        "ones for the model. Explain how you would use the Wrapper method to select the best set of features for the\n",
        "predictor."
      ],
      "metadata": {
        "id": "kqycfgcGElGP"
      }
    },
    {
      "cell_type": "markdown",
      "source": [
        "Here are the answers:\n",
        "\n",
        "Q1. The Filter method in feature selection is a technique that evaluates each feature individually and selects the top-ranked features according to a certain criterion, such as correlation with the target variable or mutual information. It's a fast and efficient method that doesn't consider feature interactions.\n",
        "\n",
        "Q2. The Wrapper method differs from the Filter method in that it evaluates a subset of features as a whole, rather than individually. It uses a search algorithm to find the best combination of features that improves the model's performance. Unlike the Filter method, the Wrapper method considers feature interactions.\n",
        "\n",
        "Q3. Embedded feature selection methods, such as LASSO (Least Absolute Shrinkage and Selection Operator) and Ridge regression, use regularization techniques to eliminate unimportant features by setting their coefficients to zero.\n",
        "\n",
        "Q4. Some drawbacks of using the Filter method include:\n",
        "\n",
        "- It doesn't consider feature interactions\n",
        "- It may select redundant features\n",
        "- It may not perform well with high-dimensional data\n",
        "\n",
        "Q5. I would prefer using the Filter method over the Wrapper method in situations where:\n",
        "\n",
        "- The dataset is very large and computationally expensive\n",
        "- The features are independent and don't interact with each other\n",
        "- A quick and efficient feature selection is needed\n",
        "\n",
        "Q6. To choose the most pertinent attributes for the customer churn model using the Filter Method, I would:\n",
        "\n",
        "- Calculate the correlation between each feature and the target variable (customer churn)\n",
        "- Rank the features according to their correlation values\n",
        "- Select the top-ranked features that exceed a certain threshold\n",
        "\n",
        "Q7. To select the most relevant features for the soccer match outcome predictor using the Embedded method, I would:\n",
        "\n",
        "- Use LASSO regression to eliminate unimportant features by setting their coefficients to zero\n",
        "- Select the features with non-zero coefficients as the most relevant ones\n",
        "\n",
        "Q8. To select the best set of features for the house price predictor using the Wrapper method, I would:\n",
        "\n",
        "- Use a search algorithm (e.g. recursive feature elimination) to find the best combination of features\n",
        "- Evaluate each subset of features using a performance metric (e.g. mean squared error)\n",
        "- Select the subset of features that results in the best performance metric value"
      ],
      "metadata": {
        "id": "sTuR72QIFAAb"
      }
    },
    {
      "cell_type": "code",
      "source": [],
      "metadata": {
        "id": "fchlt-cHE_y2"
      },
      "execution_count": null,
      "outputs": []
    }
  ]
}