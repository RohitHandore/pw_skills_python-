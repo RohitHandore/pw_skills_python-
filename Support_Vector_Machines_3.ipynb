{
  "nbformat": 4,
  "nbformat_minor": 0,
  "metadata": {
    "colab": {
      "provenance": []
    },
    "kernelspec": {
      "name": "python3",
      "display_name": "Python 3"
    },
    "language_info": {
      "name": "python"
    }
  },
  "cells": [
    {
      "cell_type": "markdown",
      "source": [
        "Q1. In order to predict house price based on several characteristics, such as location, square footage,\n",
        "number of bedrooms, etc., you are developing an SVM regression model. Which regression metric in this\n",
        "situation would be the best to employ?\n",
        "Dataset link:\n",
        "\n",
        "Q2. You have built an SVM regression model and are trying to decide between using MSE or R-squared as\n",
        "your evaluation metric. Which metric would be more appropriate if your goal is to predict the actual price\n",
        "of a house as accurately as possible?\n",
        "\n",
        "Q3. You have a dataset with a significant number of outliers and are trying to select an appropriate\n",
        "regression metric to use with your SVM model. Which metric would be the most appropriate in this\n",
        "scenario?\n",
        "\n",
        "Q4. You have built an SVM regression model using a polynomial kernel and are trying to select the best\n",
        "metric to evaluate its performance. You have calculated both MSE and RMSE and found that both values\n",
        "are very close. Which metric should you choose to use in this case?\n",
        "\n",
        "Q5. You are comparing the performance of different SVM regression models using different kernels (linear,\n",
        "polynomial, and RBF) and are trying to select the best evaluation metric. Which metric would be most\n",
        "appropriate if your goal is to measure how well the model explains the variance in the target variable?\n"
      ],
      "metadata": {
        "id": "FMrzVXDQEWJw"
      }
    },
    {
      "cell_type": "markdown",
      "source": [
        "Here are the answers:\n",
        "\n",
        "Q1. In this scenario, the best regression metric to employ would be Mean Absolute Error (MAE). MAE is a measure of the average magnitude of the errors in a set of predictions, and it is more suitable for predicting house prices because it is more sensitive to outliers and skewed data. Additionally, MAE is easier to interpret than other metrics like MSE or R-squared, as it represents the average difference between predicted and actual values in the same units as the target variable (e.g., dollars).\n",
        "\n",
        "Q2. If your goal is to predict the actual price of a house as accurately as possible, MSE (Mean Squared Error) would be a more appropriate metric than R-squared. MSE measures the average squared difference between predicted and actual values, which makes it more sensitive to large errors. Since you want to predict the actual price accurately, you want to penalize large errors more heavily, making MSE a better choice. R-squared, on the other hand, measures the proportion of the variance in the dependent variable that is predictable from the independent variable(s), which is not directly related to the accuracy of the predictions.\n",
        "\n",
        "Q3. If you have a dataset with a significant number of outliers, the most appropriate metric would be Mean Absolute Error (MAE). MAE is more robust to outliers than MSE because it uses the absolute difference between predicted and actual values, rather than the squared difference. This means that MAE is less affected by extreme values, making it a better choice when dealing with datasets that contain outliers. Additionally, MAE is more interpretable than other metrics like MSE or R-squared, as it represents the average difference between predicted and actual values in the same units as the target variable.\n",
        "\n",
        "Here are the answers:\n",
        "\n",
        "Q4. If both MSE and RMSE values are very close, you can choose either metric to evaluate the performance of your SVM regression model. However, since RMSE (Root Mean Squared Error) is the square root of MSE, it is more interpretable and easier to understand, as it represents the average distance between predicted and actual values in the same units as the target variable. Therefore, I would recommend using RMSE in this case.\n",
        "\n",
        "Q5. If your goal is to measure how well the model explains the variance in the target variable, the most appropriate metric would be R-squared (Coefficient of Determination). R-squared measures the proportion of the variance in the dependent variable that is predictable from the independent variable(s), which aligns with your goal. It ranges from 0 to 1, where 1 indicates perfect prediction, and 0 indicates no prediction. By comparing the R-squared values of different SVM regression models using different kernels, you can determine which model explains the variance in the target variable best."
      ],
      "metadata": {
        "id": "mxlD9wU6EovT"
      }
    }
  ]
}