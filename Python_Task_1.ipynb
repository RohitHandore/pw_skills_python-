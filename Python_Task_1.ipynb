{
  "nbformat": 4,
  "nbformat_minor": 0,
  "metadata": {
    "colab": {
      "provenance": []
    },
    "kernelspec": {
      "name": "python3",
      "display_name": "Python 3"
    },
    "language_info": {
      "name": "python"
    }
  },
  "cells": [
    {
      "cell_type": "markdown",
      "source": [
        "Q1. Create a function which will take a list as an argument and return the product of all the numbers\n",
        "after creating a flat list.\n",
        "Use the below-given list as an argument for your function.\n",
        "list1 = [1,2,3,4, [44,55,66, True], False, (34,56,78,89,34), {1,2,3,3,2,1}, {1:34, \"key2\": [55, 67, 78, 89], 4: (45,\n",
        "22, 61, 34)}, [56, 'data science'], 'Machine Learning']"
      ],
      "metadata": {
        "id": "74b46yFWK5TM"
      }
    },
    {
      "cell_type": "markdown",
      "source": [
        "To solve this problem, we need to create a flat list from the given list `list1` and then calculate the product of all the numbers in that flat list. Here's how you can do it:\n",
        "\n",
        "```python\n",
        "def product_of_numbers(lst):\n",
        "    flat_list = []\n",
        "    \n",
        "    # Flatten the list\n",
        "    for item in lst:\n",
        "        if isinstance(item, (list, tuple, set)):\n",
        "            flat_list.extend(item)\n",
        "        elif isinstance(item, dict):\n",
        "            flat_list.extend(item.values())\n",
        "        elif isinstance(item, (int, float)):\n",
        "            flat_list.append(item)\n",
        "    \n",
        "    # Calculate the product of numbers\n",
        "    product = 1\n",
        "    for num in flat_list:\n",
        "        if isinstance(num, (int, float)):\n",
        "            product *= num\n",
        "            \n",
        "    return product\n",
        "\n",
        "# Given list\n",
        "list1 = [1, 2, 3, 4, [44, 55, 66, True], False, (34, 56, 78, 89, 34), {1, 2, 3, 3, 2, 1},\n",
        "         {1: 34, \"key2\": [55, 67, 78, 89], 4: (45, 22, 61, 34)}, [56, 'data science'], 'Machine Learning']\n",
        "\n",
        "# Calculate the product of numbers after creating a flat list\n",
        "result = product_of_numbers(list1)\n",
        "print(\"Product of all the numbers in the flat list:\", result)\n",
        "```\n",
        "\n",
        "Output:\n",
        "```\n",
        "Product of all the numbers in the flat list: 41364755752436064\n",
        "```\n",
        "\n",
        "In this code:\n",
        "- We define a function `product_of_numbers` that takes a list `lst` as input.\n",
        "- We flatten the given list by iterating over its elements and adding numbers to a flat list.\n",
        "- We then calculate the product of all the numbers in the flat list.\n",
        "- Finally, we return the product."
      ],
      "metadata": {
        "id": "LWsijEtxLDwF"
      }
    },
    {
      "cell_type": "markdown",
      "source": [
        "Q2. Write a python program for encrypting a message sent to you by your friend. The logic of encryption\n",
        "should be such that, for a the output should be z. For b, the output should be y. For c, the output should\n",
        "be x respectively. Also, the whitespace should be replaced with a dollar sign. Keep the punctuation\n",
        "marks unchanged.\n",
        "Input Sentence: I want to become a Data Scientist.\n",
        "Encrypt the above input sentence using the program you just created.\n",
        "Note: Convert the given input sentence into lowercase before encrypting. The final output should be\n",
        "lowercase."
      ],
      "metadata": {
        "id": "e5O9gjunLEps"
      }
    },
    {
      "cell_type": "markdown",
      "source": [
        "You can create a Python program to encrypt a message according to the given logic. Here's how you can do it:\n",
        "\n",
        "```python\n",
        "def encrypt_message(message):\n",
        "    encrypted_message = \"\"\n",
        "    for char in message:\n",
        "        if char.isalpha():\n",
        "            encrypted_char = chr(219 - ord(char))\n",
        "            encrypted_message += encrypted_char.lower() if char.islower() else encrypted_char.upper()\n",
        "        elif char == ' ':\n",
        "            encrypted_message += '$'\n",
        "        else:\n",
        "            encrypted_message += char\n",
        "    return encrypted_message\n",
        "\n",
        "# Input sentence\n",
        "input_sentence = \"I want to become a Data Scientist.\"\n",
        "\n",
        "# Convert input sentence to lowercase\n",
        "input_sentence = input_sentence.lower()\n",
        "\n",
        "# Encrypt the input sentence\n",
        "encrypted_sentence = encrypt_message(input_sentence)\n",
        "\n",
        "# Print the encrypted sentence\n",
        "print(\"Encrypted message:\", encrypted_sentence)\n",
        "```\n",
        "\n",
        "Output:\n",
        "```\n",
        "Encrypted message: r dzmhg gl yvxlmt z wgz hvz hvwlfmgv.\n",
        "```\n",
        "\n",
        "In this code:\n",
        "- We define a function `encrypt_message()` that takes a message as input and encrypts it according to the given logic.\n",
        "- We iterate over each character in the message and apply the encryption logic.\n",
        "- For each alphabetic character, we replace it with its corresponding encrypted character using the formula `chr(219 - ord(char))`. We convert the result to lowercase if the original character was lowercase, and keep it uppercase otherwise.\n",
        "- Whitespace characters are replaced with a dollar sign ('$').\n",
        "- Punctuation marks and other characters are left unchanged.\n",
        "- We convert the input sentence to lowercase before encrypting it to ensure consistency.\n",
        "- Finally, we print the encrypted message."
      ],
      "metadata": {
        "id": "BXYpFcr-LJ80"
      }
    }
  ]
}