{
  "nbformat": 4,
  "nbformat_minor": 0,
  "metadata": {
    "colab": {
      "provenance": []
    },
    "kernelspec": {
      "name": "python3",
      "display_name": "Python 3"
    },
    "language_info": {
      "name": "python"
    }
  },
  "cells": [
    {
      "cell_type": "markdown",
      "source": [
        "Q1. What is Min-Max scaling, and how is it used in data preprocessing? Provide an example to illustrate its\n",
        "application.\n",
        "Q2. What is the Unit Vector technique in feature scaling, and how does it differ from Min-Max scaling?\n",
        "Provide an example to illustrate its application.\n",
        "Q3. What is PCA (Principle Component Analysis), and how is it used in dimensionality reduction? Provide an\n",
        "example to illustrate its application.\n",
        "Q4. What is the relationship between PCA and Feature Extraction, and how can PCA be used for Feature\n",
        "Extraction? Provide an example to illustrate this concept.\n",
        "Q5. You are working on a project to build a recommendation system for a food delivery service. The dataset\n",
        "contains features such as price, rating, and delivery time. Explain how you would use Min-Max scaling to\n",
        "preprocess the data.\n",
        "Q6. You are working on a project to build a model to predict stock prices. The dataset contains many\n",
        "features, such as company financial data and market trends. Explain how you would use PCA to reduce the\n",
        "dimensionality of the dataset.\n",
        "Q7. For a dataset containing the following values: [1, 5, 10, 15, 20], perform Min-Max scaling to transform the\n",
        "values to a range of -1 to 1.\n",
        "Q8. For a dataset containing the following features: [height, weight, age, gender, blood pressure], perform\n",
        "Feature Extraction using PCA. How many principal components would you choose to retain, and why?"
      ],
      "metadata": {
        "id": "NlnymktoSXe5"
      }
    },
    {
      "cell_type": "markdown",
      "source": [
        "Here are the answers:\n",
        "\n",
        "Q1. Min-Max scaling, also known as normalization, is a technique used to rescale numeric data to a common range, usually between 0 and 1, to prevent features with large ranges from dominating the model. It's calculated as (X - min) / (max - min). For example, if we have a feature \"Price\" with values [10, 50, 100], we would rescale them to [0, 0.5, 1] using Min-Max scaling.\n",
        "\n",
        "Q2. The Unit Vector technique is a feature scaling method that rescales each feature to have a length of 1, making all features equally important. It's calculated as X / ||X||. Unlike Min-Max scaling, which rescales to a specific range, Unit Vector scaling preserves the direction of the feature vector. For example, if we have a feature \"Direction\" with values [(1, 0), (0, 1), (-1, 0)], we would rescale them to [(0.707, 0), (0, 0.707), (-0.707, 0)] using Unit Vector scaling.\n",
        "\n",
        "Q3. PCA (Principal Component Analysis) is a dimensionality reduction technique that finds the directions of maximum variance in the data and projects the data onto a lower-dimensional space along those directions. It's used to reduce the number of features while retaining most of the information. For example, if we have a dataset with 10 features, we might use PCA to reduce it to 3 features, retaining 90% of the variance.\n",
        "\n",
        "Q4. PCA is a Feature Extraction technique that extracts the most important features from the data. By retaining only the top principal components, we are effectively extracting the features that explain the most variance in the data. For example, if we have a dataset with 10 features, we might use PCA to extract the top 3 features, which explain 90% of the variance.\n",
        "\n",
        "Q5. To preprocess the data for the food delivery service, we would apply Min-Max scaling to the \"Price\", \"Rating\", and \"Delivery Time\" features to rescale them to a common range, preventing any one feature from dominating the model.\n",
        "\n",
        "Q6. To reduce the dimensionality of the dataset for the stock price prediction model, we would apply PCA to the features, retaining only the top principal components that explain the most variance in the data. This would help prevent overfitting and improve model performance.\n",
        "\n",
        "Q7. To perform Min-Max scaling on the dataset [1, 5, 10, 15, 20], we would first find the minimum and maximum values (1 and 20), then rescale each value to the range -1 to 1 using the formula (X - min) / (max - min). The resulting values would be [-1, -0.75, -0.5, -0.25, 0].\n",
        "\n",
        "Q8. For the dataset containing the features [height, weight, age, gender, blood pressure], we would apply PCA to extract the top principal components that explain the most variance in the data. Since the features are quite different, we might choose to retain 2 or 3 principal components, depending on the amount of variance explained. This would help reduce the dimensionality of the dataset while retaining the most important information."
      ],
      "metadata": {
        "id": "EsM4_puCScjx"
      }
    }
  ]
}