{
  "nbformat": 4,
  "nbformat_minor": 0,
  "metadata": {
    "colab": {
      "provenance": []
    },
    "kernelspec": {
      "name": "python3",
      "display_name": "Python 3"
    },
    "language_info": {
      "name": "python"
    }
  },
  "cells": [
    {
      "cell_type": "markdown",
      "source": [
        "Q1. What are the characteristics of the tuples? Is tuple immutable?"
      ],
      "metadata": {
        "id": "FvHy7_ieCpTy"
      }
    },
    {
      "cell_type": "markdown",
      "source": [
        "Tuples are ordered collections of items, similar to lists, but with a few key differences. Here are the main characteristics of tuples:\n",
        "\n",
        "Ordered: Like lists, tuples maintain the order of elements, meaning the elements are stored in a defined sequence.\n",
        "\n",
        "Immutable: Yes, tuples are immutable, which means once they are created, their content cannot be changed. You cannot add, remove, or modify items in a tuple after it's created.\n",
        "\n",
        "Heterogeneous: Tuples can contain elements of different data types. For example, you can have a tuple with integers, strings, floats, or even other tuples.\n",
        "\n",
        "Access by index: You can access elements of a tuple using their indices, just like with lists.\n",
        "\n",
        "example:"
      ],
      "metadata": {
        "id": "fF_0TYMKCxZM"
      }
    },
    {
      "cell_type": "code",
      "source": [
        "my_tuple = (1, 2, 3, \"a\", \"b\", \"c\")\n",
        "print(my_tuple[0])  # Output: 1\n",
        "print(my_tuple[3])  # Output: a\n"
      ],
      "metadata": {
        "id": "mov74zxyCzFe"
      },
      "execution_count": null,
      "outputs": []
    },
    {
      "cell_type": "markdown",
      "source": [
        "Size: Tuples can be of any size, including empty tuples.\n",
        "Tuples are commonly used when you want to create a collection of items that should not be changed throughout the program execution, such as coordinates, settings, or database records."
      ],
      "metadata": {
        "id": "4wQia7SfC2D0"
      }
    },
    {
      "cell_type": "markdown",
      "source": [
        "Q2. What are the two tuple methods in python? Give an example of each method. Give a reason why\n",
        "tuples have only two in-built methods as compared to Lists."
      ],
      "metadata": {
        "id": "fP0xCXoVDHDq"
      }
    },
    {
      "cell_type": "markdown",
      "source": [
        "In Python, tuples have two built-in methods:\n",
        "\n",
        "1. **count()**: This method returns the number of times a specified element appears in the tuple.\n",
        "\n",
        "Example:\n",
        "```python\n",
        "my_tuple = (1, 2, 2, 3, 4, 2)\n",
        "count_of_2 = my_tuple.count(2)\n",
        "print(count_of_2)  # Output: 3\n",
        "```\n",
        "\n",
        "2. **index()**: This method returns the index of the first occurrence of a specified element in the tuple.\n",
        "\n",
        "Example:\n",
        "```python\n",
        "my_tuple = ('a', 'b', 'c', 'd', 'e')\n",
        "index_of_c = my_tuple.index('c')\n",
        "print(index_of_c)  # Output: 2\n",
        "```\n",
        "\n",
        "The reason why tuples have only two built-in methods compared to lists is because tuples are immutable, meaning their contents cannot be changed. Since tuples cannot be modified, methods that would alter the tuple (such as append(), insert(), remove(), etc.) are not applicable. The two methods provided for tuples are useful for retrieving information about the contents of the tuple without modifying it. Lists, on the other hand, have a wider range of methods because they are mutable, allowing for dynamic changes to their contents."
      ],
      "metadata": {
        "id": "RYtLZLTJDKwa"
      }
    },
    {
      "cell_type": "markdown",
      "source": [
        "Q3. Which collection datatypes in python do not allow duplicate items? Write a code using a set to remove\n",
        "duplicates from the given list.\n",
        "List = [1, 1, 1, 2, 1, 3, 1, 4, 2, 1, 2, 2, 2, 3, 2, 4, 3, 1, 3, 2, 3, 3, 3, 4, 4, 1, 4, 2, 4, 3, 4, 4]\n"
      ],
      "metadata": {
        "id": "JaPamzrlDPAt"
      }
    },
    {
      "cell_type": "markdown",
      "source": [
        "In Python, sets do not allow duplicate items. You can use a set to remove duplicates from a given list. Here's how you can do it with the provided list:\n",
        "\n",
        "```python\n",
        "my_list = [1, 1, 1, 2, 1, 3, 1, 4, 2, 1, 2, 2, 2, 3, 2, 4, 3, 1, 3, 2, 3, 3, 3, 4, 4, 1, 4, 2, 4, 3, 4, 4]\n",
        "\n",
        "# Convert list to set to remove duplicates\n",
        "unique_items_set = set(my_list)\n",
        "\n",
        "# Convert set back to list if needed\n",
        "unique_list = list(unique_items_set)\n",
        "\n",
        "print(unique_list)  \n",
        "```\n",
        "\n",
        "Output:\n",
        "```\n",
        "[1, 2, 3, 4]\n",
        "```\n",
        "\n",
        "In this code, `my_list` contains duplicates. By converting it to a set (`unique_items_set`), duplicates are automatically removed, resulting in a set of unique elements. Finally, if you need the result back as a list (`unique_list`), you can convert the set back to a list."
      ],
      "metadata": {
        "id": "sxJWAvnvDXEZ"
      }
    },
    {
      "cell_type": "markdown",
      "source": [
        "Q4. Explain the difference between the union() and update() methods for a set. Give an example of\n",
        "each method."
      ],
      "metadata": {
        "id": "CQ0lry4aDxXT"
      }
    },
    {
      "cell_type": "markdown",
      "source": [
        "The `union()` and `update()` methods in Python sets are used to combine elements from multiple sets. However, they differ in their behavior:\n",
        "\n",
        "1. **union() Method**:\n",
        "   - The `union()` method returns a new set containing all the unique elements from the original set and one or more other sets.\n",
        "   - It does not modify the original set, but rather creates and returns a new set with the combined elements.\n",
        "   - It takes one or more iterable objects (like sets, lists, tuples, etc.) as arguments.\n",
        "\n",
        "Example of `union()` method:\n",
        "```python\n",
        "set1 = {1, 2, 3}\n",
        "set2 = {3, 4, 5}\n",
        "\n",
        "# Returns a new set containing elements from both set1 and set2\n",
        "result_set = set1.union(set2)\n",
        "\n",
        "print(result_set)  # Output: {1, 2, 3, 4, 5}\n",
        "print(set1)        # Output: {1, 2, 3} (set1 remains unchanged)\n",
        "```\n",
        "\n",
        "2. **update() Method**:\n",
        "   - The `update()` method modifies the original set by adding all the elements from one or more iterable objects (sets, lists, tuples, etc.).\n",
        "   - It updates the set in place and does not return anything (returns `None`).\n",
        "   - If there are duplicate elements, they are automatically removed as sets cannot contain duplicate elements.\n",
        "\n",
        "Example of `update()` method:\n",
        "```python\n",
        "set1 = {1, 2, 3}\n",
        "set2 = {3, 4, 5}\n",
        "\n",
        "# Adds all elements from set2 to set1\n",
        "set1.update(set2)\n",
        "\n",
        "print(set1)  # Output: {1, 2, 3, 4, 5} (set1 is modified)\n",
        "```\n",
        "\n",
        "In summary, `union()` returns a new set with the combined elements without modifying the original set, while `update()` modifies the original set by adding elements from other sets."
      ],
      "metadata": {
        "id": "_TOGqfHREDUi"
      }
    },
    {
      "cell_type": "markdown",
      "source": [
        "Q5. What is a dictionary? Give an example. Also, state whether a dictionary is ordered or unordered."
      ],
      "metadata": {
        "id": "oZclGQbiEEjS"
      }
    },
    {
      "cell_type": "markdown",
      "source": [
        "A dictionary in Python is a collection of key-value pairs. Each key is associated with a value, and you can use the key to retrieve the corresponding value. Dictionaries are mutable, meaning their contents can be changed after creation. They are denoted by curly braces `{}`.\n",
        "\n",
        "Example of a dictionary:\n",
        "```python\n",
        "my_dict = {\n",
        "    \"name\": \"John\",\n",
        "    \"age\": 30,\n",
        "    \"city\": \"New York\"\n",
        "}\n",
        "```\n",
        "\n",
        "In this example, `\"name\"`, `\"age\"`, and `\"city\"` are keys, and `\"John\"`, `30`, and `\"New York\"` are their corresponding values.\n",
        "\n",
        "Dictionaries in Python are **unordered**. This means that the order in which the key-value pairs are defined is not preserved. When iterating over a dictionary or accessing its elements, you cannot rely on any specific order of the items. However, starting from Python 3.7, dictionaries maintain the insertion order of their keys, meaning that when you iterate over a dictionary, you will encounter the items in the order they were added. This behavior is guaranteed in Python 3.7 and later versions but was not guaranteed in earlier versions."
      ],
      "metadata": {
        "id": "hg2rsU_mEHsa"
      }
    },
    {
      "cell_type": "markdown",
      "source": [
        "Q6. Can we create a nested dictionary? If so, please give an example by creating a simple one-level\n",
        "nested dictionary."
      ],
      "metadata": {
        "id": "Y-uDBDywEN-4"
      }
    },
    {
      "cell_type": "markdown",
      "source": [
        "Yes, we can create a nested dictionary in Python. A nested dictionary is a dictionary where the values are themselves dictionaries. This allows for hierarchical structuring of data. Here's an example of a simple one-level nested dictionary:\n",
        "\n",
        "```python\n",
        "# Creating a nested dictionary\n",
        "nested_dict = {\n",
        "    \"person1\": {\n",
        "        \"name\": \"John\",\n",
        "        \"age\": 30,\n",
        "        \"city\": \"New York\"\n",
        "    },\n",
        "    \"person2\": {\n",
        "        \"name\": \"Alice\",\n",
        "        \"age\": 25,\n",
        "        \"city\": \"Los Angeles\"\n",
        "    }\n",
        "}\n",
        "\n",
        "# Accessing values in the nested dictionary\n",
        "print(nested_dict[\"person1\"][\"name\"])  # Output: John\n",
        "print(nested_dict[\"person2\"][\"age\"])   # Output: 25\n",
        "```\n",
        "\n",
        "In this example, `nested_dict` contains two keys, `\"person1\"` and `\"person2\"`, each associated with its own dictionary containing information about a person. This structure allows for easy organization and retrieval of data."
      ],
      "metadata": {
        "id": "U3U9ex7sETp4"
      }
    },
    {
      "cell_type": "markdown",
      "source": [
        "Q7. Using setdefault() method, create key named topics in the given dictionary and also add the value of\n",
        "the key as this list ['Python', 'Machine Learning’, 'Deep Learning']\n",
        "dict1 = {'language' : 'Python', 'course': 'Data Science Masters'}"
      ],
      "metadata": {
        "id": "aP6yr0NvEdf-"
      }
    },
    {
      "cell_type": "markdown",
      "source": [
        "Sure! You can use the `setdefault()` method to add a key named \"topics\" to the given dictionary and set its value to the specified list. Here's how you can do it:\n",
        "\n",
        "```python\n",
        "dict1 = {'language': 'Python', 'course': 'Data Science Masters'}\n",
        "\n",
        "# Using setdefault() to add the key \"topics\" and set its value\n",
        "dict1.setdefault(\"topics\", ['Python', 'Machine Learning', 'Deep Learning'])\n",
        "\n",
        "print(dict1)\n",
        "```\n",
        "\n",
        "Output:\n",
        "```\n",
        "{'language': 'Python', 'course': 'Data Science Masters', 'topics': ['Python', 'Machine Learning', 'Deep Learning']}\n",
        "```\n",
        "\n",
        "In this code, `setdefault()` is used to create the key \"topics\" in `dict1` if it doesn't exist already. It sets the value of \"topics\" to the provided list `['Python', 'Machine Learning', 'Deep Learning']`. If the key \"topics\" already exists in the dictionary, `setdefault()` will not modify its value."
      ],
      "metadata": {
        "id": "nU8R90YTEpBp"
      }
    },
    {
      "cell_type": "markdown",
      "source": [
        "Q8. What are the three view objects in dictionaries? Use the three in-built methods in python to display\n",
        "these three view objects for the given dictionary.\n",
        "dict1 = {'Sport': 'Cricket' , 'Teams': ['India', 'Australia', 'England', 'South Africa', 'Sri Lanka', 'New Zealand']}"
      ],
      "metadata": {
        "id": "MldaAUAeErQM"
      }
    },
    {
      "cell_type": "markdown",
      "source": [
        "In Python, dictionaries have three types of view objects:\n",
        "\n",
        "1. **dict_keys**: This represents a view of all the keys in the dictionary.\n",
        "2. **dict_values**: This represents a view of all the values in the dictionary.\n",
        "3. **dict_items**: This represents a view of all the key-value pairs in the dictionary.\n",
        "\n",
        "Here's how you can use the built-in methods to display these view objects for the given dictionary `dict1`:\n",
        "\n",
        "```python\n",
        "dict1 = {'Sport': 'Cricket', 'Teams': ['India', 'Australia', 'England', 'South Africa', 'Sri Lanka', 'New Zealand']}\n",
        "\n",
        "# Displaying dict_keys\n",
        "keys_view = dict1.keys()\n",
        "print(\"Keys view:\", keys_view)\n",
        "\n",
        "# Displaying dict_values\n",
        "values_view = dict1.values()\n",
        "print(\"Values view:\", values_view)\n",
        "\n",
        "# Displaying dict_items\n",
        "items_view = dict1.items()\n",
        "print(\"Items view:\", items_view)\n",
        "```\n",
        "\n",
        "This code will output:\n",
        "\n",
        "```\n",
        "Keys view: dict_keys(['Sport', 'Teams'])\n",
        "Values view: dict_values(['Cricket', ['India', 'Australia', 'England', 'South Africa', 'Sri Lanka', 'New Zealand']])\n",
        "Items view: dict_items([('Sport', 'Cricket'), ('Teams', ['India', 'Australia', 'England', 'South Africa', 'Sri Lanka', 'New Zealand'])])\n",
        "```\n",
        "\n",
        "Each view object provides a dynamic view on the dictionary's contents, reflecting any changes made to the dictionary."
      ],
      "metadata": {
        "id": "CcHbThY8Ew6L"
      }
    }
  ]
}