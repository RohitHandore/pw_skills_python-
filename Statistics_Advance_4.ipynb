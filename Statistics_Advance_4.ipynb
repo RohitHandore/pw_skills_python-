{
  "nbformat": 4,
  "nbformat_minor": 0,
  "metadata": {
    "colab": {
      "provenance": []
    },
    "kernelspec": {
      "name": "python3",
      "display_name": "Python 3"
    },
    "language_info": {
      "name": "python"
    }
  },
  "cells": [
    {
      "cell_type": "markdown",
      "source": [
        "Q1: **Difference between t-test and z-test**:\n",
        "- **t-test**:\n",
        "    - Used when the sample size is small (typically n < 30) or when the population standard deviation is unknown.\n",
        "    - Example scenario: Comparing the effectiveness of a new drug on a small sample of patients.\n",
        "- **z-test**:\n",
        "    - Used when the sample size is large (typically n ≥ 30) and the population standard deviation is known.\n",
        "    - Example scenario: Testing the mean weight of a large batch of manufactured products against a known standard.\n",
        "\n",
        "Q2: **One-tailed vs. Two-tailed tests**:\n",
        "- **One-tailed test**:\n",
        "    - Used to test whether the sample mean is significantly greater than or less than a specified value.\n",
        "    - Example: Testing whether a new drug increases blood pressure (one-tailed greater than test) or decreases blood pressure (one-tailed less than test).\n",
        "- **Two-tailed test**:\n",
        "    - Used to test whether the sample mean is significantly different from a specified value (either greater than or less than).\n",
        "    - Example: Testing whether a new teaching method affects student performance, regardless of whether it improves or worsens it.\n",
        "\n",
        "Q3: **Type 1 and Type 2 errors**:\n",
        "- **Type 1 error (False Positive)**:\n",
        "    - Rejecting the null hypothesis when it is actually true.\n",
        "    - Example: Convicting an innocent person in a criminal trial.\n",
        "- **Type 2 error (False Negative)**:\n",
        "    - Failing to reject the null hypothesis when it is actually false.\n",
        "    - Example: Failing to detect a disease in a patient who actually has it.\n",
        "\n",
        "Q4: **Bayes's Theorem**:\n",
        "- Bayes's theorem is a mathematical formula used to revise or update the probability of an event occurring based on new evidence.\n",
        "- Formula: \\( P(A|B) = \\frac{{P(B|A) \\times P(A)}}{{P(B)}} \\)\n",
        "- Example: Suppose a medical test for a rare disease is 99% accurate (sensitivity) and has a false positive rate of 2%. Given that 0.1% of the population actually has the disease, what is the probability that a person who tests positive actually has the disease?\n",
        "\n",
        "Q5: **Confidence Interval**:\n",
        "- A confidence interval is a range of values that is likely to contain the population parameter, with a specified level of confidence.\n",
        "- Formula: \\( \\text{CI} = \\bar{x} \\pm z_{\\alpha/2} \\frac{s}{\\sqrt{n}} \\)\n",
        "- Example: Calculating the 95% confidence interval for the mean weight of a sample of apples where \\( \\bar{x} = 150g \\), \\( s = 10g \\), and \\( n = 100 \\).\n",
        "\n",
        "Q6: **Bayes' Theorem Example**:\n",
        "- Suppose a diagnostic test for a disease is known to be 99% accurate (sensitivity) and has a false positive rate of 5%. The prevalence of the disease in the population is 1%. What is the probability that a person who tests positive actually has the disease?\n",
        "- Solution: Using Bayes's theorem:\n",
        "    - Let A be the event of having the disease, and B be the event of testing positive.\n",
        "    - \\( P(A|B) = \\frac{{P(B|A) \\times P(A)}}{{P(B)}} \\)\n",
        "    - \\( P(B|A) = 0.99 \\) (true positive rate)\n",
        "    - \\( P(A) = 0.01 \\) (prevalence of the disease)\n",
        "    - \\( P(B|A') = 0.05 \\) (false positive rate)\n",
        "    - \\( P(B) = P(B|A) \\times P(A) + P(B|A') \\times P(A') \\)\n",
        "    - \\( P(B) = (0.99 \\times 0.01) + (0.05 \\times 0.99) \\)\n",
        "    - \\( P(B) = 0.01 + 0.0495 = 0.0595 \\)\n",
        "    - \\( P(A|B) = \\frac{{0.99 \\times 0.01}}{{0.0595}} \\)\n",
        "    - \\( P(A|B) \\approx 0.166 \\) or 16.6%\n",
        "\n",
        "Let me know if you need further clarification on any of these topics!"
      ],
      "metadata": {
        "id": "HNCs7vu4NpoN"
      }
    },
    {
      "cell_type": "markdown",
      "source": [
        "Q7: **Calculating 95% Confidence Interval**:\n",
        "- Given: Sample mean (\\( \\bar{x} \\) = 50), Sample standard deviation (\\( s \\) = 5), Sample size (\\( n \\) = ?)\n",
        "- Confidence level = 95%\n",
        "- Using the formula for confidence interval: \\( CI = \\bar{x} \\pm z_{\\alpha/2} \\frac{s}{\\sqrt{n}} \\)\n",
        "- Since the sample size (\\( n \\)) is not provided, the confidence interval cannot be calculated without this information.\n",
        "\n",
        "Q8: **Margin of Error and Sample Size**:\n",
        "- Margin of error (MOE) is the range in which the true population parameter is likely to lie.\n",
        "- A larger sample size decreases the margin of error because it reduces the variability and increases the precision of the estimate.\n",
        "- Example: Suppose you want to estimate the mean height of students in a school. With a small sample size (e.g., 10 students), the margin of error would be larger compared to a larger sample size (e.g., 100 students), resulting in a more precise estimate.\n",
        "\n",
        "Q9: **Calculating z-score**:\n",
        "- Given: Data point value (\\( x \\) = 75), Population mean (\\( \\mu \\) = 70), Population standard deviation (\\( \\sigma \\) = 5)\n",
        "- Using the formula for z-score: \\( z = \\frac{x - \\mu}{\\sigma} \\)\n",
        "- Substituting the values: \\( z = \\frac{75 - 70}{5} = 1 \\)\n",
        "- Interpretation: The data point is 1 standard deviation above the mean.\n",
        "\n",
        "Q10: **Hypothesis Test for Weight Loss Drug**:\n",
        "- Given: Sample size (\\( n \\) = 50), Sample mean (\\( \\bar{x} \\) = 6), Sample standard deviation (\\( s \\) = 2.5), Significance level (\\( \\alpha \\) = 0.05)\n",
        "- Null Hypothesis (H0): The mean weight loss due to the drug is not significantly different from 0 (μ = 0).\n",
        "- Alternative Hypothesis (Ha): The mean weight loss due to the drug is significantly greater than 0 (μ > 0).\n",
        "- Using a one-sample t-test to compare the sample mean to the population mean under the null hypothesis.\n",
        "\n",
        "Q11: **Calculating Confidence Interval for Proportion**:\n",
        "- Given: Sample proportion (\\( \\hat{p} \\) = 0.65), Sample size (\\( n \\) = 500), Confidence level = 95%\n",
        "- Using the formula for confidence interval for proportion: \\( CI = \\hat{p} \\pm z_{\\alpha/2} \\sqrt{\\frac{\\hat{p}(1-\\hat{p})}{n}} \\)\n",
        "- Calculating \\( z_{\\alpha/2} \\) for 95% confidence level ≈ 1.96\n",
        "- \\( CI = 0.65 \\pm 1.96 \\sqrt{\\frac{0.65(1-0.65)}{500}} \\)\n",
        "- \\( CI = 0.65 \\pm 1.96 \\times 0.024 \\)\n",
        "- \\( CI = 0.65 \\pm 0.047 \\)\n",
        "- Interpretation: We are 95% confident that the true proportion of people satisfied with their job is between approximately 60.3% and 69.7%.\n",
        "\n"
      ],
      "metadata": {
        "id": "R-uaUmq_N1_O"
      }
    },
    {
      "cell_type": "markdown",
      "source": [
        "Q12: **Hypothesis Test for Difference in Teaching Methods**:\n",
        "- Given: Sample A: Mean (\\( \\bar{x}_A \\) = 85), Standard Deviation (\\( s_A \\) = 6), Sample size (\\( n_A \\) = ?)\n",
        "         Sample B: Mean (\\( \\bar{x}_B \\) = 82), Standard Deviation (\\( s_B \\) = 5), Sample size (\\( n_B \\) = ?)\n",
        "         Significance level (\\( \\alpha \\) = 0.01)\n",
        "- Null Hypothesis (H0): There is no significant difference in student performance between the two teaching methods (μA = μB).\n",
        "- Alternative Hypothesis (Ha): There is a significant difference in student performance between the two teaching methods (μA ≠ μB).\n",
        "- Using a two-sample t-test to compare the means of two independent samples under the null hypothesis.\n",
        "\n",
        "Q13: **Calculating Confidence Interval for Population Mean**:\n",
        "- Given: Population mean (\\( \\mu \\) = 60), Population standard deviation (\\( \\sigma \\) = 8), Sample size (\\( n \\) = 50), Confidence level = 90%\n",
        "- Using the formula for confidence interval for mean: \\( CI = \\bar{x} \\pm z_{\\alpha/2} \\frac{\\sigma}{\\sqrt{n}} \\)\n",
        "- Calculating \\( z_{\\alpha/2} \\) for 90% confidence level ≈ 1.645\n",
        "- \\( CI = 65 \\pm 1.645 \\frac{8}{\\sqrt{50}} \\)\n",
        "- \\( CI = 65 \\pm 1.645 \\times \\frac{8}{\\sqrt{50}} \\)\n",
        "- \\( CI = 65 \\pm 2.328 \\)\n",
        "- Interpretation: We are 90% confident that the true population mean lies between approximately 62.67 and 67.33.\n",
        "\n",
        "Q14: **Hypothesis Test for Caffeine Effect on Reaction Time**:\n",
        "- Given: Sample mean (\\( \\bar{x} \\) = 0.25), Standard deviation (\\( s \\) = 0.05), Sample size (\\( n \\) = 30), Significance level (\\( \\alpha \\) = 0.10)\n",
        "- Null Hypothesis (H0): Caffeine has no significant effect on reaction time (μ = 0).\n",
        "- Alternative Hypothesis (Ha): Caffeine has a significant effect on reaction time (μ ≠ 0).\n",
        "- Using a one-sample t-test to compare the sample mean to the hypothesized population mean under the null hypothesis.\n",
        "\n"
      ],
      "metadata": {
        "id": "FQW48CSlOApZ"
      }
    }
  ]
}