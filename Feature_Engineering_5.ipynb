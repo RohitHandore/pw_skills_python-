{
  "nbformat": 4,
  "nbformat_minor": 0,
  "metadata": {
    "colab": {
      "provenance": []
    },
    "kernelspec": {
      "name": "python3",
      "display_name": "Python 3"
    },
    "language_info": {
      "name": "python"
    }
  },
  "cells": [
    {
      "cell_type": "markdown",
      "source": [
        "Q1. What is the difference between Ordinal Encoding and Label Encoding? Provide an example of when you\n",
        "might choose one over the other.\n",
        "Q2. Explain how Target Guided Ordinal Encoding works and provide an example of when you might use it in\n",
        "a machine learning project.\n",
        "Q3. Define covariance and explain why it is important in statistical analysis. How is covariance calculated?\n",
        "Q4. For a dataset with the following categorical variables: Color (red, green, blue), Size (small, medium,\n",
        "large), and Material (wood, metal, plastic), perform label encoding using Python's scikit-learn library.\n",
        "Show your code and explain the output.\n",
        "Q5. Calculate the covariance matrix for the following variables in a dataset: Age, Income, and Education\n",
        "level. Interpret the results.\n",
        "Q6. You are working on a machine learning project with a dataset containing several categorical\n",
        "variables, including \"Gender\" (Male/Female), \"Education Level\" (High School/Bachelor's/Master's/PhD),\n",
        "and \"Employment Status\" (Unemployed/Part-Time/Full-Time). Which encoding method would you use for\n",
        "each variable, and why?\n",
        "Q7. You are analyzing a dataset with two continuous variables, \"Temperature\" and \"Humidity\", and two\n",
        "categorical variables, \"Weather Condition\" (Sunny/Cloudy/Rainy) and \"Wind Direction\" (North/South/\n",
        "East/West). Calculate the covariance between each pair of variables and interpret the results."
      ],
      "metadata": {
        "id": "6s5Ql3bTREjY"
      }
    },
    {
      "cell_type": "markdown",
      "source": [
        "Here are the answers:\n",
        "\n",
        "Q1. Ordinal Encoding assigns a numerical value to each category based on its order or ranking, while Label Encoding assigns a unique numerical value to each category without considering its order or ranking. For example, if you have a variable \"Education Level\" with categories \"High School\", \"Bachelor's\", and \"Master's\", Ordinal Encoding would assign values 1, 2, and 3 respectively, while Label Encoding would assign arbitrary values like 0, 1, and 2.\n",
        "\n",
        "Q2. Target Guided Ordinal Encoding is a technique that assigns numerical values to categories based on their relationship with the target variable. It's useful when the categories have a natural ordering that affects the target variable. For example, in a credit risk assessment model, the categories \"Poor\", \"Fair\", \"Good\", and \"Excellent\" could be encoded as 1, 2, 3, and 4 respectively, based on their increasing creditworthiness.\n",
        "\n",
        "Q3. Covariance measures the linear relationship between two continuous variables. It's calculated as the sum of the products of the deviations from the mean for each variable, divided by the product of the standard deviations and the number of observations. Covariance is important in statistical analysis because it helps identify relationships between variables.\n",
        "\n",
        "Q4. Here's the code for label encoding using scikit-learn:\n",
        "\n",
        "from sklearn.preprocessing import LabelEncoder\n",
        "\n",
        "color_encoder = LabelEncoder()\n",
        "size_encoder = LabelEncoder()\n",
        "material_encoder = LabelEncoder()\n",
        "\n",
        "color_encoded = color_encoder.fit_transform([\"red\", \"green\", \"blue\"])\n",
        "size_encoded = size_encoder.fit_transform([\"small\", \"medium\", \"large\"])\n",
        "material_encoded = material_encoder.fit_transform([\"wood\", \"metal\", \"plastic\"])\n",
        "\n",
        "print(color_encoded)  # Output: [0 1 2]\n",
        "print(size_encoded)  # Output: [0 1 2]\n",
        "print(material_encoded)  # Output: [0 1 2]\n",
        "\n",
        "The output shows the encoded values for each category.\n",
        "\n",
        "Q5. To calculate the covariance matrix, you can use the following formula:\n",
        "\n",
        "cov(X, Y) = Σ[(xi - x_mean)(yi - y_mean)] / (n * σx * σy)\n",
        "\n",
        "where X and Y are the variables, xi and yi are the individual data points, x_mean and y_mean are the means, σx and σy are the standard deviations, and n is the number of observations.\n",
        "\n",
        "For the given variables, the covariance matrix would be:\n",
        "\n",
        "|  cov(Age, Age)  cov(Age, Income)  cov(Age, Education)  |\n",
        "|  cov(Income, Age)  cov(Income, Income)  cov(Income, Education)  |\n",
        "|  cov(Education, Age)  cov(Education, Income)  cov(Education, Education)  |\n",
        "\n",
        "The values in the matrix represent the covariance between each pair of variables.\n",
        "\n",
        "Q6. For the given categorical variables, I would use:\n",
        "\n",
        "- Label Encoding for \"Gender\" and \"Employment Status\" because they don't have a natural ordering.\n",
        "- Ordinal Encoding for \"Education Level\" because it has a natural ordering that affects the target variable.\n",
        "\n",
        "Q7. To calculate the covariance between each pair of variables, you can use the formula:\n",
        "\n",
        "cov(X, Y) = Σ[(xi - x_mean)(yi - y_mean)] / (n * σx * σy)\n",
        "\n",
        "For the given variables, the covariance matrix would be:\n",
        "\n",
        "|  cov(Temperature, Temperature)  cov(Temperature, Humidity)  cov(Temperature, Weather)  cov(Temperature, Wind)  |\n",
        "|  cov(Humidity, Temperature)  cov(Humidity, Humidity)  cov(Humidity, Weather)  cov(Humidity, Wind)  |\n",
        "|  cov(Weather, Temperature)  cov(Weather, Humidity)  cov(Weather, Weather)  cov(Weather, Wind)  |\n",
        "|  cov(Wind, Temperature)  cov(Wind, Humidity)  cov(Wind, Weather)  cov(Wind, Wind)  |\n",
        "\n",
        "The values in the matrix represent the covariance between each pair of variables."
      ],
      "metadata": {
        "id": "90ULprBCRMuY"
      }
    }
  ]
}