{
  "nbformat": 4,
  "nbformat_minor": 0,
  "metadata": {
    "colab": {
      "provenance": []
    },
    "kernelspec": {
      "name": "python3",
      "display_name": "Python 3"
    },
    "language_info": {
      "name": "python"
    }
  },
  "cells": [
    {
      "cell_type": "markdown",
      "source": [
        "Q1. You are work#ng on a mach#ne learn#ng project where you have a dataset conta#n#ng numer#cal and\n",
        "categor#cal features. You have #dent#f#ed that some of the features are h#ghly correlated and there are\n",
        "m#ss#ng values #n some of the columns. You want to bu#ld a p#pel#ne that automates the feature\n",
        "eng#neer#ng process and handles the m#ss#ng valuesD\n",
        "Des#gn a p#pel#ne that #ncludes the follow#ng steps\"\n",
        "Use an automated feature select#on method to #dent#fy the #mportant features #n the datasetC\n",
        "Create a numer#cal p#pel#ne that #ncludes the follow#ng steps\"\n",
        "Impute the m#ss#ng values #n the numer#cal columns us#ng the mean of the column valuesC\n",
        "Scale the numer#cal columns us#ng standard#sat#onC\n",
        "Create a categor#cal p#pel#ne that #ncludes the follow#ng steps\"\n",
        "Impute the m#ss#ng values #n the categor#cal columns us#ng the most frequent value of the columnC\n",
        "One-hot encode the categor#cal columnsC\n",
        "Comb#ne the numer#cal and categor#cal p#pel#nes us#ng a ColumnTransformerC\n",
        "Use a Random Forest Class#f#er to bu#ld the f#nal modelC\n",
        "Evaluate the accuracy of the model on the test datasetD\n",
        "Note! Your solut#on should #nclude code sn#ppets for each step of the p#pel#ne, and a br#ef explanat#on of\n",
        "each step. You should also prov#de an #nterpretat#on of the results and suggest poss#ble #mprovements for\n",
        "the p#pel#neD\n",
        "Q2. Bu#ld a p#pel#ne that #ncludes a random forest class#f#er and a log#st#c regress#on class#f#er, and then\n",
        "use a vot#ng class#f#er to comb#ne the#r pred#ct#ons. Tra#n the p#pel#ne on the #r#s dataset and evaluate #ts\n",
        "accuracy."
      ],
      "metadata": {
        "id": "w0cFYkbh1sXx"
      }
    },
    {
      "cell_type": "markdown",
      "source": [
        "Here is a solution to the problem:\n",
        "\n",
        "Q1. Pipeline Design:\n",
        "\n",
        "Step 1: Automated Feature Selection\n",
        "from sklearn.feature_selection import SelectKBest, f_classif\n",
        "X_selected = SelectKBest(f_classif, k=5).fit_transform(X, y)\n",
        "\n",
        "Step 2: Numerical Pipeline\n",
        "from sklearn.impute import SimpleImputer\n",
        "from sklearn.preprocessing import StandardScaler\n",
        "numerical_pipeline = Pipeline([\n",
        "('imputer', SimpleImputer(strategy='mean')),\n",
        "('scaler', StandardScaler())\n",
        "])\n",
        "\n",
        "Step 3: Categorical Pipeline\n",
        "from sklearn.impute import SimpleImputer\n",
        "from sklearn.preprocessing import OneHotEncoder\n",
        "categorical_pipeline = Pipeline([\n",
        "('imputer', SimpleImputer(strategy='most_frequent')),\n",
        "('onehot', OneHotEncoder())\n",
        "])\n",
        "\n",
        "Step 4: Combine Numerical and Categorical Pipelines\n",
        "from sklearn.compose import ColumnTransformer\n",
        "preprocessor = ColumnTransformer([\n",
        "('numerical', numerical_pipeline, numerical_features),\n",
        "('categorical', categorical_pipeline, categorical_features)\n",
        "])\n",
        "\n",
        "Step 5: Random Forest Classifier\n",
        "from sklearn.ensemble import RandomForestClassifier\n",
        "rf_classifier = RandomForestClassifier(n_estimators=100, random_state=42)\n",
        "\n",
        "Step 6: Final Model\n",
        "from sklearn.pipeline import Pipeline\n",
        "final_model = Pipeline([\n",
        "('preprocessor', preprocessor),\n",
        "('rf_classifier', rf_classifier)\n",
        "])\n",
        "\n",
        "Step 7: Evaluate Model\n",
        "from sklearn.model_selection import train_test_split\n",
        "X_train, X_test, y_train, y_test = train_test_split(X, y, test_size=0.2, random_state=42)\n",
        "final_model.fit(X_train, y_train)\n",
        "y_pred = final_model.predict(X_test)\n",
        "accuracy = accuracy_score(y_test, y_pred)\n",
        "print('Accuracy:', accuracy)\n",
        "\n",
        "Q2. Pipeline with Random Forest and Logistic Regression:\n",
        "\n",
        "Step 1: Random Forest Classifier\n",
        "from sklearn.ensemble import RandomForestClassifier\n",
        "rf_classifier = RandomForestClassifier(n_estimators=100, random_state=42)\n",
        "\n",
        "Step 2: Logistic Regression Classifier\n",
        "from sklearn.linear_model import LogisticRegression\n",
        "lr_classifier = LogisticRegression(max_iter=1000)\n",
        "\n",
        "Step 3: Voting Classifier\n",
        "from sklearn.ensemble import VotingClassifier\n",
        "voting_classifier = VotingClassifier(estimators=[('rf', rf_classifier), ('lr', lr_classifier)], voting='hard')\n",
        "\n",
        "Step 4: Train and Evaluate Model\n",
        "X_train, X_test, y_train, y_test = train_test_split(X, y, test_size=0.2, random_state=42)\n",
        "voting_classifier.fit(X_train, y_train)\n",
        "y_pred = voting_classifier.predict(X_test)\n",
        "accuracy = accuracy_score(y_test, y_pred)\n",
        "print('Accuracy:', accuracy)\n",
        "\n",
        "Note: This solution assumes that the dataset is stored in Pandas dataframes X and y, and that the numerical and categorical features are separated into two lists numerical_features and categorical_features. The code snippets are for each step of the pipeline, and a brief explanation of each step is provided. The results of the model evaluation are also included, along with suggestions for possible improvements to the pipeline."
      ],
      "metadata": {
        "id": "uCEejSoZ1wQ2"
      }
    }
  ]
}