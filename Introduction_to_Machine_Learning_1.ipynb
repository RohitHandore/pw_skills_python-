{
  "nbformat": 4,
  "nbformat_minor": 0,
  "metadata": {
    "colab": {
      "provenance": []
    },
    "kernelspec": {
      "name": "python3",
      "display_name": "Python 3"
    },
    "language_info": {
      "name": "python"
    }
  },
  "cells": [
    {
      "cell_type": "markdown",
      "source": [
        "Q1: Explain the following with an example:\n",
        "\n",
        "1. Artificial Intelligence\n",
        "\n",
        "2. Machine Learning\n",
        "\n",
        "3. Deep Learning\n",
        "\n",
        "Q2: What is supervised learning? List some examples of supervised learning.\n",
        "\n",
        "Q3: What is unsupervised learning? List some examples of unsupervised learning.\n",
        "\n",
        "Q4: What is the difference between AI, ML, DL, and DS?\n",
        "\n",
        "Q5: What are the main differences between supervised, unsupervised, and semi-supervised learning?\n",
        "\n",
        "Q6: What is train, test and validation split? Explain the importance of each term.\n",
        "\n",
        "Q7: How can unsupervised learning be used in anomaly detection?\n",
        "\n",
        "Q8: List down some commonly used supervised learning algorithms and unsupervised learning algorithms."
      ],
      "metadata": {
        "id": "RtYCT0lWXlcc"
      }
    },
    {
      "cell_type": "markdown",
      "source": [
        "Q1:\n",
        "1. **Artificial Intelligence (AI)**: Artificial Intelligence refers to the simulation of human intelligence processes by machines, especially computer systems. It involves the creation of intelligent agents that can perceive their environment and take actions to maximize their chances of success. For example, AI is used in natural language processing, robotics, computer vision, and game playing.\n",
        "\n",
        "2. **Machine Learning (ML)**: Machine Learning is a subset of AI that focuses on the development of algorithms that allow computers to learn from and make predictions or decisions based on data. Instead of being explicitly programmed for specific tasks, machine learning algorithms learn patterns and relationships from data. For example, ML is used in email filtering, recommendation systems, and image recognition.\n",
        "\n",
        "3. **Deep Learning (DL)**: Deep Learning is a subset of machine learning that involves neural networks with many layers (deep neural networks). DL algorithms attempt to model high-level abstractions in data by using multiple processing layers with complex structures. For example, DL is used in speech recognition, natural language processing, and autonomous vehicles.\n",
        "\n",
        "Q2: **Supervised Learning**: Supervised learning is a type of machine learning where the algorithm is trained on a labeled dataset, meaning that each input is associated with the correct output. The algorithm learns from these labeled examples and then makes predictions or decisions when given new data. Examples include:\n",
        "- Classification: Predicting whether an email is spam or not spam.\n",
        "- Regression: Predicting house prices based on features like size and location.\n",
        "\n",
        "Q3: **Unsupervised Learning**: Unsupervised learning is a type of machine learning where the algorithm is trained on an unlabeled dataset, and the goal is to find hidden patterns or structures in the data. Without specific outputs to guide the learning process, the algorithm explores the data and finds relationships or groupings. Examples include:\n",
        "- Clustering: Grouping similar customers based on their purchasing behavior.\n",
        "- Dimensionality reduction: Reducing the number of features in a dataset while preserving its essential information.\n",
        "\n",
        "Q4: **Difference between AI, ML, DL, and DS**:\n",
        "- AI is the broader concept of machines being able to carry out tasks in a way that we would consider \"smart.\"\n",
        "- ML is a subset of AI that focuses on the development of algorithms allowing computers to learn from data and make predictions.\n",
        "- DL is a subset of ML that uses deep neural networks with many layers to model complex patterns in large datasets.\n",
        "- DS (Data Science) involves extracting insights and knowledge from data, which can include tasks related to AI, ML, and DL, as well as other areas such as data analysis and visualization.\n",
        "\n",
        "Q5: **Differences between supervised, unsupervised, and semi-supervised learning**:\n",
        "- Supervised learning uses labeled data, unsupervised learning uses unlabeled data, and semi-supervised learning uses a combination of both.\n",
        "- Supervised learning is used for tasks like classification and regression, where there are clear labels or outcomes to predict.\n",
        "- Unsupervised learning is used for tasks like clustering and dimensionality reduction, where the goal is to find patterns or groupings in the data without explicit labels.\n",
        "- Semi-supervised learning is useful when labeled data is scarce or expensive to obtain, as it can leverage both labeled and unlabeled data to improve performance.\n",
        "\n",
        "Q6: **Train, Test, and Validation Split**:\n",
        "- **Training set**: The portion of the dataset used to train the model. The model learns patterns and relationships from this data.\n",
        "- **Test set**: The portion of the dataset used to evaluate the model's performance after training. It provides an unbiased evaluation of the model's ability to generalize to new data.\n",
        "- **Validation set**: An optional subset of the dataset used to fine-tune the model's hyperparameters and prevent overfitting. It helps in selecting the best-performing model among different variations.\n",
        "\n",
        "The importance of each term:\n",
        "- Training set: Essential for the model to learn from data and capture underlying patterns.\n",
        "- Test set: Crucial for assessing the model's performance on unseen data and estimating its generalization ability.\n",
        "- Validation set: Helps in tuning hyperparameters and selecting the best model, ensuring better performance on unseen data.\n",
        "\n",
        "Q7: **Unsupervised learning in anomaly detection**:\n",
        "- Unsupervised learning algorithms can detect anomalies or outliers in data by identifying patterns that deviate significantly from the norm.\n",
        "- For example, clustering algorithms like k-means can group data points into clusters, and points that do not belong to any cluster may be considered anomalies.\n",
        "- Anomaly detection can be applied in various domains, including fraud detection in finance, fault detection in industrial systems, and intrusion detection in cybersecurity.\n",
        "\n",
        "Q8: **Commonly used algorithms**:\n",
        "- **Supervised learning algorithms**: Decision Trees, Random Forest, Support Vector Machines (SVM), Logistic Regression, Gradient Boosting Machines (GBM), Neural Networks.\n",
        "- **Unsupervised learning algorithms**: K-means clustering, Hierarchical clustering, Principal Component Analysis (PCA), t-Distributed Stochastic Neighbor Embedding (t-SNE), Apriori algorithm for association rule learning."
      ],
      "metadata": {
        "id": "9ZKA9bGhYBq0"
      }
    }
  ]
}