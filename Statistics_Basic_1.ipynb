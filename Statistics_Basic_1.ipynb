{
  "nbformat": 4,
  "nbformat_minor": 0,
  "metadata": {
    "colab": {
      "provenance": []
    },
    "kernelspec": {
      "name": "python3",
      "display_name": "Python 3"
    },
    "language_info": {
      "name": "python"
    }
  },
  "cells": [
    {
      "cell_type": "markdown",
      "source": [
        "Q1. **What is Statistics?**\n",
        "\n",
        "Statistics is a branch of mathematics that deals with the collection, analysis, interpretation, presentation, and organization of data. It involves methods for gathering, summarizing, and drawing conclusions from data to make informed decisions, predictions, or inferences about a population or phenomenon.\n",
        "\n",
        "Q2. **Types of Statistics and Examples**:\n",
        "\n",
        "1. **Descriptive Statistics**:\n",
        "   - **Definition**: Descriptive statistics summarize and describe the main features of a dataset. They provide simple summaries about the sample and the observations that have been made.\n",
        "   - **Example**: Calculating the mean, median, and mode of exam scores to understand the central tendency and distribution of student performance.\n",
        "\n",
        "2. **Inferential Statistics**:\n",
        "   - **Definition**: Inferential statistics use sample data to make inferences or predictions about a population. It involves drawing conclusions or making generalizations beyond the data that have been observed.\n",
        "   - **Example**: Conducting hypothesis tests to determine if there is a significant difference in exam scores between two groups of students (e.g., males vs. females).\n",
        "\n",
        "Q3. **Types of Data and Examples**:\n",
        "\n",
        "1. **Qualitative Data**:\n",
        "   - **Definition**: Qualitative data are categorical or non-numeric data that describe qualities or characteristics. They cannot be measured numerically.\n",
        "   - **Example**: Types of fruit (e.g., apple, banana, orange).\n",
        "\n",
        "2. **Quantitative Data**:\n",
        "   - **Definition**: Quantitative data are numerical data that represent quantities or amounts. They can be measured and expressed numerically.\n",
        "   - **Example**: Heights of students (e.g., 160 cm, 170 cm, 180 cm).\n",
        "\n",
        "3. **Discrete Data**:\n",
        "   - **Definition**: Discrete data are quantitative data that can only take specific values and cannot be divided into smaller parts.\n",
        "   - **Example**: Number of students in a classroom (e.g., 25 students, 30 students).\n",
        "\n",
        "4. **Continuous Data**:\n",
        "   - **Definition**: Continuous data are quantitative data that can take any value within a given range. They can be divided into smaller and smaller parts, and there are infinite possible values between any two points.\n",
        "   - **Example**: Weight of students (e.g., 55.5 kg, 60.2 kg, 65.8 kg).\n",
        "\n",
        "These concepts provide a foundation for understanding statistics, different types of statistical analyses, and the nature of data."
      ],
      "metadata": {
        "id": "EafPTOH9IRUm"
      }
    }
  ]
}