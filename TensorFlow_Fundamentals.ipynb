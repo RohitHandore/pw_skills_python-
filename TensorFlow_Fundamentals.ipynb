{
  "nbformat": 4,
  "nbformat_minor": 0,
  "metadata": {
    "colab": {
      "provenance": []
    },
    "kernelspec": {
      "name": "python3",
      "display_name": "Python 3"
    },
    "language_info": {
      "name": "python"
    }
  },
  "cells": [
    {
      "cell_type": "markdown",
      "source": [
        "### 1. Data Structures in TensorFlow\n",
        "\n",
        "TensorFlow provides several key data structures that are essential for constructing and manipulating tensors. Here are some of the most commonly used data structures in TensorFlow:\n",
        "\n",
        "- **Tensors**: The primary data structure in TensorFlow, representing multi-dimensional arrays. Tensors are immutable.\n",
        "  - **Example**:\n",
        "    ```python\n",
        "    import tensorflow as tf\n",
        "    tensor = tf.constant([[1, 2], [3, 4]])\n",
        "    ```\n",
        "\n",
        "- **Variables**: Mutable tensors used to store and update parameters during training.\n",
        "  - **Example**:\n",
        "    ```python\n",
        "    variable = tf.Variable([[1, 2], [3, 4]])\n",
        "    ```\n",
        "\n",
        "- **DataSets**: Used to handle large datasets efficiently and perform operations like batching and shuffling.\n",
        "  - **Example**:\n",
        "    ```python\n",
        "    dataset = tf.data.Dataset.from_tensor_slices([1, 2, 3, 4, 5])\n",
        "    dataset = dataset.batch(2)\n",
        "    ```\n",
        "\n",
        "- **SparseTensors**: Efficiently represent tensors with a large number of zero values.\n",
        "  - **Example**:\n",
        "    ```python\n",
        "    sparse_tensor = tf.sparse.SparseTensor(indices=[[0, 0], [1, 2]], values=[1, 2], dense_shape=[3, 4])\n",
        "    ```\n",
        "\n",
        "- **RaggedTensors**: Used to handle tensors with variable-length dimensions.\n",
        "  - **Example**:\n",
        "    ```python\n",
        "    ragged_tensor = tf.ragged.constant([[1, 2], [3, 4, 5], [6]])\n",
        "    ```\n",
        "\n",
        "### 2. TensorFlow Constants vs. Variables\n",
        "\n",
        "- **TensorFlow Constant**: An immutable tensor whose value cannot be changed after it is created.\n",
        "  - **Example**:\n",
        "    ```python\n",
        "    import tensorflow as tf\n",
        "    constant = tf.constant([1, 2, 3], dtype=tf.float32)\n",
        "    ```\n",
        "\n",
        "- **TensorFlow Variable**: A mutable tensor that can be updated during training. Variables are typically used to represent model parameters.\n",
        "  - **Example**:\n",
        "    ```python\n",
        "    variable = tf.Variable([1, 2, 3], dtype=tf.float32)\n",
        "    variable.assign([4, 5, 6])  # Update the variable's value\n",
        "    ```\n",
        "\n",
        "### 3. Matrix Operations in TensorFlow\n",
        "\n",
        "- **Matrix Addition**: Adding corresponding elements of two matrices.\n",
        "  - **Example**:\n",
        "    ```python\n",
        "    import tensorflow as tf\n",
        "    matrix1 = tf.constant([[1, 2], [3, 4]])\n",
        "    matrix2 = tf.constant([[5, 6], [7, 8]])\n",
        "    result = tf.add(matrix1, matrix2)\n",
        "    # result is [[6, 8], [10, 12]]\n",
        "    ```\n",
        "\n",
        "- **Matrix Multiplication**: Performing dot product of two matrices.\n",
        "  - **Example**:\n",
        "    ```python\n",
        "    import tensorflow as tf\n",
        "    matrix1 = tf.constant([[1, 2], [3, 4]])\n",
        "    matrix2 = tf.constant([[5, 6], [7, 8]])\n",
        "    result = tf.matmul(matrix1, matrix2)\n",
        "    # result is [[19, 22], [43, 50]]\n",
        "    ```\n",
        "\n",
        "- **Element-wise Operations**: Performing operations element by element.\n",
        "  - **Example (Element-wise Multiplication)**:\n",
        "    ```python\n",
        "    import tensorflow as tf\n",
        "    matrix1 = tf.constant([[1, 2], [3, 4]])\n",
        "    matrix2 = tf.constant([[5, 6], [7, 8]])\n",
        "    result = tf.multiply(matrix1, matrix2)\n",
        "    # result is [[5, 12], [21, 32]]\n",
        "    ```\n",
        "\n",
        "These examples illustrate how TensorFlow handles different matrix operations, making it easier to perform complex mathematical computations required in machine learning and deep learning tasks."
      ],
      "metadata": {
        "id": "-htgohhBPfy0"
      }
    },
    {
      "cell_type": "markdown",
      "source": [
        "1. Create a normal matrix A with dimensions 3x3, using TensorFlow's random_normal function. Display the values of matrix A.\n",
        "\n",
        "2. Create a Gaussian matrix B with dimensions 4x4, using TensorFlow's truncated_normal function. Display the values of matrix B.\n",
        "\n",
        "3. Create a matrix C with dimensions 2x2, where the values are drawn from a normal distribution with a mean of 3 and a standard deviation of 0.5, using TensorFlow's random.normal function. Display the values of matrix C.\n",
        "\n",
        "4. Perform matrix addition between matrix A and matrix B, and store the result in matrix D.\n",
        "\n",
        "5. Perform matrix multiplication between matrix C and matrix D, and store the result in matrix E."
      ],
      "metadata": {
        "id": "GvUrLkilQrC4"
      }
    },
    {
      "cell_type": "markdown",
      "source": [
        "Here is the code to perform the requested operations using TensorFlow:\n",
        "\n",
        "import tensorflow as tf\n",
        "\n",
        "# 1. Create a normal matrix A with dimensions 3x3\n",
        "A = tf.random.normal(shape=(3, 3))\n",
        "print(\"Matrix A:\")\n",
        "print(A.numpy())\n",
        "\n",
        "# 2. Create a Gaussian matrix B with dimensions 4x4\n",
        "B = tf.truncated_normal(shape=(4, 4), mean=0.0, stddev=1.0)\n",
        "print(\"Matrix B:\")\n",
        "print(B.numpy())\n",
        "\n",
        "# 3. Create a matrix C with dimensions 2x2\n",
        "C = tf.random.normal(shape=(2, 2), mean=3.0, stddev=0.5)\n",
        "print(\"Matrix C:\")\n",
        "print(C.numpy())\n",
        "\n",
        "# 4. Perform matrix addition between matrix A and matrix B\n",
        "D = tf.add(A, B[:3, :3])  # slice B to match A's dimensions\n",
        "print(\"Matrix D (A + B):\")\n",
        "print(D.numpy())\n",
        "\n",
        "# 5. Perform matrix multiplication between matrix C and matrix D\n",
        "E = tf.matmul(C, D[:2, :2])  # slice D to match C's dimensions\n",
        "print(\"Matrix E (C * D):\")\n",
        "print(E.numpy())\n",
        "\n",
        "Note that when performing matrix addition and multiplication, we need to ensure the matrices have compatible dimensions. In this case, we sliced matrix B to match the dimensions of matrix A for addition, and sliced matrix D to match the dimensions of matrix C for multiplication."
      ],
      "metadata": {
        "id": "J4i3oY81RD14"
      }
    },
    {
      "cell_type": "markdown",
      "source": [
        "1. Create a matrix F with dimensions 3x3, initialized with random values using TensorFlow's random_uniform function.\n",
        "\n",
        "2. Calculate the transpose of matri\n",
        "\n",
        "the result in matr\n",
        "\n",
        "Page 2\n",
        "\n",
        "+ 3. Calculate the element-wise exponential of matrix F and store the result in matrix H."
      ],
      "metadata": {
        "id": "8ek37EPkRHXA"
      }
    },
    {
      "cell_type": "markdown",
      "source": [
        "Here is the code to perform the requested operations using TensorFlow:\n",
        "\n",
        "import tensorflow as tf\n",
        "\n",
        "# 1. Create a matrix F with dimensions 3x3\n",
        "F = tf.random.uniform(shape=(3, 3), minval=0, maxval=1)\n",
        "print(\"Matrix F:\")\n",
        "print(F.numpy())\n",
        "\n",
        "# 2. Calculate the transpose of matrix F\n",
        "G = tf.transpose(F)\n",
        "print(\"Matrix G (F transpose):\")\n",
        "print(G.numpy())\n",
        "\n",
        "# 3. Calculate the element-wise exponential of matrix F\n",
        "H = tf.exp(F)\n",
        "print(\"Matrix H (exp(F)):\")\n",
        "print(H.numpy())\n",
        "\n",
        "This code first creates a 3x3 matrix F with random values between 0 and 1 using tf.random.uniform. Then, it calculates the transpose of matrix F using tf.transpose and stores the result in matrix G. Finally, it calculates the element-wise exponential of matrix F using tf.exp and stores the result in matrix H."
      ],
      "metadata": {
        "id": "NmTVGW7eRJsC"
      }
    }
  ]
}