{
  "nbformat": 4,
  "nbformat_minor": 0,
  "metadata": {
    "colab": {
      "provenance": []
    },
    "kernelspec": {
      "name": "python3",
      "display_name": "Python 3"
    },
    "language_info": {
      "name": "python"
    }
  },
  "cells": [
    {
      "cell_type": "markdown",
      "source": [
        "Q1. Which keyword is used to create a function? Create a function to return a list of odd numbers in the\n",
        "range of 1 to 25."
      ],
      "metadata": {
        "id": "ZiIXPwKNGa5t"
      }
    },
    {
      "cell_type": "markdown",
      "source": [
        "The keyword used to create a function in Python is `def`.\n",
        "\n",
        "Here's how you can create a function to return a list of odd numbers in the range of 1 to 25:\n",
        "\n",
        "```python\n",
        "def odd_numbers():\n",
        "    odd_nums = [num for num in range(1, 26) if num % 2 != 0]\n",
        "    return odd_nums\n",
        "\n",
        "# Test the function\n",
        "print(odd_numbers())\n",
        "```\n",
        "\n",
        "When you run this code, it will output:\n",
        "\n",
        "```\n",
        "[1, 3, 5, 7, 9, 11, 13, 15, 17, 19, 21, 23, 25]\n",
        "```\n",
        "\n",
        "This function `odd_numbers()` returns a list of odd numbers from 1 to 25 using list comprehension."
      ],
      "metadata": {
        "id": "MzQTV9tTGdqY"
      }
    },
    {
      "cell_type": "markdown",
      "source": [
        "Q2. Why *args and **kwargs is used in some functions? Create a function each for *args and **kwargs to\n",
        "demonstrate their use."
      ],
      "metadata": {
        "id": "fCQQ1W4LGf-p"
      }
    },
    {
      "cell_type": "markdown",
      "source": [
        "`*args` and `**kwargs` are used in Python functions to accept a variable number of positional arguments and keyword arguments, respectively.\n",
        "\n",
        "- `*args` allows a function to accept any number of positional arguments as a tuple.\n",
        "- `**kwargs` allows a function to accept any number of keyword arguments as a dictionary.\n",
        "\n",
        "Here's how you can create functions to demonstrate the use of `*args` and `**kwargs`:\n",
        "\n",
        "```python\n",
        "# Function using *args\n",
        "def sum_all(*args):\n",
        "    total = 0\n",
        "    for num in args:\n",
        "        total += num\n",
        "    return total\n",
        "\n",
        "# Function using **kwargs\n",
        "def display_info(**kwargs):\n",
        "    for key, value in kwargs.items():\n",
        "        print(f\"{key}: {value}\")\n",
        "\n",
        "# Demonstration\n",
        "print(\"Using *args:\")\n",
        "print(\"Sum of 1, 2, 3, 4, 5:\", sum_all(1, 2, 3, 4, 5))\n",
        "\n",
        "print(\"\\nUsing **kwargs:\")\n",
        "display_info(name=\"Alice\", age=30, country=\"USA\")\n",
        "```\n",
        "\n",
        "Output:\n",
        "```\n",
        "Using *args:\n",
        "Sum of 1, 2, 3, 4, 5: 15\n",
        "\n",
        "Using **kwargs:\n",
        "name: Alice\n",
        "age: 30\n",
        "country: USA\n",
        "```\n",
        "\n",
        "In the `sum_all()` function, `*args` allows you to pass any number of arguments, and it collects them into a tuple. In `display_info()`, `**kwargs` allows you to pass any number of keyword arguments, and it collects them into a dictionary."
      ],
      "metadata": {
        "id": "FFC0d1R4GjnO"
      }
    },
    {
      "cell_type": "markdown",
      "source": [
        "Q3. What is an iterator in python? Name the method used to initialise the iterator object and the method\n",
        "used for iteration. Use these methods to print the first five elements of the given list [2, 4, 6, 8, 10, 12, 14, 16,\n",
        "18, 20]."
      ],
      "metadata": {
        "id": "tCKsOcq3GpDL"
      }
    },
    {
      "cell_type": "markdown",
      "source": [
        "An iterator in Python is an object that represents a stream of data. It implements the iterator protocol, which consists of two methods:\n",
        "\n",
        "1. **\\_\\_iter\\_\\_()**: This method initializes the iterator object. It returns the iterator object itself.\n",
        "2. **\\_\\_next\\_\\_()**: This method retrieves the next element from the iterator. When there are no more elements, it raises the `StopIteration` exception.\n",
        "\n",
        "Here's how you can use these methods to print the first five elements of the given list:\n",
        "\n",
        "```python\n",
        "# Given list\n",
        "my_list = [2, 4, 6, 8, 10, 12, 14, 16, 18, 20]\n",
        "\n",
        "# Initialize the iterator object\n",
        "my_iter = iter(my_list)\n",
        "\n",
        "# Iterate using the iterator\n",
        "print(\"First five elements of the list:\")\n",
        "for _ in range(5):\n",
        "    print(next(my_iter))\n",
        "```\n",
        "\n",
        "Output:\n",
        "```\n",
        "First five elements of the list:\n",
        "2\n",
        "4\n",
        "6\n",
        "8\n",
        "10\n",
        "```\n",
        "\n",
        "In this example, `iter(my_list)` initializes the iterator object `my_iter`, and `next(my_iter)` is used to iterate over the first five elements of the list."
      ],
      "metadata": {
        "id": "XlGe_NtjGwMw"
      }
    },
    {
      "cell_type": "markdown",
      "source": [
        "Q4. What is a generator function in python? Why yield keyword is used? Give an example of a generator\n",
        "function."
      ],
      "metadata": {
        "id": "_w0WrI1kGz_W"
      }
    },
    {
      "cell_type": "markdown",
      "source": [
        "A generator function in Python is a special type of function that returns an iterator called a generator. It uses the `yield` keyword to produce a series of values lazily, i.e., one at a time, on-the-fly, instead of storing them in memory all at once like a list.\n",
        "\n",
        "The `yield` keyword is used in a generator function to return a value to the caller while maintaining the function's state so that it can resume execution right after the last `yield` statement. This allows for memory-efficient iteration, especially for large or infinite sequences.\n",
        "\n",
        "Here's an example of a generator function that generates Fibonacci numbers:\n",
        "\n",
        "```python\n",
        "def fibonacci():\n",
        "    a, b = 0, 1\n",
        "    while True:\n",
        "        yield a\n",
        "        a, b = b, a + b\n",
        "\n",
        "# Using the generator\n",
        "fib_gen = fibonacci()\n",
        "for _ in range(10):\n",
        "    print(next(fib_gen))\n",
        "```\n",
        "\n",
        "Output:\n",
        "```\n",
        "0\n",
        "1\n",
        "1\n",
        "2\n",
        "3\n",
        "5\n",
        "8\n",
        "13\n",
        "21\n",
        "34\n",
        "```\n",
        "\n",
        "In this example, `fibonacci()` is a generator function that yields Fibonacci numbers infinitely. When you call `next(fib_gen)`, it yields the next Fibonacci number in the sequence. The state of the function is maintained between each call, allowing it to produce the next value when needed without storing the entire sequence in memory."
      ],
      "metadata": {
        "id": "j6Z7iXHLG6TB"
      }
    },
    {
      "cell_type": "markdown",
      "source": [
        "Q5. Create a generator function for prime numbers less than 1000. Use the next() method to print the\n",
        "first 20 prime numbers."
      ],
      "metadata": {
        "id": "S9M_wfqlG7Xk"
      }
    },
    {
      "cell_type": "markdown",
      "source": [
        "You can create a generator function to generate prime numbers less than 1000 and then use the `next()` method to print the first 20 prime numbers. Here's how you can do it:\n",
        "\n",
        "```python\n",
        "def is_prime(n):\n",
        "    if n <= 1:\n",
        "        return False\n",
        "    if n <= 3:\n",
        "        return True\n",
        "    if n % 2 == 0 or n % 3 == 0:\n",
        "        return False\n",
        "    i = 5\n",
        "    while i * i <= n:\n",
        "        if n % i == 0 or n % (i + 2) == 0:\n",
        "            return False\n",
        "        i += 6\n",
        "    return True\n",
        "\n",
        "def primes_generator():\n",
        "    num = 2\n",
        "    while num < 1000:\n",
        "        if is_prime(num):\n",
        "            yield num\n",
        "        num += 1\n",
        "\n",
        "# Using the generator\n",
        "prime_gen = primes_generator()\n",
        "for _ in range(20):\n",
        "    print(next(prime_gen))\n",
        "```\n",
        "\n",
        "This code will output the first 20 prime numbers less than 1000:\n",
        "\n",
        "```\n",
        "2\n",
        "3\n",
        "5\n",
        "7\n",
        "11\n",
        "13\n",
        "17\n",
        "19\n",
        "23\n",
        "29\n",
        "31\n",
        "37\n",
        "41\n",
        "43\n",
        "47\n",
        "53\n",
        "59\n",
        "61\n",
        "67\n",
        "71\n",
        "```"
      ],
      "metadata": {
        "id": "ltNKEZNaHACV"
      }
    }
  ]
}