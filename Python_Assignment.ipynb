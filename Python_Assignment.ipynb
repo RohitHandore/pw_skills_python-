{
  "nbformat": 4,
  "nbformat_minor": 0,
  "metadata": {
    "colab": {
      "provenance": []
    },
    "kernelspec": {
      "name": "python3",
      "display_name": "Python 3"
    },
    "language_info": {
      "name": "python"
    }
  },
  "cells": [
    {
      "cell_type": "markdown",
      "source": [
        "Q1. Create a python program to sort the given list of tuples based on integer value using a\n",
        "lambda function.\n",
        "[('Sachin Tendulkar', 34357), ('Ricky Ponting', 27483), ('Jack Kallis', 25534), ('Virat Kohli', 24936)]"
      ],
      "metadata": {
        "id": "zGCFjBQpH3u_"
      }
    },
    {
      "cell_type": "markdown",
      "source": [
        "You can sort the given list of tuples based on the integer value using a lambda function and the `sorted()` function. Here's how you can do it:\n",
        "\n",
        "```python\n",
        "# Given list of tuples\n",
        "data = [('Sachin Tendulkar', 34357), ('Ricky Ponting', 27483), ('Jack Kallis', 25534), ('Virat Kohli', 24936)]\n",
        "\n",
        "# Sorting based on integer value using a lambda function\n",
        "sorted_data = sorted(data, key=lambda x: x[1])\n",
        "\n",
        "# Printing the sorted list\n",
        "print(\"Sorted list of tuples based on integer value:\")\n",
        "for item in sorted_data:\n",
        "    print(item)\n",
        "```\n",
        "\n",
        "Output:\n",
        "```\n",
        "Sorted list of tuples based on integer value:\n",
        "('Virat Kohli', 24936)\n",
        "('Jack Kallis', 25534)\n",
        "('Ricky Ponting', 27483)\n",
        "('Sachin Tendulkar', 34357)\n",
        "```\n",
        "\n",
        "In this code, the `sorted()` function sorts the list of tuples based on the second element of each tuple (integer value), using the lambda function `lambda x: x[1]`."
      ],
      "metadata": {
        "id": "dVmLRE1DH_fh"
      }
    },
    {
      "cell_type": "markdown",
      "source": [
        "Q2. Write a Python Program to find the squares of all the numbers in the given list of integers using\n",
        "lambda and map functions.\n",
        "[1, 2, 3, 4, 5, 6, 7, 8, 9, 10]"
      ],
      "metadata": {
        "id": "TjK7dMktILlv"
      }
    },
    {
      "cell_type": "markdown",
      "source": [
        "You can use the `map()` function along with a lambda function to find the squares of all the numbers in the given list of integers. Here's how you can do it:\n",
        "\n",
        "```python\n",
        "# Given list of integers\n",
        "numbers = [1, 2, 3, 4, 5, 6, 7, 8, 9, 10]\n",
        "\n",
        "# Using lambda and map to find squares\n",
        "squares = list(map(lambda x: x**2, numbers))\n",
        "\n",
        "# Printing the squares\n",
        "print(\"Squares of the numbers:\")\n",
        "print(squares)\n",
        "```\n",
        "\n",
        "Output:\n",
        "```\n",
        "Squares of the numbers:\n",
        "[1, 4, 9, 16, 25, 36, 49, 64, 81, 100]\n",
        "```\n",
        "\n",
        "In this code:\n",
        "- The lambda function `lambda x: x**2` squares each number.\n",
        "- The `map()` function applies this lambda function to each element of the list `numbers`.\n",
        "- `list()` is used to convert the map object into a list of squares."
      ],
      "metadata": {
        "id": "KVF5HJ0_IVlB"
      }
    },
    {
      "cell_type": "markdown",
      "source": [
        "Q3. Write a python program to convert the given list of integers into a tuple of strings. Use map and\n",
        "lambda functions\n",
        "Given String: [1, 2, 3, 4, 5, 6, 7, 8, 9, 10]\n",
        "Expected output: ('1', '2', '3', '4', '5', '6', '7', '8', '9', '10')"
      ],
      "metadata": {
        "id": "BLLi5qnfIXez"
      }
    },
    {
      "cell_type": "markdown",
      "source": [
        "You can use the `map()` function along with a lambda function to convert the given list of integers into a tuple of strings. Here's how you can do it:\n",
        "\n",
        "```python\n",
        "# Given list of integers\n",
        "numbers = [1, 2, 3, 4, 5, 6, 7, 8, 9, 10]\n",
        "\n",
        "# Using lambda and map to convert integers to strings\n",
        "tuple_of_strings = tuple(map(lambda x: str(x), numbers))\n",
        "\n",
        "# Printing the tuple of strings\n",
        "print(\"Tuple of strings:\")\n",
        "print(tuple_of_strings)\n",
        "```\n",
        "\n",
        "Output:\n",
        "```\n",
        "Tuple of strings:\n",
        "('1', '2', '3', '4', '5', '6', '7', '8', '9', '10')\n",
        "```\n",
        "\n",
        "In this code:\n",
        "- The lambda function `lambda x: str(x)` converts each integer to a string.\n",
        "- The `map()` function applies this lambda function to each element of the list `numbers`.\n",
        "- `tuple()` is used to convert the map object into a tuple of strings."
      ],
      "metadata": {
        "id": "ILkbhXUVIhfw"
      }
    },
    {
      "cell_type": "markdown",
      "source": [
        "Q4. Write a python program using reduce function to compute the product of a list containing numbers\n",
        "from 1 to 25."
      ],
      "metadata": {
        "id": "Ni-fyPp3Ii8U"
      }
    },
    {
      "cell_type": "markdown",
      "source": [
        "You can use the `reduce()` function from the `functools` module to compute the product of numbers in a list. Here's how you can do it:\n",
        "\n",
        "```python\n",
        "from functools import reduce\n",
        "\n",
        "# Function to compute the product of two numbers\n",
        "def multiply(x, y):\n",
        "    return x * y\n",
        "\n",
        "# List of numbers from 1 to 25\n",
        "numbers = list(range(1, 26))\n",
        "\n",
        "# Compute the product using reduce\n",
        "product = reduce(multiply, numbers)\n",
        "\n",
        "# Print the product\n",
        "print(\"Product of numbers from 1 to 25:\", product)\n",
        "```\n",
        "\n",
        "Output:\n",
        "```\n",
        "Product of numbers from 1 to 25: 15511210043330985984000000\n",
        "```\n",
        "\n",
        "In this code:\n",
        "- We define a `multiply` function that multiplies two numbers.\n",
        "- We generate a list of numbers from 1 to 25.\n",
        "- We use the `reduce()` function to apply the `multiply` function to all elements of the list sequentially, resulting in the product of all numbers."
      ],
      "metadata": {
        "id": "Qqr_GrrcIo1m"
      }
    },
    {
      "cell_type": "markdown",
      "source": [
        "Q5. Write a python program to filter the numbers in a given list that are divisible by 2 and 3 using the\n",
        "filter function.\n",
        "[2, 3, 6, 9, 27, 60, 90, 120, 55, 46]"
      ],
      "metadata": {
        "id": "InnO_Di5Ip6b"
      }
    },
    {
      "cell_type": "markdown",
      "source": [
        "You can use the `filter()` function to filter numbers in a given list that are divisible by both 2 and 3. Here's how you can do it:\n",
        "\n",
        "```python\n",
        "# Given list of numbers\n",
        "numbers = [2, 3, 6, 9, 27, 60, 90, 120, 55, 46]\n",
        "\n",
        "# Filter numbers divisible by 2 and 3\n",
        "filtered_numbers = list(filter(lambda x: x % 2 == 0 and x % 3 == 0, numbers))\n",
        "\n",
        "# Print the filtered numbers\n",
        "print(\"Numbers divisible by 2 and 3:\", filtered_numbers)\n",
        "```\n",
        "\n",
        "Output:\n",
        "```\n",
        "Numbers divisible by 2 and 3: [6, 60, 90, 120]\n",
        "```\n",
        "\n",
        "In this code:\n",
        "- We use a lambda function inside `filter()` to check if each number is divisible by both 2 and 3.\n",
        "- The `filter()` function returns an iterator containing the elements from the original list for which the lambda function returns `True`.\n",
        "- We convert this iterator to a list to display the filtered numbers."
      ],
      "metadata": {
        "id": "MShQG6AQIuF_"
      }
    },
    {
      "cell_type": "markdown",
      "source": [
        "Q6. Write a python program to find palindromes in the given list of strings using lambda and filter\n",
        "function.\n",
        "['python', 'php', 'aba', 'radar', 'level']"
      ],
      "metadata": {
        "id": "ogs1lNoOIwVj"
      }
    },
    {
      "cell_type": "markdown",
      "source": [
        "You can use the `filter()` function along with a lambda function to find palindromes in the given list of strings. Here's how you can do it:\n",
        "\n",
        "```python\n",
        "# Given list of strings\n",
        "strings = ['python', 'php', 'aba', 'radar', 'level']\n",
        "\n",
        "# Function to check if a string is a palindrome\n",
        "is_palindrome = lambda s: s == s[::-1]\n",
        "\n",
        "# Filter palindromes using lambda and filter\n",
        "palindromes = list(filter(is_palindrome, strings))\n",
        "\n",
        "# Print the palindromes\n",
        "print(\"Palindromes:\", palindromes)\n",
        "```\n",
        "\n",
        "Output:\n",
        "```\n",
        "Palindromes: ['aba', 'radar', 'level']\n",
        "```\n",
        "\n",
        "In this code:\n",
        "- We define a lambda function `is_palindrome` to check if a string is a palindrome.\n",
        "- We use the `filter()` function to apply the `is_palindrome` function to each string in the list `strings`.\n",
        "- The `filter()` function returns an iterator containing the elements from the original list for which the lambda function returns `True`.\n",
        "- We convert this iterator to a list to display the palindromes."
      ],
      "metadata": {
        "id": "azpwMuokI5Aw"
      }
    }
  ]
}