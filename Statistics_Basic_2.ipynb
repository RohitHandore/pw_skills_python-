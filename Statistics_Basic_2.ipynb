{
  "nbformat": 4,
  "nbformat_minor": 0,
  "metadata": {
    "colab": {
      "provenance": []
    },
    "kernelspec": {
      "name": "python3",
      "display_name": "Python 3"
    },
    "language_info": {
      "name": "python"
    }
  },
  "cells": [
    {
      "cell_type": "markdown",
      "source": [
        "Q1. **Three Measures of Central Tendency**:\n",
        "   - Mean\n",
        "   - Median\n",
        "   - Mode\n",
        "\n",
        "Q2. **Difference Between Mean, Median, and Mode**:\n",
        "   - **Mean**: The mean is the average of all the data points in a dataset. It is calculated by summing all the values and dividing by the total number of values.\n",
        "   - **Median**: The median is the middle value in a dataset when the values are arranged in ascending or descending order. If there is an even number of values, the median is the average of the two middle values.\n",
        "   - **Mode**: The mode is the value that appears most frequently in a dataset. A dataset may have one mode (unimodal), two modes (bimodal), or more than two modes (multimodal).\n",
        "\n",
        "   These measures are used to describe the central tendency of a dataset by providing a typical or representative value around which the data points tend to cluster.\n",
        "\n",
        "Q3. **Measures of Central Tendency for Height Data**:\n",
        "   - Mean: \\( \\frac{1}{n} \\sum_{i=1}^{n} x_i \\) = 177.6\n",
        "   - Median: 177.5\n",
        "   - Mode: 178\n",
        "\n",
        "Q4. **Standard Deviation for Height Data**:\n",
        "   - Standard deviation measures the dispersion or spread of data points around the mean.\n",
        "   - Standard Deviation ≈ 1.91\n",
        "\n",
        "Q5. **Measures of Dispersion and Their Uses**:\n",
        "   - Range: Simplest measure of dispersion, calculated as the difference between the maximum and minimum values.\n",
        "   - Variance: Measures how much the data values deviate from the mean. It is the average of the squared differences from the mean.\n",
        "   - Standard Deviation: Square root of the variance, providing a measure of the average distance of data points from the mean.\n",
        "   - Example: In a dataset of exam scores, range indicates the difference between the highest and lowest scores, variance quantifies the overall variability of scores, and standard deviation indicates how much the scores deviate from the mean.\n",
        "\n",
        "Q6. **Venn Diagram**:\n",
        "   - A Venn diagram is a graphical representation of the relationships between different sets or groups. It consists of overlapping circles or other shapes, with each circle representing a set and the overlap showing the intersection between sets.\n",
        "\n",
        "Please let me know if you'd like to continue with the remaining questions or if you need further explanation on any of the concepts mentioned above!"
      ],
      "metadata": {
        "id": "QqKGiV40JE2D"
      }
    }
  ]
}