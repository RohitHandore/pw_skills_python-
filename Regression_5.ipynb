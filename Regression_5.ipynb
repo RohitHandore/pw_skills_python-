{
  "nbformat": 4,
  "nbformat_minor": 0,
  "metadata": {
    "colab": {
      "provenance": []
    },
    "kernelspec": {
      "name": "python3",
      "display_name": "Python 3"
    },
    "language_info": {
      "name": "python"
    }
  },
  "cells": [
    {
      "cell_type": "markdown",
      "source": [
        "Q1. What is Elastic Net Regression and how does it differ from other regression techniques?\n",
        "\n",
        "Q2. How do you choose the optimal values of the regularization parameters for Elastic Net Regression?\n",
        "\n",
        "Q3. What are the advantages and disadvantages of Elastic Net Regression?\n",
        "\n",
        "Q4. What are some common use cases for Elastic Net Regression?\n",
        "\n",
        "Q5. How do you interpret the coefficients in Elastic Net Regression?\n",
        "\n",
        "Q6. How do you handle missing values when using Elastic Net Regression?\n",
        "\n",
        "Q7. How do you use Elastic Net Regression for feature selection?\n",
        "\n",
        "Q8. How do you pickle and unpickle a trained Elastic Net Regression model in Python?\n",
        "\n",
        "Q9. What is the purpose of pickling a model in machine learning?"
      ],
      "metadata": {
        "id": "glTgxyjrKjGU"
      }
    },
    {
      "cell_type": "markdown",
      "source": [
        "Here are the answers:\n",
        "\n",
        "Q1. Elastic Net Regression is a type of regularized regression that combines the benefits of Lasso and Ridge regression. It uses a combination of L1 and L2 regularization to reduce overfitting and improve model generalization. Unlike Lasso, which sets some coefficients to zero, Elastic Net Regression retains all coefficients but reduces their magnitude.\n",
        "\n",
        "Q2. The optimal values of the regularization parameters (alpha and l1_ratio) can be chosen using cross-validation, grid search, or other hyperparameter tuning techniques.\n",
        "\n",
        "Q3. Advantages: Elastic Net Regression retains all features, handles multicollinearity, and provides a more flexible regularization approach. Disadvantages: Computational complexity, requires hyperparameter tuning.\n",
        "\n",
        "Q4. Common use cases: feature selection, dimensionality reduction, handling multicollinearity, and regression problems with high-dimensional data.\n",
        "\n",
        "Q5. Coefficients in Elastic Net Regression can be interpreted similarly to those in linear regression, but with reduced magnitude due to regularization.\n",
        "\n",
        "Q6. Missing values can be handled using imputation techniques (e.g., mean, median, or imputation libraries like scikit-learn).\n",
        "\n",
        "Q7. Elastic Net Regression can be used for feature selection by retaining only the features with non-zero coefficients.\n",
        "\n",
        "Q8. In Python, you can use the pickle library to serialize and deserialize a trained Elastic Net Regression model.\n",
        "\n",
        "Q9. Pickling a model allows for model persistence, enabling you to save a trained model and load it later for inference or further training, ensuring reproducibility and efficiency.\n",
        "\n",
        "Note: Elastic Net Regression is implemented in scikit-learn as ElasticNet and ElasticNetCV (with cross-validation)."
      ],
      "metadata": {
        "id": "tFGAGByKKpnN"
      }
    }
  ]
}