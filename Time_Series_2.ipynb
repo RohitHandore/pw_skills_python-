{
  "nbformat": 4,
  "nbformat_minor": 0,
  "metadata": {
    "colab": {
      "provenance": []
    },
    "kernelspec": {
      "name": "python3",
      "display_name": "Python 3"
    },
    "language_info": {
      "name": "python"
    }
  },
  "cells": [
    {
      "cell_type": "markdown",
      "source": [
        "Q1. What is meant by time-dependent seasonal components?\n",
        "\n",
        "Q2. How can time-dependent seasonal components be identified in time series data?\n",
        "\n",
        "Q3. What are the factors that can influence time-dependent seasonal components?\n",
        "\n",
        "Q4. How are autoregression models used in time series analysis and forecasting?\n",
        "\n",
        "Q5. How do you use autoregression models to make predictions for future time points?\n",
        "\n",
        "Q6. What is a moving average (MA) model and how does it differ from other time series models?\n",
        "\n",
        "Q7. What is a mixed ARMA model and how does it differ from an AR or MA model?"
      ],
      "metadata": {
        "id": "GJV3yDbdWgch"
      }
    },
    {
      "cell_type": "markdown",
      "source": [
        "Here are the answers to your questions:\n",
        "\n",
        "1. Time-dependent seasonal components refer to seasonal patterns that change over time, such as a seasonal pattern that becomes more or less pronounced over the years.\n",
        "\n",
        "2. Time-dependent seasonal components can be identified in time series data by:\n",
        "    - Visual inspection of the time series plot\n",
        "    - Seasonal decomposition techniques (e.g., STL decomposition)\n",
        "    - Statistical tests (e.g., Seasonal-Trend Decomposition)\n",
        "\n",
        "3. Factors that can influence time-dependent seasonal components include:\n",
        "    - Changes in weather patterns\n",
        "    - Shifts in consumer behavior\n",
        "    - Economic trends\n",
        "    - Technological advancements\n",
        "\n",
        "4. Autoregression (AR) models are used in time series analysis and forecasting by:\n",
        "    - Modeling the relationship between past values and future values\n",
        "    - Capturing patterns and trends in the data\n",
        "    - Making predictions for future time points\n",
        "\n",
        "5. Autoregression models make predictions for future time points by:\n",
        "    - Using past values to forecast future values\n",
        "    - Weighting the importance of past values based on their proximity to the forecast point\n",
        "\n",
        "6. A moving average (MA) model differs from other time series models in that it:\n",
        "    - Uses the errors (residuals) from past predictions to forecast future values\n",
        "    - Captures the impact of unexpected events or shocks on the time series\n",
        "\n",
        "7. A mixed ARMA (Autoregressive Moving Average) model combines elements of both AR and MA models, allowing for:\n",
        "    - Modeling of both patterns and trends (AR component)\n",
        "    - Capturing of unexpected events or shocks (MA component)\n",
        "\n",
        "Note: ARMA models are a combination of Autoregression (AR) and Moving Average (MA) models, and are often used to model more complex time series data."
      ],
      "metadata": {
        "id": "fgvQs-ljWm5a"
      }
    }
  ]
}