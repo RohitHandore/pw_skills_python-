{
  "nbformat": 4,
  "nbformat_minor": 0,
  "metadata": {
    "colab": {
      "provenance": []
    },
    "kernelspec": {
      "name": "python3",
      "display_name": "Python 3"
    },
    "language_info": {
      "name": "python"
    }
  },
  "cells": [
    {
      "cell_type": "markdown",
      "source": [
        "Q1. What is an Exception in python? Write the difference between Exceptions and Syntax errors."
      ],
      "metadata": {
        "id": "upJZ_-3rQn9w"
      }
    },
    {
      "cell_type": "markdown",
      "source": [
        "An Exception in Python is an event that disrupts the normal flow of a program's instructions during execution. It occurs when something unexpected happens, such as division by zero, accessing a file that doesn't exist, or trying to convert an invalid value to a data type.\n",
        "\n",
        "The difference between Exceptions and Syntax errors:\n",
        "\n",
        "1. **Exceptions:**\n",
        "   - Exceptions occur during the execution of the program.\n",
        "   - They are caused by factors such as user input, resource unavailability, or logic errors.\n",
        "   - Examples include ZeroDivisionError, FileNotFoundError, and TypeError.\n",
        "\n",
        "2. **Syntax errors:**\n",
        "   - Syntax errors occur before the execution of the program.\n",
        "   - They are caused by incorrect syntax in the code.\n",
        "   - Examples include missing colons, unmatched parentheses, or misspelled keywords.\n",
        "   \n",
        "In summary, Exceptions occur during program execution due to unexpected events, while Syntax errors occur before execution due to grammatical mistakes in the code."
      ],
      "metadata": {
        "id": "3L2puxk0Qo7L"
      }
    },
    {
      "cell_type": "markdown",
      "source": [
        "Q2. What happens when an exception is not handled? Explain with an example"
      ],
      "metadata": {
        "id": "dcLakseEQrfx"
      }
    },
    {
      "cell_type": "markdown",
      "source": [
        "When an exception is not handled, it causes the program to terminate abruptly. This can lead to unexpected behavior or crashes. For example, consider the following Python code:\n",
        "\n",
        "```python\n",
        "def divide(x, y):\n",
        "    return x / y\n",
        "\n",
        "result = divide(10, 0)\n",
        "print(\"Result:\", result)\n",
        "```\n",
        "\n",
        "In this code, if `y` is 0, it will raise a `ZeroDivisionError` because you can't divide by zero. If this exception is not handled, the program will stop executing and display an error message, like this:\n",
        "\n",
        "```\n",
        "ZeroDivisionError: division by zero\n",
        "```\n",
        "\n",
        "The `print(\"Result:\", result)` line will never execute because the exception occurred before it."
      ],
      "metadata": {
        "id": "7On4t18XQ7xt"
      }
    },
    {
      "cell_type": "markdown",
      "source": [
        "Q3. Which Python statements are used to catch and handle exceptions? Explain with an example."
      ],
      "metadata": {
        "id": "BQwMUru4Q9xj"
      }
    },
    {
      "cell_type": "markdown",
      "source": [
        "Python uses `try` and `except` statements to catch and handle exceptions. Here's how they work with an example:\n",
        "\n",
        "```python\n",
        "def divide(x, y):\n",
        "    try:\n",
        "        result = x / y\n",
        "    except ZeroDivisionError:\n",
        "        print(\"Error: You can't divide by zero!\")\n",
        "        result = None\n",
        "    return result\n",
        "\n",
        "result = divide(10, 0)\n",
        "if result is not None:\n",
        "    print(\"Result:\", result)\n",
        "```\n",
        "\n",
        "In this code:\n",
        "\n",
        "- The `try` block contains the code that might raise an exception, in this case, the division operation `x / y`.\n",
        "- The `except` block catches the specific exception, `ZeroDivisionError`, and handles it by printing an error message and setting `result` to `None`.\n",
        "- After the `try` block, execution continues normally, so if no exception occurs, the program will print the result.\n",
        "\n",
        "Output:\n",
        "```\n",
        "Error: You can't divide by zero!\n",
        "```\n",
        "\n",
        "By handling the exception, the program doesn't crash, and you can continue executing other parts of the code."
      ],
      "metadata": {
        "id": "T0kHhMjrRJX9"
      }
    },
    {
      "cell_type": "markdown",
      "source": [
        "Q4. Explain with an example:\n",
        "\n",
        "a. try and else\n",
        "\n",
        "b. finally\n",
        "\n",
        "c. raise"
      ],
      "metadata": {
        "id": "LnjrGtkVRLvL"
      }
    },
    {
      "cell_type": "markdown",
      "source": [
        "Sure, here are explanations and examples for each:\n",
        "\n",
        "a. **try, except, and else:**\n",
        "\n",
        "The `else` block is executed if no exceptions occur in the `try` block.\n",
        "\n",
        "Example:\n",
        "\n",
        "```python\n",
        "def divide(x, y):\n",
        "    try:\n",
        "        result = x / y\n",
        "    except ZeroDivisionError:\n",
        "        print(\"Error: You can't divide by zero!\")\n",
        "    else:\n",
        "        print(\"Division successful!\")\n",
        "        return result\n",
        "\n",
        "result = divide(10, 2)\n",
        "if result is not None:\n",
        "    print(\"Result:\", result)\n",
        "```\n",
        "\n",
        "Output:\n",
        "```\n",
        "Division successful!\n",
        "Result: 5.0\n",
        "```\n",
        "\n",
        "In this example, since there is no division by zero, the `else` block executes, printing \"Division successful!\" and returning the result.\n",
        "\n",
        "b. **finally:**\n",
        "\n",
        "The `finally` block is always executed regardless of whether an exception occurred or not.\n",
        "\n",
        "Example:\n",
        "\n",
        "```python\n",
        "def divide(x, y):\n",
        "    try:\n",
        "        result = x / y\n",
        "    except ZeroDivisionError:\n",
        "        print(\"Error: You can't divide by zero!\")\n",
        "        result = None\n",
        "    finally:\n",
        "        print(\"Operation complete.\")\n",
        "    return result\n",
        "\n",
        "result = divide(10, 2)\n",
        "if result is not None:\n",
        "    print(\"Result:\", result)\n",
        "```\n",
        "\n",
        "Output:\n",
        "```\n",
        "Operation complete.\n",
        "Result: 5.0\n",
        "```\n",
        "\n",
        "In this example, the `finally` block executes after the `try` block, regardless of whether an exception occurred or not. It prints \"Operation complete.\" in any case.\n",
        "\n",
        "c. **raise:**\n",
        "\n",
        "`raise` is used to raise an exception manually.\n",
        "\n",
        "Example:\n",
        "\n",
        "```python\n",
        "def positive_number(x):\n",
        "    if x < 0:\n",
        "        raise ValueError(\"Number must be positive!\")\n",
        "    return x\n",
        "\n",
        "try:\n",
        "    result = positive_number(-5)\n",
        "except ValueError as e:\n",
        "    print(e)\n",
        "else:\n",
        "    print(\"Number is positive:\", result)\n",
        "```\n",
        "\n",
        "Output:\n",
        "```\n",
        "Number must be positive!\n",
        "```\n",
        "\n",
        "In this example, the `positive_number` function raises a `ValueError` if the input is negative. The `try` block catches this exception, prints the error message, and continues execution."
      ],
      "metadata": {
        "id": "U2wAYu7sRWfY"
      }
    },
    {
      "cell_type": "markdown",
      "source": [
        "Q5. What are Custom Exceptions in python? Why do we need Custom Exceptions? Explain with an example."
      ],
      "metadata": {
        "id": "SGLe3mfyRZEl"
      }
    },
    {
      "cell_type": "markdown",
      "source": [
        "Custom exceptions in Python are user-defined exceptions that allow programmers to create their own exception classes. They are useful when standard built-in exceptions are not sufficient to convey the specific error conditions of an application.\n",
        "\n",
        "We need custom exceptions to provide more meaningful error messages and to make our code more readable and maintainable. They allow us to handle different error cases with more clarity and specificity.\n",
        "\n",
        "Here's an example to illustrate custom exceptions:\n",
        "\n",
        "```python\n",
        "class WithdrawalError(Exception):\n",
        "    \"\"\"Exception raised for errors during withdrawal.\"\"\"\n",
        "\n",
        "    def __init__(self, balance, amount):\n",
        "        self.balance = balance\n",
        "        self.amount = amount\n",
        "        super().__init__(f\"Cannot withdraw {amount} from account with balance {balance}\")\n",
        "\n",
        "def withdraw(balance, amount):\n",
        "    if amount > balance:\n",
        "        raise WithdrawalError(balance, amount)\n",
        "    else:\n",
        "        return balance - amount\n",
        "\n",
        "try:\n",
        "    account_balance = 1000\n",
        "    withdraw_amount = 1500\n",
        "    remaining_balance = withdraw(account_balance, withdraw_amount)\n",
        "    print(\"Remaining balance:\", remaining_balance)\n",
        "except WithdrawalError as e:\n",
        "    print(\"Error:\", e)\n",
        "```\n",
        "\n",
        "Output:\n",
        "```\n",
        "Error: Cannot withdraw 1500 from account with balance 1000\n",
        "```\n",
        "\n",
        "In this example:\n",
        "\n",
        "- We define a custom exception `WithdrawalError` that inherits from the built-in `Exception` class.\n",
        "- The `__init__` method of the exception class initializes the exception with the balance and amount values.\n",
        "- The `withdraw` function checks if the withdrawal amount exceeds the account balance. If it does, it raises a `WithdrawalError`.\n",
        "- In the `try` block, we attempt to withdraw an amount greater than the account balance, triggering the custom exception.\n",
        "- The `except` block catches the `WithdrawalError` and prints a meaningful error message."
      ],
      "metadata": {
        "id": "-i-4_Dk9RmgC"
      }
    },
    {
      "cell_type": "markdown",
      "source": [
        "Q6. Create a custom exception class. Use this class to handle an exception."
      ],
      "metadata": {
        "id": "3Y79hovQRo6a"
      }
    },
    {
      "cell_type": "markdown",
      "source": [
        "Sure, here's how you can create a custom exception class and use it to handle an exception:\n",
        "\n",
        "```python\n",
        "class CustomException(Exception):\n",
        "    \"\"\"Custom exception class.\"\"\"\n",
        "    def __init__(self, message):\n",
        "        super().__init__(message)\n",
        "\n",
        "def divide(x, y):\n",
        "    try:\n",
        "        result = x / y\n",
        "    except ZeroDivisionError:\n",
        "        raise CustomException(\"Error: Division by zero is not allowed!\")\n",
        "    else:\n",
        "        return result\n",
        "\n",
        "try:\n",
        "    result = divide(10, 0)\n",
        "    print(\"Result:\", result)\n",
        "except CustomException as e:\n",
        "    print(\"Custom Exception:\", e)\n",
        "```\n",
        "\n",
        "Output:\n",
        "```\n",
        "Custom Exception: Error: Division by zero is not allowed!\n",
        "```\n",
        "\n",
        "In this example:\n",
        "\n",
        "- We define a custom exception class `CustomException` that inherits from the built-in `Exception` class.\n",
        "- The `divide` function attempts to divide `x` by `y`. If `y` is 0, it raises a `ZeroDivisionError`, which is caught and re-raised as a `CustomException`.\n",
        "- In the `try` block, we call the `divide` function with `10` and `0`, resulting in a division by zero error, which is handled by the `except` block.\n",
        "- The `except` block catches the `CustomException` and prints the custom error message."
      ],
      "metadata": {
        "id": "v3IFFHPJR2SL"
      }
    }
  ]
}