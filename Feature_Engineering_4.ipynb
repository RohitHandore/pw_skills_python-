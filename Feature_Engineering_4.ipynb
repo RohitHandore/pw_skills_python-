{
  "nbformat": 4,
  "nbformat_minor": 0,
  "metadata": {
    "colab": {
      "provenance": []
    },
    "kernelspec": {
      "name": "python3",
      "display_name": "Python 3"
    },
    "language_info": {
      "name": "python"
    }
  },
  "cells": [
    {
      "cell_type": "markdown",
      "source": [
        "Q1. What is data encoding? How is it useful in data science?\n",
        "Q2. What is nominal encoding? Provide an example of how you would use it in a real-world scenario.\n",
        "Q3. In what situations is nominal encoding preferred over one-hot encoding? Provide a practical example.\n",
        "Q4. Suppose you have a dataset containing categorical data with 5 unique values. Which encoding\n",
        "technique would you use to transform this data into a format suitable for machine learning algorithms?\n",
        "Explain why you made this choice.\n",
        "Q5. In a machine learning project, you have a dataset with 1000 rows and 5 columns. Two of the columns\n",
        "are categorical, and the remaining three columns are numerical. If you were to use nominal encoding to\n",
        "transform the categorical data, how many new columns would be created? Show your calculations.\n",
        "Q6. You are working with a dataset containing information about different types of animals, including their\n",
        "species, habitat, and diet. Which encoding technique would you use to transform the categorical data into\n",
        "a format suitable for machine learning algorithms? Justify your answer.\n",
        "Q7.You are working on a project that involves predicting customer churn for a telecommunications\n",
        "company. You have a dataset with 5 features, including the customer's gender, age, contract type,\n",
        "monthly charges, and tenure. Which encoding technique(s) would you use to transform the categorical\n",
        "data into numerical data? Provide a step-by-step explanation of how you would implement the encoding."
      ],
      "metadata": {
        "id": "-bvoUDt_R2wF"
      }
    },
    {
      "cell_type": "markdown",
      "source": [
        "Here are the answers:\n",
        "\n",
        "Q1. Data encoding is the process of converting categorical data into numerical data that can be used by machine learning algorithms. It's useful in data science because many algorithms require numerical input, and encoding allows us to convert categorical data into a format that can be processed.\n",
        "\n",
        "Q2. Nominal encoding is a technique that assigns a unique numerical value to each category in a categorical variable. For example, if we have a variable \"Color\" with categories \"Red\", \"Green\", and \"Blue\", nominal encoding would assign values 0, 1, and 2 respectively.\n",
        "\n",
        "Q3. Nominal encoding is preferred over one-hot encoding when the categories have a natural ordering or hierarchy. For example, in a variable \"Education Level\" with categories \"High School\", \"Bachelor's\", and \"Master's\", nominal encoding would preserve the ordering, while one-hot encoding would treat each category as a separate feature.\n",
        "\n",
        "Q4. I would use nominal encoding to transform the categorical data into a format suitable for machine learning algorithms. This is because nominal encoding is a simple and efficient way to convert categorical data into numerical data, and it preserves the natural ordering of the categories.\n",
        "\n",
        "Q5. If we use nominal encoding to transform the categorical data, we would create 2 new columns (one for each categorical variable). This is because nominal encoding assigns a unique numerical value to each category, so we would need two columns to represent the two categorical variables.\n",
        "\n",
        "Q6. I would use nominal encoding to transform the categorical data into a format suitable for machine learning algorithms. This is because the categories in the \"Species\", \"Habitat\", and \"Diet\" variables have a natural ordering or hierarchy, and nominal encoding preserves this ordering.\n",
        "\n",
        "Q7. I would use a combination of nominal encoding and one-hot encoding to transform the categorical data into numerical data.\n",
        "\n",
        "Step-by-step explanation:\n",
        "\n",
        "- For the \"Gender\" variable, I would use nominal encoding to assign values 0 and 1 to the categories \"Male\" and \"Female\" respectively.\n",
        "- For the \"Contract Type\" variable, I would use one-hot encoding to create separate features for each category (e.g. \"Month-to-Month\", \"Yearly\", etc.).\n",
        "- For the \"Age\" variable, I would use numerical encoding (since it's already numerical).\n",
        "- For the \"Monthly Charges\" and \"Tenure\" variables, I would use numerical encoding (since they're already numerical).\n",
        "\n",
        "By using a combination of encoding techniques, we can transform the categorical data into numerical data that can be used by machine learning algorithms."
      ],
      "metadata": {
        "id": "kHWoUrguR6DN"
      }
    }
  ]
}