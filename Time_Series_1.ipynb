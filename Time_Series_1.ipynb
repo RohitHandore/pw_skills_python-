{
  "nbformat": 4,
  "nbformat_minor": 0,
  "metadata": {
    "colab": {
      "provenance": []
    },
    "kernelspec": {
      "name": "python3",
      "display_name": "Python 3"
    },
    "language_info": {
      "name": "python"
    }
  },
  "cells": [
    {
      "cell_type": "markdown",
      "source": [
        "Q1. What is a time series, and what are some common applications of time series analysis?\n",
        "Q2. What are some common time series patterns, and how can they be identified and interpreted?\n",
        "Q3. How can time series data be preprocessed before applying analysis techniques?\n",
        "Q4. How can time series forecasting be used in business decision-making, and what are some common\n",
        "challenges and limitations?\n",
        "Q5. What is ARIMA modelling, and how can it be used to forecast time series data?"
      ],
      "metadata": {
        "id": "YA_yikVmTFo7"
      }
    },
    {
      "cell_type": "markdown",
      "source": [
        "Here are the answers to your questions ¹ ² ³:\n",
        "\n",
        "1. A time series is a sequence of data points gathered over time and ordered chronologically. Time series analysis is used for non-stationary data, like stock prices, temperature and quarterly sales.\n",
        "\n",
        "2. Some common time series patterns include trends, seasonality, outliers, long-run cycles and constant variance. These can be identified and interpreted by plotting the data and looking for patterns, as well as using statistical techniques like autocorrelation and spectral analysis.\n",
        "\n",
        "3. Time series data can be preprocessed by cleaning the data, handling missing values, normalizing the data, transforming the data and splitting the data into training and testing sets.\n",
        "\n",
        "4. Time series forecasting can be used in business decision-making by predicting future trends and patterns, allowing businesses to make informed decisions about inventory, resource allocation and investments. However, there are common challenges and limitations, such as dealing with non-stationary data, handling missing values and avoiding overfitting.\n",
        "\n",
        "5. ARIMA (AutoRegressive Integrated Moving Average) modeling is a statistical technique used for time series forecasting. It takes into account trends, seasonality and residuals to make predictions about future data points. It can be used to forecast time series data by identifying the order of the ARIMA model and using it to make predictions."
      ],
      "metadata": {
        "id": "HOGKoGB_V1XF"
      }
    },
    {
      "cell_type": "markdown",
      "source": [
        "Q6. How do Autocorrelation Function (ACF) and Partial Autocorrelation Function (PACF) plots help in\n",
        "identifying the order of ARIMA models?\n",
        "Q7. What are the assumptions of ARIMA models, and how can they be tested for in practice?\n",
        "Q8. Suppose you have monthly sales data for a retail store for the past three years. Which type of time\n",
        "series model would you recommend for forecasting future sales, and why?\n",
        "Q9. What are some of the limitations of time series analysis? Provide an example of a scenario where the\n",
        "limitations of time series analysis may be particularly relevant.\n",
        "Q10. Explain the difference between a stationary and non-stationary time series. How does the stationarity\n",
        "of a time series affect the choice of forecasting model?"
      ],
      "metadata": {
        "id": "-fz3SjPkV2R6"
      }
    },
    {
      "cell_type": "markdown",
      "source": [
        "Here are the answers to your questions:\n",
        "\n",
        "1. ACF and PACF plots help identify the order of ARIMA models by:\n",
        "    - ACF: identifying the number of autoregressive terms (p) and moving average terms (q)\n",
        "    - PACF: identifying the number of autoregressive terms (p)\n",
        "\n",
        "2. Assumptions of ARIMA models:\n",
        "    - Stationarity\n",
        "    - Homoscedasticity\n",
        "    - Normality\n",
        "    - No correlation between residuals\n",
        "\n",
        "These assumptions can be tested using statistical tests like the Augmented Dickey-Fuller test for stationarity, the Breusch-Pagan test for homoscedasticity, and the Shapiro-Wilk test for normality.\n",
        "\n",
        "1. For monthly sales data, I would recommend a SARIMA (Seasonal ARIMA) model, which accounts for seasonality and trends in the data.\n",
        "\n",
        "2. Limitations of time series analysis:\n",
        "    - Assumes past patterns will continue in the future\n",
        "    - Ignores external factors that may affect the time series\n",
        "    - Can be sensitive to outliers and missing values\n",
        "\n",
        "Example scenario: A company uses time series analysis to forecast sales based on past data, but fails to account for a sudden change in market trends or a new competitor entering the market.\n",
        "\n",
        "1. A stationary time series has constant mean, variance, and autocorrelation over time, while a non-stationary time series has changing mean, variance, or autocorrelation over time. Stationarity affects the choice of forecasting model, as:\n",
        "    - Stationary time series: ARIMA, SARIMA, or ETS models\n",
        "    - Non-stationary time series: differencing or detrending before applying ARIMA or other models\n",
        "\n",
        "Note: ETS stands for Exponential Smoothing, a family of forecasting models."
      ],
      "metadata": {
        "id": "zjoyOvljV4uZ"
      }
    }
  ]
}