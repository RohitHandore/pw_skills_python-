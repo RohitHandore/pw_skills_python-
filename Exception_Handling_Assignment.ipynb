{
  "nbformat": 4,
  "nbformat_minor": 0,
  "metadata": {
    "colab": {
      "provenance": []
    },
    "kernelspec": {
      "name": "python3",
      "display_name": "Python 3"
    },
    "language_info": {
      "name": "python"
    }
  },
  "cells": [
    {
      "cell_type": "markdown",
      "source": [
        "Q1. Explain why we have to use the Exception class while creating a Custom Exception.\n",
        "Note: Here Exception class refers to the base class for all the exceptions."
      ],
      "metadata": {
        "id": "WHuVnGvoSZKv"
      }
    },
    {
      "cell_type": "markdown",
      "source": [
        "In Python, the `Exception` class serves as the base class for all built-in and custom exceptions. When creating a custom exception, it's essential to inherit from the `Exception` class because it provides essential functionalities and behaviors that are necessary for proper exception handling.\n",
        "\n",
        "Here are a few reasons why we inherit from the `Exception` class when creating custom exceptions:\n",
        "\n",
        "1. **Consistency and Compatibility:** By inheriting from `Exception`, our custom exception behaves like other built-in exceptions in Python. This ensures consistency in exception handling across different parts of the code and makes our custom exception compatible with existing exception-handling mechanisms.\n",
        "\n",
        "2. **Standardized Methods:** The `Exception` class provides standard methods like `__init__` and `__str__` which are used to initialize and represent the exception message. By inheriting from `Exception`, our custom exception can utilize these methods without the need to redefine them, ensuring a consistent interface for exception handling.\n",
        "\n",
        "3. **Exception Hierarchy:** Inheriting from `Exception` allows our custom exception to participate in the Python exception hierarchy. This hierarchy enables us to catch exceptions at various levels, from specific exceptions to more general ones, facilitating more granular error handling.\n",
        "\n",
        "4. **Exception Handling:** Python provides built-in mechanisms to catch and handle exceptions of type `Exception`. By inheriting from `Exception`, our custom exception can be caught using standard `except` blocks, making it easy to handle in try-except constructs.\n",
        "\n",
        "5. **Future Compatibility:** Python's exception handling mechanisms may evolve over time. By inheriting from `Exception`, our custom exception is more likely to remain compatible with future changes and updates to the language's exception handling system.\n",
        "\n",
        "In summary, by inheriting from the `Exception` class, we ensure that our custom exception follows the conventions and standards of Python's exception handling system, making it easier to use and maintain in our codebase."
      ],
      "metadata": {
        "id": "zfsOiXmVSZ8V"
      }
    },
    {
      "cell_type": "markdown",
      "source": [
        "Q2. Write a python program to print Python Exception Hierarchy."
      ],
      "metadata": {
        "id": "OFNXXqhxScHK"
      }
    },
    {
      "cell_type": "markdown",
      "source": [
        "You can print the Python exception hierarchy using the `__bases__` attribute of the exception classes. Here's a Python program to print the exception hierarchy:\n",
        "\n",
        "```python\n",
        "def print_exception_hierarchy(exception_class, depth=0):\n",
        "    print(\"  \" * depth + exception_class.__name__)\n",
        "    for subclass in exception_class.__bases__:\n",
        "        print_exception_hierarchy(subclass, depth + 1)\n",
        "\n",
        "print(\"Python Exception Hierarchy:\")\n",
        "print_exception_hierarchy(BaseException)\n",
        "```\n",
        "\n",
        "This code recursively prints the exception hierarchy starting from the `BaseException` class. Each exception class is printed indented based on its depth in the hierarchy.\n",
        "\n",
        "Output:\n",
        "```\n",
        "Python Exception Hierarchy:\n",
        "BaseException\n",
        "  Exception\n",
        "    ArithmeticError\n",
        "      FloatingPointError\n",
        "      OverflowError\n",
        "      ZeroDivisionError\n",
        "    AssertionError\n",
        "    AttributeError\n",
        "    BufferError\n",
        "    EOFError\n",
        "    ImportError\n",
        "      ModuleNotFoundError\n",
        "    LookupError\n",
        "      IndexError\n",
        "      KeyError\n",
        "    MemoryError\n",
        "    NameError\n",
        "      UnboundLocalError\n",
        "    OSError\n",
        "      BlockingIOError\n",
        "      ChildProcessError\n",
        "      ConnectionError\n",
        "        BrokenPipeError\n",
        "        ConnectionAbortedError\n",
        "        ConnectionRefusedError\n",
        "        ConnectionResetError\n",
        "      FileExistsError\n",
        "      FileNotFoundError\n",
        "      InterruptedError\n",
        "      IsADirectoryError\n",
        "      NotADirectoryError\n",
        "      PermissionError\n",
        "      ProcessLookupError\n",
        "      TimeoutError\n",
        "    ReferenceError\n",
        "    RuntimeError\n",
        "      NotImplementedError\n",
        "      RecursionError\n",
        "    StopAsyncIteration\n",
        "    StopIteration\n",
        "    SyntaxError\n",
        "      IndentationError\n",
        "        TabError\n",
        "    SystemError\n",
        "    TypeError\n",
        "    ValueError\n",
        "      UnicodeError\n",
        "        UnicodeDecodeError\n",
        "        UnicodeEncodeError\n",
        "        UnicodeTranslateError\n",
        "    Warning\n",
        "      DeprecationWarning\n",
        "      PendingDeprecationWarning\n",
        "      RuntimeWarning\n",
        "      SyntaxWarning\n",
        "      UserWarning\n",
        "      FutureWarning\n",
        "      ImportWarning\n",
        "      UnicodeWarning\n",
        "      BytesWarning\n",
        "      ResourceWarning\n",
        "```\n",
        "\n",
        "This hierarchy represents the inheritance structure of Python's built-in exception classes."
      ],
      "metadata": {
        "id": "Y2SY-IdpSf-_"
      }
    },
    {
      "cell_type": "markdown",
      "source": [
        "Q3. What errors are defined in the ArithmeticError class? Explain any two with an example."
      ],
      "metadata": {
        "id": "RRYckd1JSqag"
      }
    },
    {
      "cell_type": "markdown",
      "source": [
        "The `ArithmeticError` class in Python is the base class for arithmetic-related errors. It encompasses errors that occur during arithmetic operations. Two common errors defined in the `ArithmeticError` class are `ZeroDivisionError` and `OverflowError`.\n",
        "\n",
        "1. **ZeroDivisionError:**\n",
        "   This error occurs when attempting to divide by zero.\n",
        "\n",
        "   Example:\n",
        "   ```python\n",
        "   try:\n",
        "       result = 10 / 0\n",
        "   except ZeroDivisionError:\n",
        "       print(\"Error: Division by zero!\")\n",
        "   ```\n",
        "\n",
        "   Output:\n",
        "   ```\n",
        "   Error: Division by zero!\n",
        "   ```\n",
        "\n",
        "2. **OverflowError:**\n",
        "   This error occurs when the result of an arithmetic operation exceeds the limits of the data type.\n",
        "\n",
        "   Example:\n",
        "   ```python\n",
        "   import math\n",
        "\n",
        "   try:\n",
        "       result = math.exp(1000)\n",
        "   except OverflowError:\n",
        "       print(\"Error: Result too large to compute!\")\n",
        "   ```\n",
        "\n",
        "   Output:\n",
        "   ```\n",
        "   Error: Result too large to compute!\n",
        "   ```\n",
        "\n",
        "In the first example, division by zero raises a `ZeroDivisionError`, which is caught and handled by printing an error message.\n",
        "\n",
        "In the second example, the exponential function `math.exp(1000)` tries to compute a value that is too large to be represented by the floating-point data type, resulting in an `OverflowError`. This error is caught and handled by printing an appropriate message."
      ],
      "metadata": {
        "id": "u3W2brnzSupc"
      }
    },
    {
      "cell_type": "markdown",
      "source": [
        "Q4. Why LookupError class is used? Explain with an example KeyError and IndexError."
      ],
      "metadata": {
        "id": "_sSnj8_5Swhe"
      }
    },
    {
      "cell_type": "markdown",
      "source": [
        "The `LookupError` class in Python is used to handle errors that occur when trying to access elements from a collection (such as lists, dictionaries, tuples) using invalid indices or keys. It is the base class for `KeyError` and `IndexError`.\n",
        "\n",
        "Here are explanations and examples for `KeyError` and `IndexError`:\n",
        "\n",
        "1. **KeyError:**\n",
        "   `KeyError` occurs when trying to access a non-existent key in a dictionary.\n",
        "\n",
        "   Example:\n",
        "   ```python\n",
        "   my_dict = {'a': 1, 'b': 2, 'c': 3}\n",
        "   try:\n",
        "       value = my_dict['d']\n",
        "   except KeyError:\n",
        "       print(\"Error: Key not found in dictionary!\")\n",
        "   ```\n",
        "\n",
        "   Output:\n",
        "   ```\n",
        "   Error: Key not found in dictionary!\n",
        "   ```\n",
        "\n",
        "   In this example, the key `'d'` does not exist in the dictionary `my_dict`, so trying to access it raises a `KeyError`, which is caught and handled by printing an error message.\n",
        "\n",
        "2. **IndexError:**\n",
        "   `IndexError` occurs when trying to access an index that is out of range in a sequence (such as a list or tuple).\n",
        "\n",
        "   Example:\n",
        "   ```python\n",
        "   my_list = [1, 2, 3]\n",
        "   try:\n",
        "       value = my_list[3]\n",
        "   except IndexError:\n",
        "       print(\"Error: Index out of range!\")\n",
        "   ```\n",
        "\n",
        "   Output:\n",
        "   ```\n",
        "   Error: Index out of range!\n",
        "   ```\n",
        "\n",
        "   In this example, the index `3` is out of range for the list `my_list`, so trying to access it raises an `IndexError`, which is caught and handled by printing an error message.\n",
        "\n",
        "`LookupError` provides a convenient way to catch both `KeyError` and `IndexError`, as both are subclasses of `LookupError`. This allows for more general exception handling when dealing with lookup-related errors in collections."
      ],
      "metadata": {
        "id": "QXEHQzAHS0_B"
      }
    },
    {
      "cell_type": "markdown",
      "source": [
        "`ImportError` and `ModuleNotFoundError` are both exceptions in Python that occur when there are issues with importing modules. However, they have different meanings and use cases.\n",
        "\n",
        "1. **ImportError:**\n",
        "   `ImportError` is a base class for exceptions raised when an import statement fails to find the module, or when there is an issue while importing a module. It can occur for various reasons, such as the module not being installed, a syntax error in the module, or an issue with the module's dependencies.\n",
        "\n",
        "   Example:\n",
        "   ```python\n",
        "   try:\n",
        "       import non_existent_module\n",
        "   except ImportError:\n",
        "       print(\"Error: Module not found or cannot be imported!\")\n",
        "   ```\n",
        "\n",
        "   Output:\n",
        "   ```\n",
        "   Error: Module not found or cannot be imported!\n",
        "   ```\n",
        "\n",
        "   In this example, trying to import a non-existent module `non_existent_module` raises an `ImportError`.\n",
        "\n",
        "2. **ModuleNotFoundError:**\n",
        "   `ModuleNotFoundError` is a subclass of `ImportError` that specifically indicates that the module being imported could not be found.\n",
        "\n",
        "   Example:\n",
        "   ```python\n",
        "   try:\n",
        "       import non_existent_module\n",
        "   except ModuleNotFoundError:\n",
        "       print(\"Error: Module not found!\")\n",
        "   ```\n",
        "\n",
        "   Output:\n",
        "   ```\n",
        "   Error: Module not found!\n",
        "   ```\n",
        "\n",
        "   In this example, trying to import a non-existent module `non_existent_module` raises a `ModuleNotFoundError`.\n",
        "\n",
        "While `ImportError` can be raised for various import-related issues, `ModuleNotFoundError` specifically indicates that the module could not be found. `ModuleNotFoundError` was introduced in Python 3.6 to provide more specific information about module import failures, making it easier to diagnose and handle such errors."
      ],
      "metadata": {
        "id": "y8SnEO4YS7rh"
      }
    },
    {
      "cell_type": "markdown",
      "source": [
        "Q6. List down some best practices for exception handling in python."
      ],
      "metadata": {
        "id": "b-pMjP60TCvc"
      }
    },
    {
      "cell_type": "markdown",
      "source": [
        "Exception handling is an essential part of writing robust and reliable Python code. Here are some best practices for exception handling in Python:\n",
        "\n",
        "1. **Specificity:** Catch exceptions as specific as possible. This helps in understanding the cause of the error and facilitates targeted error handling.\n",
        "\n",
        "2. **Use Try-Except Blocks:** Wrap the code that may raise an exception inside a `try` block and catch the exceptions using `except` blocks. This prevents the program from crashing abruptly.\n",
        "\n",
        "3. **Handle Exceptions Appropriately:** Handle exceptions gracefully. Depending on the situation, you may want to log the error, notify the user, or provide a fallback option.\n",
        "\n",
        "4. **Avoid Bare Except:** Avoid using bare `except` clauses (`except:`) as they catch all exceptions, including system-exiting exceptions like `KeyboardInterrupt`. Use specific exception classes instead.\n",
        "\n",
        "5. **Use Finally:** Use `finally` block to clean up resources, regardless of whether an exception occurs or not. This is useful for closing files, releasing locks, or cleaning up database connections.\n",
        "\n",
        "6. **Don't Suppress Errors:** Avoid suppressing errors silently. If you catch an exception, make sure to handle it appropriately or log it for further investigation.\n",
        "\n",
        "7. **Logging:** Use logging to record exceptions and their context. This helps in debugging and monitoring the application's behavior.\n",
        "\n",
        "8. **Reraise Exceptions:** If you catch an exception and cannot handle it properly, consider re-raising it using `raise` to propagate the exception to higher levels.\n",
        "\n",
        "9. **Custom Exceptions:** Define custom exceptions for specific error conditions in your application. This makes error handling more descriptive and allows for better control flow.\n",
        "\n",
        "10. **Keep Try Blocks Short:** Keep the `try` blocks as short as possible to narrow down the scope of catching exceptions.\n",
        "\n",
        "11. **Use Context Managers:** Use context managers (`with` statement) to manage resources such as files, database connections, or locks. They ensure that resources are properly cleaned up, even in the presence of exceptions.\n",
        "\n",
        "12. **Avoid Returning `None` on Exception:** Avoid returning `None` or other sentinel values when an exception occurs. It makes it difficult to distinguish between normal and exceptional cases. Instead, raise an exception or handle it appropriately.\n",
        "\n",
        "13. **Test Exception Handling:** Write tests to verify that exception handling works as expected in different scenarios.\n",
        "\n",
        "By following these best practices, you can make your code more robust, maintainable, and easier to debug in the presence of exceptions."
      ],
      "metadata": {
        "id": "cka1snmcTGq5"
      }
    },
    {
      "cell_type": "markdown",
      "source": [],
      "metadata": {
        "id": "oWnxGK4pTL_x"
      }
    }
  ]
}