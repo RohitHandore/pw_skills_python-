{
  "nbformat": 4,
  "nbformat_minor": 0,
  "metadata": {
    "colab": {
      "provenance": []
    },
    "kernelspec": {
      "name": "python3",
      "display_name": "Python 3"
    },
    "language_info": {
      "name": "python"
    }
  },
  "cells": [
    {
      "cell_type": "markdown",
      "source": [
        "Q1, Create a vehicle class with an init method having instance variables as name_of_vehicle, max_speed\n",
        "and average_of_vehicle."
      ],
      "metadata": {
        "id": "z6MrDegMM9TZ"
      }
    },
    {
      "cell_type": "markdown",
      "source": [
        "You can create a `Vehicle` class with an `__init__()` method that initializes instance variables such as `name_of_vehicle`, `max_speed`, and `average_of_vehicle`. Here's how you can do it:\n",
        "\n",
        "```python\n",
        "class Vehicle:\n",
        "    def __init__(self, name_of_vehicle, max_speed, average_of_vehicle):\n",
        "        self.name_of_vehicle = name_of_vehicle\n",
        "        self.max_speed = max_speed\n",
        "        self.average_of_vehicle = average_of_vehicle\n",
        "\n",
        "# Create an instance of Vehicle\n",
        "vehicle1 = Vehicle(\"Car\", 200, 50)\n",
        "vehicle2 = Vehicle(\"Bike\", 180, 40)\n",
        "\n",
        "# Access instance variables\n",
        "print(\"Vehicle 1:\")\n",
        "print(\"Name:\", vehicle1.name_of_vehicle)\n",
        "print(\"Max Speed:\", vehicle1.max_speed)\n",
        "print(\"Average Speed:\", vehicle1.average_of_vehicle)\n",
        "\n",
        "print(\"\\nVehicle 2:\")\n",
        "print(\"Name:\", vehicle2.name_of_vehicle)\n",
        "print(\"Max Speed:\", vehicle2.max_speed)\n",
        "print(\"Average Speed:\", vehicle2.average_of_vehicle)\n",
        "```\n",
        "\n",
        "Output:\n",
        "```\n",
        "Vehicle 1:\n",
        "Name: Car\n",
        "Max Speed: 200\n",
        "Average Speed: 50\n",
        "\n",
        "Vehicle 2:\n",
        "Name: Bike\n",
        "Max Speed: 180\n",
        "Average Speed: 40\n",
        "```\n",
        "\n",
        "In this code:\n",
        "- We define a `Vehicle` class with an `__init__()` method that initializes instance variables `name_of_vehicle`, `max_speed`, and `average_of_vehicle`.\n",
        "- We create two instances of the `Vehicle` class (`vehicle1` and `vehicle2`) with different values for instance variables.\n",
        "- We access and print the instance variables for each vehicle."
      ],
      "metadata": {
        "id": "6uImCAfRNELG"
      }
    },
    {
      "cell_type": "markdown",
      "source": [
        "Q2. Create a child class car from the vehicle class created in Que 1, which will inherit the vehicle class.\n",
        "Create a method named seating_capacity which takes capacity as an argument and returns the name of\n",
        "the vehicle and its seating capacity."
      ],
      "metadata": {
        "id": "cXZiqgICNGg4"
      }
    },
    {
      "cell_type": "markdown",
      "source": [
        "You can create a child class `Car` from the `Vehicle` class and define a method `seating_capacity()` in the `Car` class. Here's how you can do it:\n",
        "\n",
        "```python\n",
        "class Vehicle:\n",
        "    def __init__(self, name_of_vehicle, max_speed, average_of_vehicle):\n",
        "        self.name_of_vehicle = name_of_vehicle\n",
        "        self.max_speed = max_speed\n",
        "        self.average_of_vehicle = average_of_vehicle\n",
        "\n",
        "class Car(Vehicle):\n",
        "    def __init__(self, name_of_vehicle, max_speed, average_of_vehicle):\n",
        "        super().__init__(name_of_vehicle, max_speed, average_of_vehicle)\n",
        "\n",
        "    def seating_capacity(self, capacity):\n",
        "        return f\"The {self.name_of_vehicle} has a seating capacity of {capacity}.\"\n",
        "\n",
        "# Create an instance of Car\n",
        "car1 = Car(\"SUV\", 180, 30)\n",
        "\n",
        "# Access instance variables and method\n",
        "print(\"Name of Vehicle:\", car1.name_of_vehicle)\n",
        "print(\"Max Speed:\", car1.max_speed)\n",
        "print(\"Average Speed:\", car1.average_of_vehicle)\n",
        "print(car1.seating_capacity(5))\n",
        "```\n",
        "\n",
        "Output:\n",
        "```\n",
        "Name of Vehicle: SUV\n",
        "Max Speed: 180\n",
        "Average Speed: 30\n",
        "The SUV has a seating capacity of 5.\n",
        "```\n",
        "\n",
        "In this code:\n",
        "- We define a `Car` class that inherits from the `Vehicle` class.\n",
        "- The `seating_capacity()` method takes a capacity argument and returns the name of the vehicle and its seating capacity.\n",
        "- We create an instance of the `Car` class and access its instance variables and method."
      ],
      "metadata": {
        "id": "IAJQQZ5fNJnc"
      }
    },
    {
      "cell_type": "markdown",
      "source": [
        "Q3. What is multiple inheritance? Write a python code to demonstrate multiple inheritance."
      ],
      "metadata": {
        "id": "dl7IZFT4NWVb"
      }
    },
    {
      "cell_type": "markdown",
      "source": [
        "Multiple inheritance is a feature in object-oriented programming where a class can inherit attributes and methods from more than one parent class. In Python, a child class can inherit from multiple parent classes.\n",
        "\n",
        "Here's an example demonstrating multiple inheritance:\n",
        "\n",
        "```python\n",
        "# Parent class 1\n",
        "class Vehicle:\n",
        "    def __init__(self, name, max_speed):\n",
        "        self.name = name\n",
        "        self.max_speed = max_speed\n",
        "\n",
        "    def display_info(self):\n",
        "        print(f\"Vehicle: {self.name}, Max Speed: {self.max_speed}\")\n",
        "\n",
        "# Parent class 2\n",
        "class Engine:\n",
        "    def __init__(self, fuel_type, horsepower):\n",
        "        self.fuel_type = fuel_type\n",
        "        self.horsepower = horsepower\n",
        "\n",
        "    def display_info(self):\n",
        "        print(f\"Engine: Fuel Type - {self.fuel_type}, Horsepower - {self.horsepower}\")\n",
        "\n",
        "# Child class inheriting from both Vehicle and Engine\n",
        "class Car(Vehicle, Engine):\n",
        "    def __init__(self, name, max_speed, fuel_type, horsepower, model):\n",
        "        # Call the __init__() method of both parent classes explicitly\n",
        "        Vehicle.__init__(self, name, max_speed)\n",
        "        Engine.__init__(self, fuel_type, horsepower)\n",
        "        self.model = model\n",
        "\n",
        "    def display_info(self):\n",
        "        print(f\"Car: {self.name}, Model: {self.model}\")\n",
        "        # Call display_info() method of both parent classes\n",
        "        super().display_info()\n",
        "\n",
        "# Create an instance of the Car class\n",
        "car1 = Car(\"Toyota\", 180, \"Petrol\", 150, \"Camry\")\n",
        "\n",
        "# Display information about the car\n",
        "car1.display_info()\n",
        "```\n",
        "\n",
        "Output:\n",
        "```\n",
        "Car: Toyota, Model: Camry\n",
        "Vehicle: Toyota, Max Speed: 180\n",
        "Engine: Fuel Type - Petrol, Horsepower - 150\n",
        "```\n",
        "\n",
        "In this code:\n",
        "- `Vehicle` and `Engine` are parent classes.\n",
        "- `Car` is a child class that inherits from both `Vehicle` and `Engine`.\n",
        "- The `Car` class's `__init__()` method calls the `__init__()` methods of both parent classes explicitly.\n",
        "- The `Car` class overrides the `display_info()` method to display information about the car, and it calls the `display_info()` methods of both parent classes using `super()`."
      ],
      "metadata": {
        "id": "e6vttgx2NXBV"
      }
    },
    {
      "cell_type": "markdown",
      "source": [
        "Q4. What are getter and setter in python? Create a class and create a getter and a setter method in this\n",
        "class."
      ],
      "metadata": {
        "id": "8WSZcj2iNfmD"
      }
    },
    {
      "cell_type": "markdown",
      "source": [
        "In Python, getter and setter methods are used to access and modify the attributes of a class respectively. They allow controlled access to the attributes of a class and enable encapsulation.\n",
        "\n",
        "- **Getter Method**: Getter methods are used to access the value of an attribute.\n",
        "- **Setter Method**: Setter methods are used to modify the value of an attribute.\n",
        "\n",
        "Here's an example demonstrating the use of getter and setter methods in Python:\n",
        "\n",
        "```python\n",
        "class Person:\n",
        "    def __init__(self, name, age):\n",
        "        self._name = name\n",
        "        self._age = age\n",
        "\n",
        "    # Getter method for name attribute\n",
        "    def get_name(self):\n",
        "        return self._name\n",
        "\n",
        "    # Setter method for name attribute\n",
        "    def set_name(self, name):\n",
        "        self._name = name\n",
        "\n",
        "    # Getter method for age attribute\n",
        "    def get_age(self):\n",
        "        return self._age\n",
        "\n",
        "    # Setter method for age attribute\n",
        "    def set_age(self, age):\n",
        "        if age > 0:\n",
        "            self._age = age\n",
        "        else:\n",
        "            print(\"Age cannot be negative.\")\n",
        "\n",
        "# Create an instance of the Person class\n",
        "person1 = Person(\"John\", 30)\n",
        "\n",
        "# Get the name and age using getter methods\n",
        "print(\"Name:\", person1.get_name())  # Output: Name: John\n",
        "print(\"Age:\", person1.get_age())    # Output: Age: 30\n",
        "\n",
        "# Set the name and age using setter methods\n",
        "person1.set_name(\"Alice\")\n",
        "person1.set_age(25)\n",
        "\n",
        "# Get the updated name and age\n",
        "print(\"Updated Name:\", person1.get_name())  # Output: Updated Name: Alice\n",
        "print(\"Updated Age:\", person1.get_age())    # Output: Updated Age: 25\n",
        "```\n",
        "\n",
        "In this example:\n",
        "- The `Person` class has private attributes `_name` and `_age`.\n",
        "- Getter methods `get_name()` and `get_age()` are defined to access the values of these attributes.\n",
        "- Setter methods `set_name()` and `set_age()` are defined to modify the values of these attributes.\n",
        "- Getter and setter methods ensure controlled access to the attributes and encapsulation of the class."
      ],
      "metadata": {
        "id": "f-xWbR3JNjpZ"
      }
    },
    {
      "cell_type": "markdown",
      "source": [
        "Q5.What is method overriding in python? Write a python code to demonstrate method overriding."
      ],
      "metadata": {
        "id": "3erNOhPZNsHi"
      }
    },
    {
      "cell_type": "markdown",
      "source": [
        "Method overriding in Python occurs when a subclass provides a specific implementation of a method that is already defined in its superclass. This allows the subclass to customize or extend the behavior of the method inherited from the superclass.\n",
        "\n",
        "Here's an example demonstrating method overriding in Python:\n",
        "\n",
        "```python\n",
        "class Animal:\n",
        "    def sound(self):\n",
        "        print(\"Animal makes a sound\")\n",
        "\n",
        "class Dog(Animal):\n",
        "    def sound(self):\n",
        "        print(\"Dog barks\")\n",
        "\n",
        "class Cat(Animal):\n",
        "    def sound(self):\n",
        "        print(\"Cat meows\")\n",
        "\n",
        "# Create instances of Dog and Cat\n",
        "dog = Dog()\n",
        "cat = Cat()\n",
        "\n",
        "# Call the sound method of each instance\n",
        "dog.sound()  # Output: Dog barks\n",
        "cat.sound()  # Output: Cat meows\n",
        "```\n",
        "\n",
        "In this example:\n",
        "- There is a superclass `Animal` with a method `sound()` that prints \"Animal makes a sound\".\n",
        "- Two subclasses `Dog` and `Cat` inherit from `Animal` and override the `sound()` method with their specific implementations.\n",
        "- When the `sound()` method is called on instances of `Dog` and `Cat`, the overridden method in the respective subclass is invoked, resulting in different behavior for each subclass."
      ],
      "metadata": {
        "id": "CEdutmZKNv4s"
      }
    }
  ]
}