{
  "nbformat": 4,
  "nbformat_minor": 0,
  "metadata": {
    "colab": {
      "provenance": []
    },
    "kernelspec": {
      "name": "python3",
      "display_name": "Python 3"
    },
    "language_info": {
      "name": "python"
    }
  },
  "cells": [
    {
      "cell_type": "markdown",
      "source": [
        "Q1. What is anomaly detection and what is its purpose?\n",
        "Q2. What are the key challenges in anomaly detection?\n",
        "Q3. How does unsupervised anomaly detection differ from supervised anomaly detection?\n",
        "Q4. What are the main categories of anomaly detection algorithms?\n",
        "Q5. What are the main assumptions made by distance-based anomaly detection methods?\n",
        "Q6. How does the LOF algorithm compute anomaly scores?\n",
        "Q7. What are the key parameters of the Isolation Forest algorithm?\n",
        "Q8. If a data point has only 2 neighbours of the same class within a radius of 0.5, what is its anomaly score\n",
        "using KNN with K=10?\n",
        "Q9. Using the Isolation Forest algorithm with 100 trees and a dataset of 3000 data points, what is the\n",
        "anomaly score for a data point that has an average path length of 5.0 compared to the average path\n",
        "length of the trees?"
      ],
      "metadata": {
        "id": "5kXwfwsyXKle"
      }
    },
    {
      "cell_type": "markdown",
      "source": [
        "Here are the answers to your questions:\n",
        "\n",
        "1. Anomaly detection is the process of identifying data points that are unusual or do not conform to the expected pattern. Its purpose is to identify rare or unusual events, errors, or outliers that may require further investigation.\n",
        "\n",
        "2. Key challenges in anomaly detection include:\n",
        "    - Defining what constitutes an anomaly\n",
        "    - Dealing with imbalanced data (few anomalies vs. many normal points)\n",
        "    - Handling high-dimensional data\n",
        "    - Selecting appropriate algorithms and parameters\n",
        "\n",
        "3. Unsupervised anomaly detection identifies anomalies without prior knowledge of anomalies or normal data, while supervised anomaly detection uses labeled data to train a model to recognize anomalies.\n",
        "\n",
        "4. Main categories of anomaly detection algorithms:\n",
        "    - Distance-based (e.g., k-NN, LOF)\n",
        "    - Density-based (e.g., DBSCAN)\n",
        "    - Model-based (e.g., One-class SVM)\n",
        "    - Hybrid approaches\n",
        "\n",
        "5. Distance-based anomaly detection methods assume:\n",
        "    - Anomalies are farthest from the majority of data points\n",
        "    - Normal data points are densely packed\n",
        "    - Distance metrics accurately capture similarity\n",
        "\n",
        "6. The LOF (Local Outlier Factor) algorithm computes anomaly scores by:\n",
        "    - Calculating the local density of each data point\n",
        "    - Comparing the local density to the density of its neighbors\n",
        "    - Assigning an anomaly score based on the ratio of these densities\n",
        "\n",
        "7. Key parameters of the Isolation Forest algorithm:\n",
        "    - Number of trees (n_estimators)\n",
        "    - Maximum depth of each tree (max_depth)\n",
        "    - Number of features to consider at each split (max_features)\n",
        "\n",
        "8. Using KNN with K=10, if a data point has only 2 neighbors of the same class within a radius of 0.5, its anomaly score would be high (e.g., 0.8) indicating it's an anomaly.\n",
        "\n",
        "9. Using the Isolation Forest algorithm with 100 trees and a dataset of 3000 data points, if a data point has an average path length of 5.0 compared to the average path length of the trees (e.g., 3.0), its anomaly score would be high (e.g., 0.7) indicating it's an anomaly.\n",
        "\n",
        "Note: The exact anomaly scores may vary depending on the specific implementation and dataset."
      ],
      "metadata": {
        "id": "8yrb9moWXHPb"
      }
    }
  ]
}