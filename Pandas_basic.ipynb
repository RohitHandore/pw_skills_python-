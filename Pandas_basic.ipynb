{
  "nbformat": 4,
  "nbformat_minor": 0,
  "metadata": {
    "colab": {
      "provenance": []
    },
    "kernelspec": {
      "name": "python3",
      "display_name": "Python 3"
    },
    "language_info": {
      "name": "python"
    }
  },
  "cells": [
    {
      "cell_type": "markdown",
      "source": [
        "Here are the answers:\n",
        "\n",
        "Q1. Here's how to create a Pandas Series with the given data and print it:\n",
        "\n",
        "import pandas as pd\n",
        "\n",
        "data = [4, 8, 15, 16, 23, 42]\n",
        "series = pd.Series(data)\n",
        "print(series)\n",
        "\n",
        "Output:\n",
        "0    4\n",
        "1    8\n",
        "2   15\n",
        "3   16\n",
        "4   23\n",
        "5   42\n",
        "dtype: int64\n",
        "\n",
        "Q2. Here's how to create a list variable with 10 elements, apply the pandas.Series function, and print it:\n",
        "\n",
        "import pandas as pd\n",
        "\n",
        "data_list = [1, 2, 3, 4, 5, 6, 7, 8, 9, 10]\n",
        "series = pd.Series(data_list)\n",
        "print(series)\n",
        "\n",
        "Output:\n",
        "0    1\n",
        "1    2\n",
        "2    3\n",
        "3    4\n",
        "4    5\n",
        "5    6\n",
        "6    7\n",
        "7    8\n",
        "8    9\n",
        "9   10\n",
        "dtype: int64"
      ],
      "metadata": {
        "id": "UsOeRzXoIWaS"
      }
    },
    {
      "cell_type": "markdown",
      "source": [
        "Here are the answers:\n",
        "\n",
        "Q3. Here's how to create a Pandas DataFrame with the given data and print it:\n",
        "\n",
        "import pandas as pd\n",
        "\n",
        "data = {'Name': ['Alice', 'Bob', 'Claire'],\n",
        "'Age': [25, 30, 27],\n",
        "'Gender': ['Female', 'Male', 'Female']}\n",
        "df = pd.DataFrame(data)\n",
        "print(df)\n",
        "\n",
        "Output:\n",
        "Name  Age   Gender\n",
        "0   Alice   25  Female\n",
        "1     Bob   30    Male\n",
        "2  Claire   27  Female\n",
        "\n",
        "Q4. A Pandas DataFrame is a two-dimensional data structure with columns of potentially different types. It's like a spreadsheet or a SQL table. A Pandas Series, on the other hand, is a one-dimensional data structure with a single data type. It's like a column in a spreadsheet or a single row in a SQL table.\n",
        "\n",
        "Example:\n",
        "\n",
        "Create a Series\n",
        "s = pd.Series([1, 2, 3, 4, 5])\n",
        "\n",
        "Create a DataFrame\n",
        "df = pd.DataFrame({'A': [1, 2, 3], 'B': [4, 5, 6]})\n",
        "\n",
        "Q5. Some common functions to manipulate data in a Pandas DataFrame include:\n",
        "\n",
        "- head() and tail() to view the first or last few rows\n",
        "- info() and describe() to view summary statistics\n",
        "- drop() to remove rows or columns\n",
        "- merge() and join() to combine DataFrames\n",
        "- groupby() and pivot_table() to aggregate data\n",
        "\n",
        "Example: Using the drop() function to remove a column:\n",
        "\n",
        "df.drop('Age', axis=1)\n",
        "\n",
        "Q6. DataFrame is mutable in nature, meaning it can be modified after creation. Series and Panel are also mutable.\n",
        "\n",
        "Q7. Here's how to create a DataFrame using multiple Series:\n",
        "\n",
        "s1 = pd.Series([25, 30, 27], name='Age')\n",
        "s2 = pd.Series(['Female', 'Male', 'Female'], name='Gender')\n",
        "df = pd.DataFrame({'Name': ['Alice', 'Bob', 'Claire'], 'Age': s1, 'Gender': s2})\n",
        "print(df)\n",
        "\n",
        "Output:\n",
        "Name  Age   Gender\n",
        "0   Alice   25  Female\n",
        "1     Bob   30    Male\n",
        "2  Claire   27  Female"
      ],
      "metadata": {
        "id": "saFDyWYrIb5x"
      }
    },
    {
      "cell_type": "markdown",
      "source": [],
      "metadata": {
        "id": "pIo3G_4yI5OP"
      }
    }
  ]
}