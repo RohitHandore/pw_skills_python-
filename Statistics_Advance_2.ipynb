{
  "nbformat": 4,
  "nbformat_minor": 0,
  "metadata": {
    "colab": {
      "provenance": []
    },
    "kernelspec": {
      "name": "python3",
      "display_name": "Python 3"
    },
    "language_info": {
      "name": "python"
    }
  },
  "cells": [
    {
      "cell_type": "markdown",
      "source": [
        "Q1: **Probability Mass Function (PMF) and Probability Density Function (PDF)**:\n",
        "- **PMF**: For discrete random variables, the PMF gives the probability that the variable takes on a specific value. It maps each possible value of the random variable to its probability.\n",
        "- **PDF**: For continuous random variables, the PDF gives the relative likelihood of the variable taking on a particular value within a range. Unlike the PMF, it doesn't give the probability of a specific value but provides the density of probability at each point.\n",
        "- **Example**: Consider rolling a fair six-sided die. The PMF would give the probability of each outcome (1/6 for each number). If we have a continuous variable like the height of students in a class, the PDF would describe the likelihood of observing a height within a given range.\n",
        "\n",
        "Q2: **Cumulative Density Function (CDF)**:\n",
        "- The CDF gives the probability that a random variable takes on a value less than or equal to a given value. It represents the cumulative probability up to a certain point.\n",
        "- Example: For a fair six-sided die, the CDF would give the probability of rolling a number less than or equal to a given number. For instance, the probability of rolling a number less than or equal to 3 would be 3/6 = 0.5.\n",
        "- **Importance**: The CDF is used to analyze the probability distribution of random variables and make predictions about the likelihood of certain outcomes.\n",
        "\n",
        "Q3: **Examples of Situations Using Normal Distribution**:\n",
        "- IQ scores of a population.\n",
        "- Heights of adult males in a country.\n",
        "- Errors in measurements or experimental data.\n",
        "- Stock market returns.\n",
        "- Test scores in standardized exams.\n",
        "- **Parameters**: The mean (μ) determines the central tendency of the distribution, while the standard deviation (σ) determines the spread or dispersion of the data around the mean.\n",
        "\n",
        "Q4: **Importance of Normal Distribution**:\n",
        "- Widely used in statistical analysis due to its properties and mathematical tractability.\n",
        "- Serves as a good approximation for many natural phenomena and real-world processes.\n",
        "- Facilitates hypothesis testing, confidence interval estimation, and prediction in various fields such as finance, engineering, and social sciences.\n",
        "- **Examples**: Human heights, IQ scores, measurement errors, daily temperature variations, stock prices.\n",
        "\n",
        "I'll continue with the remaining questions in the next response. Let me know if you need anything else!"
      ],
      "metadata": {
        "id": "UIolbNBaLBom"
      }
    },
    {
      "cell_type": "markdown",
      "source": [
        "Q5: **Bernoulli Distribution**:\n",
        "- Bernoulli distribution is a discrete probability distribution that represents the outcomes of a single Bernoulli trial, which has only two possible outcomes: success (usually denoted as 1) and failure (usually denoted as 0).\n",
        "- Example: Consider flipping a fair coin, where \"heads\" is considered a success (1) and \"tails\" is considered a failure (0). The outcome of each flip follows a Bernoulli distribution.\n",
        "\n",
        "**Difference between Bernoulli and Binomial Distribution**:\n",
        "- **Bernoulli Distribution**: Describes the outcome of a single Bernoulli trial, where there are only two possible outcomes (success or failure).\n",
        "- **Binomial Distribution**: Describes the number of successes in a fixed number of independent Bernoulli trials. It is the sum of outcomes of multiple independent Bernoulli trials.\n",
        "\n",
        "Q6: **Probability Calculation for Normal Distribution**:\n",
        "- Given: Mean (μ) = 50, Standard Deviation (σ) = 10, Desired Value (x) = 60.\n",
        "- We need to find the probability of a randomly selected observation being greater than 60.\n",
        "- Using the standard normal distribution table or Z-table, we can find the z-score corresponding to x = 60.\n",
        "- Calculate the z-score: \\( z = \\frac{x - \\mu}{\\sigma} = \\frac{60 - 50}{10} = 1 \\).\n",
        "- Look up the probability corresponding to z = 1 in the standard normal distribution table or use a calculator to find the area to the right of z = 1.\n",
        "- The probability that a randomly selected observation will be greater than 60 is approximately 0.1587.\n",
        "\n",
        "Q7: **Uniform Distribution**:\n",
        "- Uniform distribution is a continuous probability distribution where all outcomes within a given interval are equally likely to occur.\n",
        "- Example: Rolling a fair six-sided die, where each outcome (1, 2, 3, 4, 5, or 6) has an equal probability of 1/6.\n",
        "- In a uniform distribution, the probability density function (PDF) is constant within the interval and zero outside the interval.\n",
        "\n",
        "Q8: **Z Score**:\n",
        "- The z-score (also known as standard score or z-value) measures how many standard deviations a data point is from the mean of the distribution.\n",
        "- Importance: Allows us to standardize and compare data from different distributions. It helps identify outliers and assess the relative position of a data point within a distribution.\n",
        "\n",
        "Q9: **Central Limit Theorem (CLT)**:\n",
        "- Central Limit Theorem states that the sampling distribution of the sample mean approaches a normal distribution as the sample size increases, regardless of the shape of the population distribution.\n",
        "- Significance: Allows us to make inferences about population parameters based on sample statistics. It forms the basis for hypothesis testing, confidence intervals, and estimation.\n",
        "\n",
        "Q10: **Assumptions of Central Limit Theorem**:\n",
        "- The sample size should be sufficiently large (typically n ≥ 30).\n",
        "- The samples should be independent of each other.\n",
        "- The population distribution should have a finite mean and variance."
      ],
      "metadata": {
        "id": "YFj3nJjXLSva"
      }
    }
  ]
}