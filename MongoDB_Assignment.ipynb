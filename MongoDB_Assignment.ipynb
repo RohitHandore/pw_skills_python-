{
  "nbformat": 4,
  "nbformat_minor": 0,
  "metadata": {
    "colab": {
      "provenance": []
    },
    "kernelspec": {
      "name": "python3",
      "display_name": "Python 3"
    },
    "language_info": {
      "name": "python"
    }
  },
  "cells": [
    {
      "cell_type": "markdown",
      "source": [
        "Q1. What is MongoDB? Explain non-relational databases in short. In which scenarios it is preferred to use\n",
        "MongoDB over SQL databases?"
      ],
      "metadata": {
        "id": "aOkjo_wIYjqH"
      }
    },
    {
      "cell_type": "markdown",
      "source": [
        "**MongoDB** is a popular open-source NoSQL (non-relational) database management system that provides high performance, high availability, and easy scalability. It stores data in a flexible, JSON-like format called BSON (Binary JSON), which allows for a more dynamic and schema-less approach to data storage.\n",
        "\n",
        "**Non-relational databases**, or NoSQL databases, are databases that do not use the traditional tabular structure of relational databases. Instead, they use various data models such as document-based, key-value pairs, graph-based, or columnar-based.\n",
        "\n",
        "In short, non-relational databases are characterized by:\n",
        "\n",
        "1. **Flexible Schema:** NoSQL databases typically have a flexible schema, allowing for dynamic changes to data structure without requiring predefined schemas.\n",
        "\n",
        "2. **Scalability:** NoSQL databases are designed for horizontal scalability, enabling them to handle large volumes of data across distributed clusters of servers.\n",
        "\n",
        "3. **Performance:** NoSQL databases are optimized for specific use cases, such as high-volume data storage, real-time analytics, or rapid data retrieval.\n",
        "\n",
        "4. **Variety of Models:** NoSQL databases support various data models, each optimized for different types of data and access patterns.\n",
        "\n",
        "5. **Eventual Consistency:** Some NoSQL databases prioritize availability and partition tolerance over strict consistency, providing eventual consistency rather than immediate consistency.\n",
        "\n",
        "**Scenarios where MongoDB is preferred over SQL databases:**\n",
        "\n",
        "1. **Schema Flexibility:** MongoDB allows for dynamic schemas, making it suitable for applications where the data structure is evolving or unknown in advance.\n",
        "\n",
        "2. **Document-Oriented Data:** MongoDB stores data in JSON-like documents, which is advantageous for applications dealing with nested or hierarchical data.\n",
        "\n",
        "3. **Scalability:** MongoDB is designed for horizontal scalability, making it a good choice for applications that need to scale out across multiple servers or clusters.\n",
        "\n",
        "4. **Big Data and Real-time Analytics:** MongoDB is well-suited for handling big data and real-time analytics, especially for applications requiring fast read and write operations.\n",
        "\n",
        "5. **High Availability:** MongoDB offers built-in replication and auto-sharding features, providing high availability and fault tolerance.\n",
        "\n",
        "6. **Development Speed:** MongoDB's flexible schema and document-oriented data model can lead to faster development cycles, especially in agile environments where requirements change frequently.\n",
        "\n",
        "In summary, MongoDB is preferred over SQL databases in scenarios where flexibility, scalability, and performance are key requirements, such as web applications, content management systems, real-time analytics, and IoT applications."
      ],
      "metadata": {
        "id": "bAZ7WlHRYoEp"
      }
    },
    {
      "cell_type": "markdown",
      "source": [
        "Q2. State and Explain the features of MongoDB."
      ],
      "metadata": {
        "id": "1wUeOO9PYrT7"
      }
    },
    {
      "cell_type": "markdown",
      "source": [
        "MongoDB is a powerful NoSQL database management system known for its flexibility, scalability, and performance. Here are some key features of MongoDB:\n",
        "\n",
        "1. **Flexible Schema:**\n",
        "   - MongoDB is schema-less or schema-flexible, allowing you to store documents with varying structures in the same collection.\n",
        "   - Fields in MongoDB documents can vary from document to document, and data can be nested and hierarchical.\n",
        "\n",
        "2. **Document-Oriented:**\n",
        "   - MongoDB stores data in a JSON-like format called BSON (Binary JSON), which makes it easy to work with for developers.\n",
        "   - Data is stored in flexible, self-describing documents, making it suitable for representing real-world objects.\n",
        "\n",
        "3. **High Performance:**\n",
        "   - MongoDB provides high performance for both read and write operations.\n",
        "   - It supports indexing, which allows for efficient querying and retrieval of data.\n",
        "   - MongoDB also supports sharding, which distributes data across multiple servers, improving scalability and performance for large datasets.\n",
        "\n",
        "4. **Horizontal Scalability:**\n",
        "   - MongoDB is designed to scale out horizontally across multiple servers or clusters.\n",
        "   - It supports automatic data partitioning and distribution through sharding, allowing you to handle large volumes of data with ease.\n",
        "\n",
        "5. **Ad Hoc Queries:**\n",
        "   - MongoDB supports rich query capabilities, including queries on nested fields, range queries, regular expressions, and more.\n",
        "   - It also supports geospatial queries, text search, and aggregation framework for advanced analytics.\n",
        "\n",
        "6. **High Availability:**\n",
        "   - MongoDB provides built-in replication with automatic failover, ensuring high availability and data durability.\n",
        "   - Replica sets in MongoDB provide fault tolerance and data redundancy, allowing for continuous operation in case of node failures.\n",
        "\n",
        "7. **Horizontal Scalability:**\n",
        "   - MongoDB is designed to scale out horizontally across multiple servers or clusters.\n",
        "   - It supports automatic data partitioning and distribution through sharding, allowing you to handle large volumes of data with ease.\n",
        "\n",
        "8. **Flexible Deployment Options:**\n",
        "   - MongoDB can be deployed on-premises, in the cloud, or as a managed service through MongoDB Atlas.\n",
        "   - MongoDB Atlas provides automated backups, monitoring, and security features, making it easy to deploy and manage MongoDB clusters.\n",
        "\n",
        "9. **Security:**\n",
        "   - MongoDB provides robust security features, including authentication, role-based access control (RBAC), encryption at rest, and auditing.\n",
        "   - It supports SSL/TLS encryption for secure communication between clients and servers.\n",
        "\n",
        "10. **Aggregation Framework:**\n",
        "    - MongoDB's aggregation framework allows for complex data aggregation and analytics operations, such as grouping, sorting, filtering, and calculating aggregates.\n",
        "    - It supports a pipeline-based approach for composing aggregation operations, providing flexibility and performance.\n",
        "\n",
        "These features make MongoDB a popular choice for modern applications that require flexibility, scalability, and high performance for handling diverse and large volumes of data."
      ],
      "metadata": {
        "id": "IFSD9iwYYvN1"
      }
    },
    {
      "cell_type": "markdown",
      "source": [
        "Q3. Write a code to connect MongoDB to Python. Also, create a database and a collection in MongoDB."
      ],
      "metadata": {
        "id": "cYfz1_2NYzag"
      }
    },
    {
      "cell_type": "markdown",
      "source": [
        "To connect MongoDB to Python, you can use the `pymongo` library, which provides an interface for interacting with MongoDB databases. First, you need to install the library using pip:\n",
        "\n",
        "```\n",
        "pip install pymongo\n",
        "```\n",
        "\n",
        "Here's a Python code to connect to MongoDB, create a database, and create a collection:\n",
        "\n",
        "```python\n",
        "import pymongo\n",
        "\n",
        "# Connect to MongoDB\n",
        "client = pymongo.MongoClient(\"mongodb://localhost:27017/\")\n",
        "\n",
        "# Create a database\n",
        "mydb = client[\"mydatabase\"]\n",
        "\n",
        "# Create a collection\n",
        "mycol = mydb[\"customers\"]\n",
        "```\n",
        "\n",
        "Explanation:\n",
        "\n",
        "- `pymongo.MongoClient()`: This function connects to the MongoDB server running on localhost on the default port 27017. You can specify the URI for your MongoDB server if it's running on a different host or port.\n",
        "\n",
        "- `client[\"mydatabase\"]`: This creates a database named `mydatabase` if it doesn't already exist. If the database already exists, it will simply return a reference to it.\n",
        "\n",
        "- `mydb[\"customers\"]`: This creates a collection named `customers` within the `mydatabase` database. Similarly, if the collection already exists, it will return a reference to it.\n",
        "\n",
        "You can then perform various operations such as inserting documents, querying data, updating documents, and deleting documents in the collection `mycol`."
      ],
      "metadata": {
        "id": "dAKzkFauY3x1"
      }
    },
    {
      "cell_type": "markdown",
      "source": [
        "Q4. Using the database and the collection created in question number 3, write a code to insert one record,\n",
        "and insert many records. Use the find() and find_one() methods to print the inserted record."
      ],
      "metadata": {
        "id": "ms7SOzEPY57A"
      }
    },
    {
      "cell_type": "markdown",
      "source": [
        "Here's a Python code to insert one record and insert many records into the collection `customers`, and then use the `find()` and `find_one()` methods to print the inserted records:\n",
        "\n",
        "```python\n",
        "import pymongo\n",
        "\n",
        "# Connect to MongoDB\n",
        "client = pymongo.MongoClient(\"mongodb://localhost:27017/\")\n",
        "\n",
        "# Create a database\n",
        "mydb = client[\"mydatabase\"]\n",
        "\n",
        "# Create a collection\n",
        "mycol = mydb[\"customers\"]\n",
        "\n",
        "# Insert one record\n",
        "record_one = {\"name\": \"John\", \"address\": \"Highway 37\"}\n",
        "mycol.insert_one(record_one)\n",
        "\n",
        "# Insert many records\n",
        "records_many = [\n",
        "    {\"name\": \"Alice\", \"address\": \"Park Avenue\"},\n",
        "    {\"name\": \"Bob\", \"address\": \"Main Street\"},\n",
        "    {\"name\": \"Charlie\", \"address\": \"Broadway\"}\n",
        "]\n",
        "mycol.insert_many(records_many)\n",
        "\n",
        "# Print inserted records using find_one()\n",
        "print(\"One record inserted:\")\n",
        "print(mycol.find_one())\n",
        "\n",
        "# Print all inserted records using find()\n",
        "print(\"\\nAll records inserted:\")\n",
        "for record in mycol.find():\n",
        "    print(record)\n",
        "```\n",
        "\n",
        "Explanation:\n",
        "\n",
        "- `insert_one()`: This method inserts one document into the collection.\n",
        "- `insert_many()`: This method inserts multiple documents into the collection.\n",
        "- `find_one()`: This method retrieves the first document that matches the query criteria.\n",
        "- `find()`: This method retrieves all documents that match the query criteria.\n",
        "\n",
        "In this code:\n",
        "\n",
        "- One record with the name \"John\" and address \"Highway 37\" is inserted using `insert_one()`.\n",
        "- Multiple records are inserted using `insert_many()`.\n",
        "- The inserted records are printed using `find_one()` to print the first inserted record, and `find()` to print all inserted records."
      ],
      "metadata": {
        "id": "bQmjmZC0Y-Jj"
      }
    },
    {
      "cell_type": "markdown",
      "source": [
        "Q5. Explain how you can use the find() method to query the MongoDB database. Write a simple code to\n",
        "demonstrate this."
      ],
      "metadata": {
        "id": "R55gd_EOZBEg"
      }
    },
    {
      "cell_type": "markdown",
      "source": [
        "In MongoDB, the `find()` method is used to query documents from a collection based on specified criteria. It returns a cursor object that allows you to iterate over the matching documents.\n",
        "\n",
        "### Using the `find()` method:\n",
        "\n",
        "The `find()` method can accept various parameters to filter documents, project specific fields, and sort the results.\n",
        "\n",
        "**Syntax:**\n",
        "```python\n",
        "cursor = collection.find(query, projection)\n",
        "```\n",
        "\n",
        "- `query`: Specifies the query criteria. It can be used to filter documents based on field values.\n",
        "- `projection`: Specifies the fields to include or exclude in the result set.\n",
        "\n",
        "### Example:\n",
        "\n",
        "Let's consider a collection named `customers` with documents representing customer data:\n",
        "\n",
        "```python\n",
        "import pymongo\n",
        "\n",
        "# Connect to MongoDB\n",
        "client = pymongo.MongoClient(\"mongodb://localhost:27017/\")\n",
        "\n",
        "# Access the database\n",
        "mydb = client[\"mydatabase\"]\n",
        "\n",
        "# Access the collection\n",
        "mycol = mydb[\"customers\"]\n",
        "\n",
        "# Find documents where the address starts with \"Park\"\n",
        "query = {\"address\": {\"$regex\": \"^Park\"}}\n",
        "projection = {\"_id\": 0, \"name\": 1, \"address\": 1}  # Only include name and address fields\n",
        "\n",
        "cursor = mycol.find(query, projection)\n",
        "\n",
        "# Print the matching documents\n",
        "for document in cursor:\n",
        "    print(document)\n",
        "```\n",
        "\n",
        "In this example:\n",
        "\n",
        "- We connect to MongoDB and access the `mydatabase` database and the `customers` collection.\n",
        "- We define a query to find documents where the `address` field starts with \"Park\" using a regular expression (`$regex`).\n",
        "- We specify a projection to include only the `name` and `address` fields and exclude the `_id` field.\n",
        "- We use the `find()` method with the query and projection as parameters to retrieve the matching documents.\n",
        "- We iterate over the cursor and print each matching document.\n",
        "\n",
        "This will print all documents where the address starts with \"Park\" and includes only the `name` and `address` fields."
      ],
      "metadata": {
        "id": "z8FZC5qDZEsL"
      }
    },
    {
      "cell_type": "markdown",
      "source": [
        "Q6. Explain the sort() method. Give an example to demonstrate sorting in MongoDB."
      ],
      "metadata": {
        "id": "sA-7lYprZHfx"
      }
    },
    {
      "cell_type": "markdown",
      "source": [
        "In MongoDB, the `sort()` method is used to sort the documents returned by a query. It allows you to specify one or more fields to sort the documents by and the sorting order (ascending or descending).\n",
        "\n",
        "### Syntax:\n",
        "\n",
        "```python\n",
        "cursor = collection.find(query).sort(sort_key, sort_order)\n",
        "```\n",
        "\n",
        "- `query`: Specifies the query criteria.\n",
        "- `sort_key`: Specifies the field to sort by.\n",
        "- `sort_order`: Specifies the sorting order. It can be either `pymongo.ASCENDING` (1) for ascending order or `pymongo.DESCENDING` (-1) for descending order.\n",
        "\n",
        "### Example:\n",
        "\n",
        "Let's consider a collection named `customers` with documents representing customer data:\n",
        "\n",
        "```python\n",
        "import pymongo\n",
        "\n",
        "# Connect to MongoDB\n",
        "client = pymongo.MongoClient(\"mongodb://localhost:27017/\")\n",
        "\n",
        "# Access the database\n",
        "mydb = client[\"mydatabase\"]\n",
        "\n",
        "# Access the collection\n",
        "mycol = mydb[\"customers\"]\n",
        "\n",
        "# Find and sort documents by name in ascending order\n",
        "cursor = mycol.find().sort(\"name\", pymongo.ASCENDING)\n",
        "\n",
        "# Print the sorted documents\n",
        "for document in cursor:\n",
        "    print(document)\n",
        "```\n",
        "\n",
        "In this example:\n",
        "\n",
        "- We connect to MongoDB and access the `mydatabase` database and the `customers` collection.\n",
        "- We use the `find()` method to retrieve all documents from the collection.\n",
        "- We use the `sort()` method to sort the documents by the `name` field in ascending order.\n",
        "- We iterate over the cursor and print each sorted document.\n",
        "\n",
        "This will print all documents from the `customers` collection sorted by the `name` field in ascending order. You can change `pymongo.ASCENDING` to `pymongo.DESCENDING` to sort in descending order."
      ],
      "metadata": {
        "id": "yFGK1v8ZZMFY"
      }
    },
    {
      "cell_type": "markdown",
      "source": [
        "Q7. Explain why delete_one(), delete_many(), and drop() is used."
      ],
      "metadata": {
        "id": "I4Yd_4iRZQPn"
      }
    },
    {
      "cell_type": "markdown",
      "source": [
        "In MongoDB, the `delete_one()`, `delete_many()`, and `drop()` methods are used for different purposes to remove data or collections from the database.\n",
        "\n",
        "### `delete_one()` Method:\n",
        "\n",
        "The `delete_one()` method is used to delete a single document that matches the specified criteria from a collection.\n",
        "\n",
        "**Syntax:**\n",
        "```python\n",
        "collection.delete_one(filter)\n",
        "```\n",
        "\n",
        "- `filter`: Specifies the criteria to match the document to delete.\n",
        "\n",
        "**Example:**\n",
        "```python\n",
        "mycol.delete_one({\"name\": \"John\"})\n",
        "```\n",
        "\n",
        "This will delete the first document in the collection `mycol` where the `name` field is \"John\".\n",
        "\n",
        "### `delete_many()` Method:\n",
        "\n",
        "The `delete_many()` method is used to delete multiple documents that match the specified criteria from a collection.\n",
        "\n",
        "**Syntax:**\n",
        "```python\n",
        "collection.delete_many(filter)\n",
        "```\n",
        "\n",
        "- `filter`: Specifies the criteria to match the documents to delete.\n",
        "\n",
        "**Example:**\n",
        "```python\n",
        "mycol.delete_many({\"age\": {\"$lt\": 25}})\n",
        "```\n",
        "\n",
        "This will delete all documents in the collection `mycol` where the `age` field is less than 25.\n",
        "\n",
        "### `drop()` Method:\n",
        "\n",
        "The `drop()` method is used to delete an entire collection from the database.\n",
        "\n",
        "**Syntax:**\n",
        "```python\n",
        "collection.drop()\n",
        "```\n",
        "\n",
        "**Example:**\n",
        "```python\n",
        "mycol.drop()\n",
        "```\n",
        "\n",
        "This will delete the entire collection `mycol`, including all documents and indexes.\n",
        "\n",
        "### Use Cases:\n",
        "\n",
        "- **`delete_one()`:** Use this method when you want to remove a single specific document from a collection based on certain criteria.\n",
        "  \n",
        "- **`delete_many()`:** Use this method when you want to remove multiple documents from a collection based on certain criteria.\n",
        "\n",
        "- **`drop()`:** Use this method when you want to remove an entire collection from the database. This is useful when you want to remove all documents in a collection permanently.\n",
        "\n",
        "These methods provide flexibility for removing data from MongoDB collections, whether you need to remove specific documents or entire collections."
      ],
      "metadata": {
        "id": "ygvN2adCZUzG"
      }
    }
  ]
}