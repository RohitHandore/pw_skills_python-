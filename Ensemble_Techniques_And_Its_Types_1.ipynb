{
  "nbformat": 4,
  "nbformat_minor": 0,
  "metadata": {
    "colab": {
      "provenance": []
    },
    "kernelspec": {
      "name": "python3",
      "display_name": "Python 3"
    },
    "language_info": {
      "name": "python"
    }
  },
  "cells": [
    {
      "cell_type": "markdown",
      "source": [
        "Q1. What is an ensemble technique in machine learning?\n",
        "Q2. Why are ensemble techniques used in machine learning?\n",
        "Q3. What is bagging?\n",
        "Q4. What is boosting?\n",
        "Q5. What are the benefits of using ensemble techniques?\n",
        "Q6. Are ensemble techniques always better than individual models?\n",
        "Q7. How is the confidence interval calculated using bootstrap?\n",
        "Q8. How does bootstrap work and What are the steps involved in bootstrap?\n",
        "Q9. A researcher wants to estimate the mean height of a population of trees. They measure the height of a\n",
        "sample of 50 trees and obtain a mean height of 15 meters and a standard deviation of 2 meters. Use\n",
        "bootstrap to estimate the 95% confidence interval for the population mean height."
      ],
      "metadata": {
        "id": "EVrPYERgz36J"
      }
    },
    {
      "cell_type": "markdown",
      "source": [
        "Here are the answers to your questions:\n",
        "\n",
        "1. An ensemble technique in machine learning is a method that combines the predictions of multiple base models to produce a more accurate and robust prediction.\n",
        "\n",
        "2. Ensemble techniques are used in machine learning to improve the accuracy and robustness of predictions by combining the strengths of multiple models. This can help to reduce overfitting, improve generalization, and increase the confidence of predictions.\n",
        "\n",
        "3. Bagging (Bootstrap Aggregating) is an ensemble technique that combines the predictions of multiple models trained on different subsets of the training data. Each model is trained on a random sample of the data, and the predictions are combined to produce a final prediction.\n",
        "\n",
        "4. Boosting is an ensemble technique that combines the predictions of multiple models, where each model is trained on the residuals of the previous model. This helps to correct the errors of the previous model and improve the overall accuracy of the predictions.\n",
        "\n",
        "5. The benefits of using ensemble techniques include:\n",
        "\n",
        "- Improved accuracy and robustness\n",
        "- Reduced overfitting\n",
        "- Increased confidence of predictions\n",
        "- Ability to handle complex data and non-linear relationships\n",
        "- Flexibility to combine different models and techniques\n",
        "\n",
        "1. Ensemble techniques are not always better than individual models. The performance of an ensemble depends on the quality of the base models and the combination method used. In some cases, a single well-performing model may outperform an ensemble.\n",
        "\n",
        "2. The confidence interval calculated using bootstrap is a range of values within which the true population parameter is likely to lie. It is calculated by repeatedly sampling the data with replacement, calculating the statistic of interest (e.g. mean), and using the distribution of the statistic to estimate the confidence interval.\n",
        "\n",
        "3. Bootstrap works by repeatedly sampling the data with replacement, calculating the statistic of interest, and using the distribution of the statistic to estimate the confidence interval. The steps involved in bootstrap are:\n",
        "\n",
        "- Sample the data with replacement\n",
        "- Calculate the statistic of interest (e.g. mean)\n",
        "- Repeat steps 1-2 multiple times\n",
        "- Use the distribution of the statistic to estimate the confidence interval\n",
        "\n",
        "1. To estimate the 95% confidence interval for the population mean height using bootstrap, the researcher can follow these steps:\n",
        "\n",
        "- Sample the data with replacement 1000 times\n",
        "- Calculate the mean height for each sample\n",
        "- Use the distribution of the mean heights to estimate the 95% confidence interval\n",
        "\n",
        "For example, let's say the mean heights for the 1000 samples are:\n",
        "\n",
        "[14.5, 15.2, 14.8, 15.1, 14.9, ...]\n",
        "\n",
        "The 95% confidence interval can be estimated by finding the 2.5th and 97.5th percentiles of the distribution, which may be approximately:\n",
        "\n",
        "(14.7, 15.3)\n",
        "\n",
        "This indicates that the researcher can be 95% confident that the true population mean height lies between 14.7 and 15.3 meters."
      ],
      "metadata": {
        "id": "pWaldnncz8RJ"
      }
    }
  ]
}